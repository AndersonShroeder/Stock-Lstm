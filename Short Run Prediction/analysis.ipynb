{
 "cells": [
  {
   "cell_type": "markdown",
   "metadata": {},
   "source": [
    "<h2>1 - Data Preperation<h2>"
   ]
  },
  {
   "cell_type": "markdown",
   "metadata": {},
   "source": [
    "<h3>1.1 - Importing Data/Libraries</h3>"
   ]
  },
  {
   "cell_type": "markdown",
   "metadata": {},
   "source": [
    "<p> We begin by importing the stock and reddit data we have gathered.</p>"
   ]
  },
  {
   "cell_type": "code",
   "execution_count": 141,
   "metadata": {},
   "outputs": [],
   "source": [
    "import pandas as pd\n",
    "from Analyzer import Analyzer\n",
    "from LSTM import LSTM"
   ]
  },
  {
   "cell_type": "code",
   "execution_count": 142,
   "metadata": {},
   "outputs": [],
   "source": [
    "df1 = pd.read_json('./Datasets/generated_data_Economics.json')\n",
    "df2 = pd.read_csv('./Datasets/VOO.csv')"
   ]
  },
  {
   "cell_type": "code",
   "execution_count": 143,
   "metadata": {},
   "outputs": [
    {
     "data": {
      "text/html": [
       "<div>\n",
       "<style scoped>\n",
       "    .dataframe tbody tr th:only-of-type {\n",
       "        vertical-align: middle;\n",
       "    }\n",
       "\n",
       "    .dataframe tbody tr th {\n",
       "        vertical-align: top;\n",
       "    }\n",
       "\n",
       "    .dataframe thead th {\n",
       "        text-align: right;\n",
       "    }\n",
       "</style>\n",
       "<table border=\"1\" class=\"dataframe\">\n",
       "  <thead>\n",
       "    <tr style=\"text-align: right;\">\n",
       "      <th></th>\n",
       "      <th>Economics</th>\n",
       "    </tr>\n",
       "  </thead>\n",
       "  <tbody>\n",
       "    <tr>\n",
       "      <th>2022-09-01 12:40:00</th>\n",
       "      <td>{'polarity': 0.4, 'subjectivity': 0.7000000000...</td>\n",
       "    </tr>\n",
       "    <tr>\n",
       "      <th>2022-09-01 12:42:00</th>\n",
       "      <td>{'polarity': 0.5, 'subjectivity': 0.6000000000...</td>\n",
       "    </tr>\n",
       "    <tr>\n",
       "      <th>2022-09-01 12:43:00</th>\n",
       "      <td>{'polarity': 0.1, 'subjectivity': 0.4, 'compou...</td>\n",
       "    </tr>\n",
       "    <tr>\n",
       "      <th>2022-09-01 12:44:00</th>\n",
       "      <td>{'polarity': 0.5, 'subjectivity': 0.925, 'comp...</td>\n",
       "    </tr>\n",
       "    <tr>\n",
       "      <th>2022-09-01 12:47:00</th>\n",
       "      <td>{'polarity': 0.1071428571, 'subjectivity': 0.3...</td>\n",
       "    </tr>\n",
       "  </tbody>\n",
       "</table>\n",
       "</div>"
      ],
      "text/plain": [
       "                                                             Economics\n",
       "2022-09-01 12:40:00  {'polarity': 0.4, 'subjectivity': 0.7000000000...\n",
       "2022-09-01 12:42:00  {'polarity': 0.5, 'subjectivity': 0.6000000000...\n",
       "2022-09-01 12:43:00  {'polarity': 0.1, 'subjectivity': 0.4, 'compou...\n",
       "2022-09-01 12:44:00  {'polarity': 0.5, 'subjectivity': 0.925, 'comp...\n",
       "2022-09-01 12:47:00  {'polarity': 0.1071428571, 'subjectivity': 0.3..."
      ]
     },
     "execution_count": 143,
     "metadata": {},
     "output_type": "execute_result"
    }
   ],
   "source": [
    "#Subreddit Data\n",
    "df1.head()"
   ]
  },
  {
   "cell_type": "code",
   "execution_count": 144,
   "metadata": {},
   "outputs": [
    {
     "data": {
      "text/html": [
       "<div>\n",
       "<style scoped>\n",
       "    .dataframe tbody tr th:only-of-type {\n",
       "        vertical-align: middle;\n",
       "    }\n",
       "\n",
       "    .dataframe tbody tr th {\n",
       "        vertical-align: top;\n",
       "    }\n",
       "\n",
       "    .dataframe thead th {\n",
       "        text-align: right;\n",
       "    }\n",
       "</style>\n",
       "<table border=\"1\" class=\"dataframe\">\n",
       "  <thead>\n",
       "    <tr style=\"text-align: right;\">\n",
       "      <th></th>\n",
       "      <th>Unnamed: 0</th>\n",
       "      <th>Adj Close</th>\n",
       "    </tr>\n",
       "  </thead>\n",
       "  <tbody>\n",
       "    <tr>\n",
       "      <th>0</th>\n",
       "      <td>2022-08-29 09:30:00-04:00</td>\n",
       "      <td>369.648010</td>\n",
       "    </tr>\n",
       "    <tr>\n",
       "      <th>1</th>\n",
       "      <td>2022-08-29 09:31:00-04:00</td>\n",
       "      <td>369.799988</td>\n",
       "    </tr>\n",
       "    <tr>\n",
       "      <th>2</th>\n",
       "      <td>2022-08-29 09:33:00-04:00</td>\n",
       "      <td>370.220001</td>\n",
       "    </tr>\n",
       "    <tr>\n",
       "      <th>3</th>\n",
       "      <td>2022-08-29 09:34:00-04:00</td>\n",
       "      <td>370.549988</td>\n",
       "    </tr>\n",
       "    <tr>\n",
       "      <th>4</th>\n",
       "      <td>2022-08-29 09:35:00-04:00</td>\n",
       "      <td>370.299988</td>\n",
       "    </tr>\n",
       "  </tbody>\n",
       "</table>\n",
       "</div>"
      ],
      "text/plain": [
       "                  Unnamed: 0   Adj Close\n",
       "0  2022-08-29 09:30:00-04:00  369.648010\n",
       "1  2022-08-29 09:31:00-04:00  369.799988\n",
       "2  2022-08-29 09:33:00-04:00  370.220001\n",
       "3  2022-08-29 09:34:00-04:00  370.549988\n",
       "4  2022-08-29 09:35:00-04:00  370.299988"
      ]
     },
     "execution_count": 144,
     "metadata": {},
     "output_type": "execute_result"
    }
   ],
   "source": [
    "#Stock Data\n",
    "df2.head()"
   ]
  },
  {
   "cell_type": "markdown",
   "metadata": {},
   "source": [
    "<h3>1.2 - Preparing The Subreddit Sentiment Data </h3>"
   ]
  },
  {
   "cell_type": "markdown",
   "metadata": {},
   "source": []
  },
  {
   "cell_type": "code",
   "execution_count": 145,
   "metadata": {},
   "outputs": [
    {
     "data": {
      "text/html": [
       "<div>\n",
       "<style scoped>\n",
       "    .dataframe tbody tr th:only-of-type {\n",
       "        vertical-align: middle;\n",
       "    }\n",
       "\n",
       "    .dataframe tbody tr th {\n",
       "        vertical-align: top;\n",
       "    }\n",
       "\n",
       "    .dataframe thead th {\n",
       "        text-align: right;\n",
       "    }\n",
       "</style>\n",
       "<table border=\"1\" class=\"dataframe\">\n",
       "  <thead>\n",
       "    <tr style=\"text-align: right;\">\n",
       "      <th></th>\n",
       "      <th>date</th>\n",
       "      <th>time</th>\n",
       "      <th>Economics</th>\n",
       "    </tr>\n",
       "  </thead>\n",
       "  <tbody>\n",
       "    <tr>\n",
       "      <th>0</th>\n",
       "      <td>2022-09-01</td>\n",
       "      <td>[2022-09-01 12:40:00, 2022-09-01 12:42:00, 202...</td>\n",
       "      <td>[{'polarity': 0.4, 'subjectivity': 0.700000000...</td>\n",
       "    </tr>\n",
       "    <tr>\n",
       "      <th>1</th>\n",
       "      <td>2022-09-02</td>\n",
       "      <td>[2022-09-02 09:41:00, 2022-09-02 09:42:00, 202...</td>\n",
       "      <td>[{'polarity': 0.0, 'subjectivity': 0.0, 'compo...</td>\n",
       "    </tr>\n",
       "    <tr>\n",
       "      <th>2</th>\n",
       "      <td>2022-09-03</td>\n",
       "      <td>[2022-09-03 09:36:00, 2022-09-03 09:38:00, 202...</td>\n",
       "      <td>[{'polarity': 0.1, 'subjectivity': 1.3, 'compo...</td>\n",
       "    </tr>\n",
       "    <tr>\n",
       "      <th>3</th>\n",
       "      <td>2022-09-04</td>\n",
       "      <td>[2022-09-04 09:42:00, 2022-09-04 09:43:00, 202...</td>\n",
       "      <td>[{'polarity': 0.0, 'subjectivity': 0.0, 'compo...</td>\n",
       "    </tr>\n",
       "    <tr>\n",
       "      <th>4</th>\n",
       "      <td>2022-09-05</td>\n",
       "      <td>[2022-09-05 12:56:00, 2022-09-05 13:00:00, 202...</td>\n",
       "      <td>[{'polarity': 0.0, 'subjectivity': 0.0, 'compo...</td>\n",
       "    </tr>\n",
       "  </tbody>\n",
       "</table>\n",
       "</div>"
      ],
      "text/plain": [
       "         date                                               time  \\\n",
       "0  2022-09-01  [2022-09-01 12:40:00, 2022-09-01 12:42:00, 202...   \n",
       "1  2022-09-02  [2022-09-02 09:41:00, 2022-09-02 09:42:00, 202...   \n",
       "2  2022-09-03  [2022-09-03 09:36:00, 2022-09-03 09:38:00, 202...   \n",
       "3  2022-09-04  [2022-09-04 09:42:00, 2022-09-04 09:43:00, 202...   \n",
       "4  2022-09-05  [2022-09-05 12:56:00, 2022-09-05 13:00:00, 202...   \n",
       "\n",
       "                                           Economics  \n",
       "0  [{'polarity': 0.4, 'subjectivity': 0.700000000...  \n",
       "1  [{'polarity': 0.0, 'subjectivity': 0.0, 'compo...  \n",
       "2  [{'polarity': 0.1, 'subjectivity': 1.3, 'compo...  \n",
       "3  [{'polarity': 0.0, 'subjectivity': 0.0, 'compo...  \n",
       "4  [{'polarity': 0.0, 'subjectivity': 0.0, 'compo...  "
      ]
     },
     "execution_count": 145,
     "metadata": {},
     "output_type": "execute_result"
    }
   ],
   "source": [
    "#Bring out date/time data from index\n",
    "df1.reset_index(inplace=True)\n",
    "df1['index'] = pd.to_datetime(df1['index'])\n",
    "df1['date'] = df1['index'].dt.date\n",
    "\n",
    "#Group times and their corresponding sentiment data into a list by day\n",
    "df1['time'] = df1['index']\n",
    "df1 = df1.groupby('date').agg(list)\n",
    "df1.reset_index(inplace=True)\n",
    "\n",
    "#Create final dataframe\n",
    "df1 = df1[['date', 'time', 'Economics']]\n",
    "df1.head()"
   ]
  },
  {
   "cell_type": "markdown",
   "metadata": {},
   "source": [
    "<h3>1.3 - Preparing The Stock Price Data<h3>"
   ]
  },
  {
   "cell_type": "code",
   "execution_count": 146,
   "metadata": {},
   "outputs": [
    {
     "data": {
      "text/html": [
       "<div>\n",
       "<style scoped>\n",
       "    .dataframe tbody tr th:only-of-type {\n",
       "        vertical-align: middle;\n",
       "    }\n",
       "\n",
       "    .dataframe tbody tr th {\n",
       "        vertical-align: top;\n",
       "    }\n",
       "\n",
       "    .dataframe thead th {\n",
       "        text-align: right;\n",
       "    }\n",
       "</style>\n",
       "<table border=\"1\" class=\"dataframe\">\n",
       "  <thead>\n",
       "    <tr style=\"text-align: right;\">\n",
       "      <th></th>\n",
       "      <th>price</th>\n",
       "      <th>date</th>\n",
       "      <th>time</th>\n",
       "    </tr>\n",
       "  </thead>\n",
       "  <tbody>\n",
       "    <tr>\n",
       "      <th>0</th>\n",
       "      <td>[369.6480102539063, 369.7999877929688, 370.220...</td>\n",
       "      <td>2022-08-29</td>\n",
       "      <td>[2022-08-29 09:30:00, 2022-08-29 09:31:00, 202...</td>\n",
       "    </tr>\n",
       "    <tr>\n",
       "      <th>1</th>\n",
       "      <td>[371.2200012207031, 370.760009765625, 371.0400...</td>\n",
       "      <td>2022-08-30</td>\n",
       "      <td>[2022-08-30 09:30:00, 2022-08-30 09:31:00, 202...</td>\n",
       "    </tr>\n",
       "    <tr>\n",
       "      <th>2</th>\n",
       "      <td>[367.0400085449219, 367.0700073242188, 366.660...</td>\n",
       "      <td>2022-08-31</td>\n",
       "      <td>[2022-08-31 09:30:00, 2022-08-31 09:31:00, 202...</td>\n",
       "    </tr>\n",
       "    <tr>\n",
       "      <th>3</th>\n",
       "      <td>[361.5299987792969, 360.8349914550781, 360.959...</td>\n",
       "      <td>2022-09-01</td>\n",
       "      <td>[2022-09-01 09:30:00, 2022-09-01 09:31:00, 202...</td>\n",
       "    </tr>\n",
       "    <tr>\n",
       "      <th>4</th>\n",
       "      <td>[367.3999938964844, 366.8800048828125, 366.709...</td>\n",
       "      <td>2022-09-02</td>\n",
       "      <td>[2022-09-02 09:30:00, 2022-09-02 09:31:00, 202...</td>\n",
       "    </tr>\n",
       "  </tbody>\n",
       "</table>\n",
       "</div>"
      ],
      "text/plain": [
       "                                               price        date  \\\n",
       "0  [369.6480102539063, 369.7999877929688, 370.220...  2022-08-29   \n",
       "1  [371.2200012207031, 370.760009765625, 371.0400...  2022-08-30   \n",
       "2  [367.0400085449219, 367.0700073242188, 366.660...  2022-08-31   \n",
       "3  [361.5299987792969, 360.8349914550781, 360.959...  2022-09-01   \n",
       "4  [367.3999938964844, 366.8800048828125, 366.709...  2022-09-02   \n",
       "\n",
       "                                                time  \n",
       "0  [2022-08-29 09:30:00, 2022-08-29 09:31:00, 202...  \n",
       "1  [2022-08-30 09:30:00, 2022-08-30 09:31:00, 202...  \n",
       "2  [2022-08-31 09:30:00, 2022-08-31 09:31:00, 202...  \n",
       "3  [2022-09-01 09:30:00, 2022-09-01 09:31:00, 202...  \n",
       "4  [2022-09-02 09:30:00, 2022-09-02 09:31:00, 202...  "
      ]
     },
     "execution_count": 146,
     "metadata": {},
     "output_type": "execute_result"
    }
   ],
   "source": [
    "#Bring out date/time data from index\n",
    "df2['date_time'] = pd.to_datetime(df2['Unnamed: 0'])\n",
    "df2['date'] = df2['date_time'].dt.date\n",
    "df2['time'] = df2['date_time'].dt.tz_localize(None)\n",
    "\n",
    "#Group times and their corresponding price data into a list by day\n",
    "df2 = df2.groupby('date').agg(list)\n",
    "df2.reset_index(inplace=True)\n",
    "\n",
    "#Create Final Dataframe\n",
    "df2.rename(columns={'Adj Close': 'price'}, inplace=True)\n",
    "df2 = df2[['price', 'date', 'time']]\n",
    "df2.head(5)\n"
   ]
  },
  {
   "cell_type": "markdown",
   "metadata": {},
   "source": [
    "<h3>1.4 - Merging The Sentiment Data And Stock Price Data<h3>"
   ]
  },
  {
   "cell_type": "code",
   "execution_count": 147,
   "metadata": {},
   "outputs": [
    {
     "data": {
      "text/html": [
       "<div>\n",
       "<style scoped>\n",
       "    .dataframe tbody tr th:only-of-type {\n",
       "        vertical-align: middle;\n",
       "    }\n",
       "\n",
       "    .dataframe tbody tr th {\n",
       "        vertical-align: top;\n",
       "    }\n",
       "\n",
       "    .dataframe thead th {\n",
       "        text-align: right;\n",
       "    }\n",
       "</style>\n",
       "<table border=\"1\" class=\"dataframe\">\n",
       "  <thead>\n",
       "    <tr style=\"text-align: right;\">\n",
       "      <th></th>\n",
       "      <th>date</th>\n",
       "      <th>sentiment_time</th>\n",
       "      <th>Economics</th>\n",
       "      <th>price</th>\n",
       "      <th>stock_time</th>\n",
       "      <th>na</th>\n",
       "    </tr>\n",
       "  </thead>\n",
       "  <tbody>\n",
       "    <tr>\n",
       "      <th>0</th>\n",
       "      <td>2022-09-01</td>\n",
       "      <td>[2022-09-01 12:40:00, 2022-09-01 12:42:00, 202...</td>\n",
       "      <td>[{'polarity': 0.4, 'subjectivity': 0.700000000...</td>\n",
       "      <td>[361.5299987792969, 360.8349914550781, 360.959...</td>\n",
       "      <td>[2022-09-01 09:30:00, 2022-09-01 09:31:00, 202...</td>\n",
       "      <td>NaN</td>\n",
       "    </tr>\n",
       "    <tr>\n",
       "      <th>1</th>\n",
       "      <td>2022-09-02</td>\n",
       "      <td>[2022-09-02 09:41:00, 2022-09-02 09:42:00, 202...</td>\n",
       "      <td>[{'polarity': 0.0, 'subjectivity': 0.0, 'compo...</td>\n",
       "      <td>[367.3999938964844, 366.8800048828125, 366.709...</td>\n",
       "      <td>[2022-09-02 09:30:00, 2022-09-02 09:31:00, 202...</td>\n",
       "      <td>NaN</td>\n",
       "    </tr>\n",
       "    <tr>\n",
       "      <th>5</th>\n",
       "      <td>2022-09-06</td>\n",
       "      <td>[2022-09-06 12:30:00, 2022-09-06 12:46:00, 202...</td>\n",
       "      <td>[{'polarity': 0.8, 'subjectivity': 1.0, 'compo...</td>\n",
       "      <td>[362.0299987792969, 361.6700134277344, 361.609...</td>\n",
       "      <td>[2022-09-06 09:30:00, 2022-09-06 09:31:00, 202...</td>\n",
       "      <td>NaN</td>\n",
       "    </tr>\n",
       "    <tr>\n",
       "      <th>6</th>\n",
       "      <td>2022-09-07</td>\n",
       "      <td>[2022-09-07 12:40:00, 2022-09-07 12:46:00, 202...</td>\n",
       "      <td>[{'polarity': 0.1, 'subjectivity': 0.700000000...</td>\n",
       "      <td>[358.7699890136719, 359.3039855957031, 359.040...</td>\n",
       "      <td>[2022-09-07 09:30:00, 2022-09-07 09:31:00, 202...</td>\n",
       "      <td>NaN</td>\n",
       "    </tr>\n",
       "    <tr>\n",
       "      <th>7</th>\n",
       "      <td>2022-09-08</td>\n",
       "      <td>[2022-09-08 13:00:00, 2022-09-08 13:01:00, 202...</td>\n",
       "      <td>[{'polarity': -0.2, 'subjectivity': 0.0, 'comp...</td>\n",
       "      <td>[362.5960083007813, 362.9599914550781, 362.929...</td>\n",
       "      <td>[2022-09-08 09:30:00, 2022-09-08 09:31:00, 202...</td>\n",
       "      <td>NaN</td>\n",
       "    </tr>\n",
       "  </tbody>\n",
       "</table>\n",
       "</div>"
      ],
      "text/plain": [
       "        date                                     sentiment_time  \\\n",
       "0 2022-09-01  [2022-09-01 12:40:00, 2022-09-01 12:42:00, 202...   \n",
       "1 2022-09-02  [2022-09-02 09:41:00, 2022-09-02 09:42:00, 202...   \n",
       "5 2022-09-06  [2022-09-06 12:30:00, 2022-09-06 12:46:00, 202...   \n",
       "6 2022-09-07  [2022-09-07 12:40:00, 2022-09-07 12:46:00, 202...   \n",
       "7 2022-09-08  [2022-09-08 13:00:00, 2022-09-08 13:01:00, 202...   \n",
       "\n",
       "                                           Economics  \\\n",
       "0  [{'polarity': 0.4, 'subjectivity': 0.700000000...   \n",
       "1  [{'polarity': 0.0, 'subjectivity': 0.0, 'compo...   \n",
       "5  [{'polarity': 0.8, 'subjectivity': 1.0, 'compo...   \n",
       "6  [{'polarity': 0.1, 'subjectivity': 0.700000000...   \n",
       "7  [{'polarity': -0.2, 'subjectivity': 0.0, 'comp...   \n",
       "\n",
       "                                               price  \\\n",
       "0  [361.5299987792969, 360.8349914550781, 360.959...   \n",
       "1  [367.3999938964844, 366.8800048828125, 366.709...   \n",
       "5  [362.0299987792969, 361.6700134277344, 361.609...   \n",
       "6  [358.7699890136719, 359.3039855957031, 359.040...   \n",
       "7  [362.5960083007813, 362.9599914550781, 362.929...   \n",
       "\n",
       "                                          stock_time  na  \n",
       "0  [2022-09-01 09:30:00, 2022-09-01 09:31:00, 202... NaN  \n",
       "1  [2022-09-02 09:30:00, 2022-09-02 09:31:00, 202... NaN  \n",
       "5  [2022-09-06 09:30:00, 2022-09-06 09:31:00, 202... NaN  \n",
       "6  [2022-09-07 09:30:00, 2022-09-07 09:31:00, 202... NaN  \n",
       "7  [2022-09-08 09:30:00, 2022-09-08 09:31:00, 202... NaN  "
      ]
     },
     "execution_count": 147,
     "metadata": {},
     "output_type": "execute_result"
    }
   ],
   "source": [
    "#merge stock/sentiment data according to the date value\n",
    "df = pd.merge(df1, df2, how='outer', on='date')\n",
    "df['date'] =  pd.to_datetime(df['date'])\n",
    "df.rename(columns={'time_x': 'sentiment_time', 'time_y':'stock_time'}, inplace=True)\n",
    "\n",
    "#get rid of rows that have no sentiment data\n",
    "df.dropna(inplace=True)\n",
    "df['na'] = np.nan\n",
    "df.head()"
   ]
  },
  {
   "cell_type": "markdown",
   "metadata": {},
   "source": [
    "<h3>1.5 - Determining Percent Change In Price<h3>"
   ]
  },
  {
   "cell_type": "code",
   "execution_count": 148,
   "metadata": {},
   "outputs": [
    {
     "data": {
      "text/html": [
       "<div>\n",
       "<style scoped>\n",
       "    .dataframe tbody tr th:only-of-type {\n",
       "        vertical-align: middle;\n",
       "    }\n",
       "\n",
       "    .dataframe tbody tr th {\n",
       "        vertical-align: top;\n",
       "    }\n",
       "\n",
       "    .dataframe thead th {\n",
       "        text-align: right;\n",
       "    }\n",
       "</style>\n",
       "<table border=\"1\" class=\"dataframe\">\n",
       "  <thead>\n",
       "    <tr style=\"text-align: right;\">\n",
       "      <th></th>\n",
       "      <th>date</th>\n",
       "      <th>sentiment_time</th>\n",
       "      <th>Economics</th>\n",
       "      <th>price</th>\n",
       "      <th>stock_time</th>\n",
       "      <th>na</th>\n",
       "      <th>price_diff</th>\n",
       "      <th>percent_change</th>\n",
       "    </tr>\n",
       "  </thead>\n",
       "  <tbody>\n",
       "    <tr>\n",
       "      <th>0</th>\n",
       "      <td>2022-09-01</td>\n",
       "      <td>[2022-09-01 12:40:00, 2022-09-01 12:42:00, 202...</td>\n",
       "      <td>[{'polarity': 0.4, 'subjectivity': 0.700000000...</td>\n",
       "      <td>[361.5299987792969, 360.8349914550781, 360.959...</td>\n",
       "      <td>[2022-09-01 09:30:00, 2022-09-01 09:31:00, 202...</td>\n",
       "      <td>NaN</td>\n",
       "      <td>[-2.850006103515625, -0.69500732421875, 0.125,...</td>\n",
       "      <td>[-0.7883180132046159, -0.19261084447938703, 0....</td>\n",
       "    </tr>\n",
       "    <tr>\n",
       "      <th>1</th>\n",
       "      <td>2022-09-02</td>\n",
       "      <td>[2022-09-02 09:41:00, 2022-09-02 09:42:00, 202...</td>\n",
       "      <td>[{'polarity': 0.0, 'subjectivity': 0.0, 'compo...</td>\n",
       "      <td>[367.3999938964844, 366.8800048828125, 366.709...</td>\n",
       "      <td>[2022-09-02 09:30:00, 2022-09-02 09:31:00, 202...</td>\n",
       "      <td>NaN</td>\n",
       "      <td>[6.850006103515568, -0.519989013671875, -0.170...</td>\n",
       "      <td>[1.8644546046033876, -0.1417327209854263, -0.0...</td>\n",
       "    </tr>\n",
       "    <tr>\n",
       "      <th>5</th>\n",
       "      <td>2022-09-06</td>\n",
       "      <td>[2022-09-06 12:30:00, 2022-09-06 12:46:00, 202...</td>\n",
       "      <td>[{'polarity': 0.8, 'subjectivity': 1.0, 'compo...</td>\n",
       "      <td>[362.0299987792969, 361.6700134277344, 361.609...</td>\n",
       "      <td>[2022-09-06 09:30:00, 2022-09-06 09:31:00, 202...</td>\n",
       "      <td>NaN</td>\n",
       "      <td>[2.839996337890625, -0.3599853515625, -0.06002...</td>\n",
       "      <td>[0.7844643668940712, -0.09953419918636108, -0....</td>\n",
       "    </tr>\n",
       "    <tr>\n",
       "      <th>6</th>\n",
       "      <td>2022-09-07</td>\n",
       "      <td>[2022-09-07 12:40:00, 2022-09-07 12:46:00, 202...</td>\n",
       "      <td>[{'polarity': 0.1, 'subjectivity': 0.700000000...</td>\n",
       "      <td>[358.7699890136719, 359.3039855957031, 359.040...</td>\n",
       "      <td>[2022-09-07 09:30:00, 2022-09-07 09:31:00, 202...</td>\n",
       "      <td>NaN</td>\n",
       "      <td>[-6.920013427734432, 0.53399658203125, -0.2639...</td>\n",
       "      <td>[-1.928816132798311, 0.14861972130532247, -0.0...</td>\n",
       "    </tr>\n",
       "    <tr>\n",
       "      <th>7</th>\n",
       "      <td>2022-09-08</td>\n",
       "      <td>[2022-09-08 13:00:00, 2022-09-08 13:01:00, 202...</td>\n",
       "      <td>[{'polarity': -0.2, 'subjectivity': 0.0, 'comp...</td>\n",
       "      <td>[362.5960083007813, 362.9599914550781, 362.929...</td>\n",
       "      <td>[2022-09-08 09:30:00, 2022-09-08 09:31:00, 202...</td>\n",
       "      <td>NaN</td>\n",
       "      <td>[-5.4739990234375, 0.36398315429681816, -0.029...</td>\n",
       "      <td>[-1.5096688595911674, 0.10028189411114934, -0....</td>\n",
       "    </tr>\n",
       "  </tbody>\n",
       "</table>\n",
       "</div>"
      ],
      "text/plain": [
       "        date                                     sentiment_time  \\\n",
       "0 2022-09-01  [2022-09-01 12:40:00, 2022-09-01 12:42:00, 202...   \n",
       "1 2022-09-02  [2022-09-02 09:41:00, 2022-09-02 09:42:00, 202...   \n",
       "5 2022-09-06  [2022-09-06 12:30:00, 2022-09-06 12:46:00, 202...   \n",
       "6 2022-09-07  [2022-09-07 12:40:00, 2022-09-07 12:46:00, 202...   \n",
       "7 2022-09-08  [2022-09-08 13:00:00, 2022-09-08 13:01:00, 202...   \n",
       "\n",
       "                                           Economics  \\\n",
       "0  [{'polarity': 0.4, 'subjectivity': 0.700000000...   \n",
       "1  [{'polarity': 0.0, 'subjectivity': 0.0, 'compo...   \n",
       "5  [{'polarity': 0.8, 'subjectivity': 1.0, 'compo...   \n",
       "6  [{'polarity': 0.1, 'subjectivity': 0.700000000...   \n",
       "7  [{'polarity': -0.2, 'subjectivity': 0.0, 'comp...   \n",
       "\n",
       "                                               price  \\\n",
       "0  [361.5299987792969, 360.8349914550781, 360.959...   \n",
       "1  [367.3999938964844, 366.8800048828125, 366.709...   \n",
       "5  [362.0299987792969, 361.6700134277344, 361.609...   \n",
       "6  [358.7699890136719, 359.3039855957031, 359.040...   \n",
       "7  [362.5960083007813, 362.9599914550781, 362.929...   \n",
       "\n",
       "                                          stock_time  na  \\\n",
       "0  [2022-09-01 09:30:00, 2022-09-01 09:31:00, 202... NaN   \n",
       "1  [2022-09-02 09:30:00, 2022-09-02 09:31:00, 202... NaN   \n",
       "5  [2022-09-06 09:30:00, 2022-09-06 09:31:00, 202... NaN   \n",
       "6  [2022-09-07 09:30:00, 2022-09-07 09:31:00, 202... NaN   \n",
       "7  [2022-09-08 09:30:00, 2022-09-08 09:31:00, 202... NaN   \n",
       "\n",
       "                                          price_diff  \\\n",
       "0  [-2.850006103515625, -0.69500732421875, 0.125,...   \n",
       "1  [6.850006103515568, -0.519989013671875, -0.170...   \n",
       "5  [2.839996337890625, -0.3599853515625, -0.06002...   \n",
       "6  [-6.920013427734432, 0.53399658203125, -0.2639...   \n",
       "7  [-5.4739990234375, 0.36398315429681816, -0.029...   \n",
       "\n",
       "                                      percent_change  \n",
       "0  [-0.7883180132046159, -0.19261084447938703, 0....  \n",
       "1  [1.8644546046033876, -0.1417327209854263, -0.0...  \n",
       "5  [0.7844643668940712, -0.09953419918636108, -0....  \n",
       "6  [-1.928816132798311, 0.14861972130532247, -0.0...  \n",
       "7  [-1.5096688595911674, 0.10028189411114934, -0....  "
      ]
     },
     "execution_count": 148,
     "metadata": {},
     "output_type": "execute_result"
    }
   ],
   "source": [
    "def generate_price_dif(row):\n",
    "    prices = np.asarray(row['price'])\n",
    "    price_shift = np.asarray([row['price'][-1]] + row['price'][:-1])\n",
    "    delta_price = prices - price_shift\n",
    "    return delta_price\n",
    "\n",
    "#Create the price difference/percent change columns using the above function\n",
    "df['price_diff']  = df.apply(lambda row: generate_price_dif(row), axis=1)\n",
    "df['percent_change'] = df.apply(lambda row: (row['price_diff']/np.asarray(row['price'])) * 100, axis= 1)\n",
    "\n",
    "df.head()"
   ]
  },
  {
   "cell_type": "markdown",
   "metadata": {},
   "source": [
    "<h2>2 - Visualizing Trends In News Sentiment and Stock Prices</h2>\n",
    "\n",
    "<p>Visualizing the data should reveal trends in the prices that make be unintuitive given large sets of numbers. This should provide us with a solid basis for attempting to explore correlations in stock prices and news sentiment.</p>"
   ]
  },
  {
   "cell_type": "markdown",
   "metadata": {},
   "source": [
    "<h3>2.1 - Plotting Sentiment Versus Price</h3>\n",
    "\n",
    "<p>We begin by exploring the intesnity of sentiment per minute with data to the daily graph of our given stock.</p>"
   ]
  },
  {
   "cell_type": "code",
   "execution_count": 149,
   "metadata": {},
   "outputs": [],
   "source": [
    "import pandas as pd\n",
    "import matplotlib.pyplot as plt\n",
    "import matplotlib.dates as mdates\n",
    "import numpy as np\n",
    "myFmt = mdates.DateFormatter('%H%:%M:%S')\n",
    "\n",
    "class Analyzer:\n",
    "    \"\"\"\n",
    "    Generator class which contains methods to generate data from subreddits/stock prices.\n",
    "    Initializes with:\n",
    "        - Subreddits: a list of subreddit titles where each title is a string\n",
    "        - Dataframe: a pandas dataframe containing the stock prices per time interval\n",
    "        - \n",
    "    \"\"\"\n",
    "\n",
    "    def __init__(self, subreddits, dataframe):\n",
    "        self.subreddits = subreddits\n",
    "        self.dataframe = dataframe\n",
    "        self.df_dict = self.generate_daily_full(subreddits, dataframe)\n",
    "        self.complete_markov = {subreddit:[] for subreddit in self.subreddits}\n",
    "        self.combined_df_dict = None\n",
    "\n",
    "\n",
    "\n",
    "    def convert(self, row, subreddit):\n",
    "        lst = []\n",
    "        for dct in row.loc[subreddit]:\n",
    "            lst.append([dct])\n",
    "\n",
    "        return lst\n",
    "        \n",
    "\n",
    "\n",
    "    def generate_daily_data(self, index, subreddit):\n",
    "        \"\"\"\n",
    "        Creates a dataframe that is the result of merging the stock prices per time period\n",
    "        and the subreddit specific data\n",
    "        Inputs:\n",
    "            - index: the index of the row being used to generate data\n",
    "        Outputs:\n",
    "            - Returns a pandas dataframe of daily subreddit/stock price data\n",
    "        \"\"\"\n",
    "        \n",
    "        #create a dictionary with a time key that has every minute ina 24 hour period\n",
    "        d = self.dataframe.iloc[index][['date', 'na']].to_dict()\n",
    "        d['time'] = pd.date_range(self.dataframe['date'].iat[index], freq='Min', periods=60*24, name='date')\n",
    "        \n",
    "        #create an empty dataframe with the index as the generated time\n",
    "        df = pd.DataFrame(d)\n",
    "        df.set_index(df['time'], inplace = True)\n",
    "        df = df[[]]\n",
    "\n",
    "        #create dataframe for each column of stock data we want time series for -> index is stock_time\n",
    "        price_time_df = pd.DataFrame(self.dataframe.iloc[index]['price'], \n",
    "                                    index = self.dataframe.iloc[index]['stock_time'], \n",
    "                                    columns=['price'])\n",
    "\n",
    "        percent_change_df = pd.DataFrame(self.dataframe.iloc[index]['percent_change'], \n",
    "                                        index = self.dataframe.iloc[index]['stock_time'], \n",
    "                                        columns=['percent_change'])\n",
    "        \n",
    "        #store created dataframes in a list to later be merged into one dataframe\n",
    "        lst = [price_time_df, percent_change_df]\n",
    "\n",
    "        #create dataframes of sentiment_data -> index is sentiment_time\n",
    "        for subreddit in self.subreddits:\n",
    "            reddit_df = pd.DataFrame(self.dataframe.iloc[index][subreddit], \n",
    "                                    index = self.dataframe.iloc[index]['sentiment_time'], \n",
    "                                    columns=['sentiment']).reset_index()\n",
    "\n",
    "            sentiment_time_df = pd.json_normalize(reddit_df['sentiment'])\n",
    "            sentiment_time_df['index'] = reddit_df['index']\n",
    "            sentiment_time_df.set_index(['index'], inplace=True)\n",
    "            lst.append(sentiment_time_df)\n",
    "        \n",
    "        #Create new Dataframe by joining all of the generated dataframes\n",
    "        joined_df = df.join(lst)\n",
    "        joined_df.reset_index(inplace=True)\n",
    "        joined_df = joined_df.dropna(subset=['price'])\n",
    "        joined_df.index = joined_df.pop('time')\n",
    "        #pd.to_datetime(joined_df['time'])\n",
    "        \n",
    "        return joined_df\n",
    "\n",
    "\n",
    "\n",
    "    def generate_daily_full(self, subreddits, dataframe):\n",
    "        dct = {}\n",
    "        df = pd.DataFrame()\n",
    "        for subreddit in subreddits:\n",
    "            dataframe[subreddit] = dataframe.apply(lambda row: self.convert(row, subreddit), axis = 1)\n",
    "            lst = [self.generate_daily_data(i, subreddit) for i in range(len(dataframe))]\n",
    "            for i in lst:\n",
    "                df=pd.concat([df, i], ignore_index=False)\n",
    "            df = df.fillna(method='ffill').dropna()\n",
    "            dct[subreddit] = df\n",
    "        return dct\n",
    "\n",
    "\n",
    "\n",
    "    def markov_chain_data(self):\n",
    "        \"\"\"\n",
    "        Adds a column to the daily dataframes indicating the markov bin the time interval falls into\n",
    "        \"\"\"\n",
    "        for subreddit in self.subreddits:\n",
    "            df = self.df_dict[subreddit]\n",
    "\n",
    "            #generates a numpy array populated with values that correspond to precent changes -> new markov_bins column\n",
    "            df['markov_bins'] = np.where(\n",
    "                (df['percent_change'] < -.1), 0, np.where(\n",
    "                    ((df['percent_change'] > -.1) & (df['percent_change'] < 0)), 1, np.where(\n",
    "                        ((df['percent_change'] < .1) & (df['percent_change'] > 0)), 2, np.where(\n",
    "                            (df['percent_change'] > .1), 3, np.nan\n",
    "                        ))))\n",
    "\n",
    "            self.complete_markov[subreddit] += list(df.markov_bins.dropna())\n",
    "\n",
    "\n",
    "    def plot_markov_hist(self):\n",
    "\n",
    "        #iterate through the range of start_day and end_day -> create a dictionary where the key is bin # and key is the count\n",
    "        lst = np.array(self.df_dict['Economics'].markov_bins.dropna())\n",
    "        unique, counts = np.unique(lst, return_counts=True)\n",
    "        dct = dict(zip(unique,counts))\n",
    "        plt.bar(unique, counts)\n",
    "        plt.show()\n",
    "            \n",
    "\n",
    "\n",
    "    def plot_subreddits_day(self, subreddits):\n",
    "        for subreddit in subreddits:\n",
    "            fig,ax = plt.subplots()\n",
    "            ax.plot(self.df_dict[subreddit].index, self.df_dict[subreddit].price, color=\"blue\")\n",
    "            \n",
    "            # set x-axis label\n",
    "            ax.set_xlabel(\"Time\", fontsize = 14)\n",
    "            # set y-axis label\n",
    "            ax.set_ylabel(\"Price\", color=\"red\", fontsize=14)\n",
    "            ax2=ax.twinx()\n",
    "            # make a plot with different y-axis using second axis object\n",
    "            ax2.bar(self.df_dict[subreddit].index, self.df_dict[subreddit].neg)\n",
    "            ax2.bar(self.df_dict[subreddit].index, self.df_dict[subreddit].pos, color='green')\n",
    "            ax2.set_ylabel(\"Sentiment\",color=\"black\",fontsize=14)\n",
    "            fig.set_figwidth(15)\n",
    "            fig.set_figheight(5)\n",
    "            plt.show()\n",
    "           \n",
    "            \n",
    "\n",
    "\n",
    "    def generate_train_test(self, index):\n",
    "        \"\"\"\n",
    "        \n",
    "        \"\"\"\n",
    "        for subreddit in self.subreddits:\n",
    "            df_temp = pd.concat(self.df_dict[subreddit])\n",
    "            for column in df_temp.columns:\n",
    "                if column != 'time':\n",
    "                    df_temp[column].fillna(value = df_temp[column].mean(), inplace=True)\n",
    "            n = len(df_temp)\n",
    "            \n",
    "            train_df = df_temp[0:int(n*.7)]\n",
    "            train_x = train_df.drop(['time', 'price'], axis=1)\n",
    "            train_y = train_df[['price']]\n",
    "\n",
    "            val_df = df_temp[int(n*.7):int(n*.9)]\n",
    "            val_x = val_df.drop(['time', 'price'], axis=1)\n",
    "            val_y = val_df[['price']]\n",
    "            \n",
    "            test_df = df_temp[int(n*.9):]\n",
    "            test_x = test_df.drop(['time', 'price'], axis=1)\n",
    "            test_y = test_df[['price']]\n",
    "\n",
    "        return [(train_x, train_y), (val_x, val_y), (test_x, test_y)]"
   ]
  },
  {
   "cell_type": "code",
   "execution_count": 150,
   "metadata": {},
   "outputs": [],
   "source": [
    "analyzer = Analyzer(['Economics'], df)"
   ]
  },
  {
   "cell_type": "markdown",
   "metadata": {},
   "source": [
    "<p>Now lets explore the relationship between change in price and the sentiment intensities</p>"
   ]
  },
  {
   "cell_type": "code",
   "execution_count": 151,
   "metadata": {},
   "outputs": [],
   "source": [
    "analyzer.df_dict['Economics'] = analyzer.df_dict['Economics'].reset_index()"
   ]
  },
  {
   "cell_type": "code",
   "execution_count": 152,
   "metadata": {},
   "outputs": [
    {
     "data": {
      "image/png": "[encoded data removed]",
      "text/plain": [
       "<Figure size 1080x360 with 2 Axes>"
      ]
     },
     "metadata": {
      "needs_background": "light"
     },
     "output_type": "display_data"
    }
   ],
   "source": [
    "analyzer.plot_subreddits_day(['Economics'])"
   ]
  },
  {
   "cell_type": "markdown",
   "metadata": {},
   "source": [
    "<h2>3 - Markov Chains<h2>"
   ]
  },
  {
   "cell_type": "code",
   "execution_count": 153,
   "metadata": {},
   "outputs": [],
   "source": [
    "analyzer.markov_chain_data()"
   ]
  },
  {
   "cell_type": "markdown",
   "metadata": {},
   "source": [
    "<h3>3.1 - Plotting Hist</h3>"
   ]
  },
  {
   "cell_type": "code",
   "execution_count": 154,
   "metadata": {},
   "outputs": [
    {
     "data": {
      "image/png": "[encoded data removed]",
      "text/plain": [
       "<Figure size 432x288 with 1 Axes>"
      ]
     },
     "metadata": {
      "needs_background": "light"
     },
     "output_type": "display_data"
    }
   ],
   "source": [
    "analyzer.plot_markov_hist()"
   ]
  },
  {
   "cell_type": "markdown",
   "metadata": {},
   "source": [
    "<h3>3.2 - Nth Degree Markov Chains<h3>"
   ]
  },
  {
   "cell_type": "code",
   "execution_count": 158,
   "metadata": {},
   "outputs": [
    {
     "name": "stdout",
     "output_type": "stream",
     "text": [
      "2\n",
      "0.42474747474747476\n"
     ]
    },
    {
     "data": {
      "image/png": "[encoded data removed]",
      "text/plain": [
       "<Figure size 432x288 with 1 Axes>"
      ]
     },
     "metadata": {
      "needs_background": "light"
     },
     "output_type": "display_data"
    }
   ],
   "source": [
    "bins = analyzer.complete_markov['Economics']\n",
    "train = list(bins[:int(len(bins) * .7)])\n",
    "test = list(bins[int(len(bins) * .7):])\n",
    "markov = Markov()\n",
    "\n",
    "markov.optimal_degree(train, test, 10, range(10))"
   ]
  },
  {
   "cell_type": "markdown",
   "metadata": {},
   "source": [
    "<h3>3.3 - Optimizing Nth Degree Markov Chains<h3>"
   ]
  },
  {
   "cell_type": "code",
   "execution_count": null,
   "metadata": {},
   "outputs": [],
   "source": []
  },
  {
   "cell_type": "markdown",
   "metadata": {},
   "source": [
    "<h2>4 - Univariate LSTM Network<h2>"
   ]
  },
  {
   "cell_type": "markdown",
   "metadata": {},
   "source": [
    "<h3>4.1 - Processing And Splititng Data</h3>"
   ]
  },
  {
   "cell_type": "code",
   "execution_count": 157,
   "metadata": {},
   "outputs": [
    {
     "ename": "NameError",
     "evalue": "name 'MinMaxScaler' is not defined",
     "output_type": "error",
     "traceback": [
      "\u001b[1;31m---------------------------------------------------------------------------\u001b[0m",
      "\u001b[1;31mNameError\u001b[0m                                 Traceback (most recent call last)",
      "\u001b[1;32mc:\\Users\\Anderson\\Documents\\GitHub\\Stock-Lstm\\Short Run Prediction\\analysis.ipynb Cell 36\u001b[0m in \u001b[0;36m<cell line: 2>\u001b[1;34m()\u001b[0m\n\u001b[0;32m      <a href='vscode-notebook-cell:/c%3A/Users/Anderson/Documents/GitHub/Stock-Lstm/Short%20Run%20Prediction/analysis.ipynb#X50sZmlsZQ%3D%3D?line=0'>1</a>\u001b[0m uni_lstm \u001b[39m=\u001b[39m LSTM(analyzer\u001b[39m.\u001b[39mdf_dict[\u001b[39m'\u001b[39m\u001b[39mEconomics\u001b[39m\u001b[39m'\u001b[39m], [\u001b[39m'\u001b[39m\u001b[39mprice\u001b[39m\u001b[39m'\u001b[39m])\n\u001b[1;32m----> <a href='vscode-notebook-cell:/c%3A/Users/Anderson/Documents/GitHub/Stock-Lstm/Short%20Run%20Prediction/analysis.ipynb#X50sZmlsZQ%3D%3D?line=1'>2</a>\u001b[0m uni_lstm\u001b[39m.\u001b[39;49mdivide_data()\n",
      "File \u001b[1;32mc:\\Users\\Anderson\\Documents\\GitHub\\Stock-Lstm\\Short Run Prediction\\LSTM.py:41\u001b[0m, in \u001b[0;36mLSTM.divide_data\u001b[1;34m(self, plots)\u001b[0m\n\u001b[0;32m     40\u001b[0m \u001b[39mdef\u001b[39;00m \u001b[39mdivide_data\u001b[39m(\u001b[39mself\u001b[39m, plots \u001b[39m=\u001b[39m \u001b[39mTrue\u001b[39;00m):\n\u001b[1;32m---> 41\u001b[0m     \u001b[39mself\u001b[39;49m\u001b[39m.\u001b[39;49mwindow_data()\n\u001b[0;32m     42\u001b[0m     q_80 \u001b[39m=\u001b[39m \u001b[39mint\u001b[39m(\u001b[39mlen\u001b[39m(\u001b[39mself\u001b[39m\u001b[39m.\u001b[39msteps) \u001b[39m*\u001b[39m \u001b[39m.8\u001b[39m)\n\u001b[0;32m     43\u001b[0m     q_90 \u001b[39m=\u001b[39m \u001b[39mint\u001b[39m(\u001b[39mlen\u001b[39m(\u001b[39mself\u001b[39m\u001b[39m.\u001b[39msteps) \u001b[39m*\u001b[39m \u001b[39m.9\u001b[39m)\n",
      "File \u001b[1;32mc:\\Users\\Anderson\\Documents\\GitHub\\Stock-Lstm\\Short Run Prediction\\LSTM.py:12\u001b[0m, in \u001b[0;36mLSTM.window_data\u001b[1;34m(self)\u001b[0m\n\u001b[0;32m     11\u001b[0m \u001b[39mdef\u001b[39;00m \u001b[39mwindow_data\u001b[39m(\u001b[39mself\u001b[39m):\n\u001b[1;32m---> 12\u001b[0m     \u001b[39mself\u001b[39m\u001b[39m.\u001b[39msteps, \u001b[39mself\u001b[39m\u001b[39m.\u001b[39mX, \u001b[39mself\u001b[39m\u001b[39m.\u001b[39my \u001b[39m=\u001b[39m \u001b[39mself\u001b[39;49m\u001b[39m.\u001b[39;49mwindowed_df_to_date_X_y(\u001b[39mself\u001b[39;49m\u001b[39m.\u001b[39;49minput_df, \u001b[39mself\u001b[39;49m\u001b[39m.\u001b[39;49mcols, \u001b[39mself\u001b[39;49m\u001b[39m.\u001b[39;49mn)\n",
      "File \u001b[1;32mc:\\Users\\Anderson\\Documents\\GitHub\\Stock-Lstm\\Short Run Prediction\\LSTM.py:22\u001b[0m, in \u001b[0;36mLSTM.windowed_df_to_date_X_y\u001b[1;34m(self, windowed_dataframe, cols, n)\u001b[0m\n\u001b[0;32m     21\u001b[0m \u001b[39mdef\u001b[39;00m \u001b[39mwindowed_df_to_date_X_y\u001b[39m(\u001b[39mself\u001b[39m, windowed_dataframe, cols, n\u001b[39m=\u001b[39m\u001b[39m3\u001b[39m):\n\u001b[1;32m---> 22\u001b[0m     scaler \u001b[39m=\u001b[39m MinMaxScaler()\n\u001b[0;32m     23\u001b[0m     df_as_np \u001b[39m=\u001b[39m windowed_dataframe[cols]\u001b[39m.\u001b[39mto_numpy()\n\u001b[0;32m     24\u001b[0m     X \u001b[39m=\u001b[39m []\n",
      "\u001b[1;31mNameError\u001b[0m: name 'MinMaxScaler' is not defined"
     ]
    }
   ],
   "source": [
    "uni_lstm = LSTM(analyzer.df_dict['Economics'], ['price'])\n",
    "uni_lstm.divide_data()"
   ]
  },
  {
   "cell_type": "markdown",
   "metadata": {},
   "source": [
    "<h3>4.2 - Fitting The Model</h3>"
   ]
  },
  {
   "cell_type": "code",
   "execution_count": null,
   "metadata": {},
   "outputs": [],
   "source": [
    "uni_lstm.run()"
   ]
  },
  {
   "cell_type": "markdown",
   "metadata": {},
   "source": [
    "<h3>4.3 - Plotting True And Predicted Values</h3>"
   ]
  },
  {
   "cell_type": "code",
   "execution_count": null,
   "metadata": {},
   "outputs": [],
   "source": [
    "uni_lstm.plot([\n",
    "    (uni_lstm.steps_train, uni_lstm.X_train, uni_lstm.y_train, 'Training'),\n",
    "    (uni_lstm.steps_val, uni_lstm.X_val, uni_lstm.y_val, 'Validation'),\n",
    "    (uni_lstm.steps_test, uni_lstm.X_test, uni_lstm.y_test, 'Testing'),\n",
    "])"
   ]
  },
  {
   "cell_type": "markdown",
   "metadata": {},
   "source": [
    "\n",
    "<h3>4.4 - Comparing n Values</h3>"
   ]
  },
  {
   "cell_type": "code",
   "execution_count": null,
   "metadata": {},
   "outputs": [],
   "source": [
    "def run_comparisons(start_val, end_val):\n",
    "    errors = []\n",
    "    models = []\n",
    "    for i in range(start_val, end_val):\n",
    "        lstm = LSTM(analyzer.df_dict['Economics'], n=i)\n",
    "        lstm.divide_data(plots=False)\n",
    "        lstm.run()\n",
    "        errors.append(lstm.hist.history['mean_absolute_error'][-1])\n",
    "        models.append(lstm)\n",
    "\n",
    "    return errors, models"
   ]
  },
  {
   "cell_type": "code",
   "execution_count": null,
   "metadata": {},
   "outputs": [],
   "source": [
    "error, models = run_comparisons(3,10)"
   ]
  },
  {
   "cell_type": "code",
   "execution_count": null,
   "metadata": {},
   "outputs": [],
   "source": [
    "for model in models:\n",
    "    model.plot([(model.steps_test, model.X_test, model.y_test, 'Testing')])"
   ]
  },
  {
   "cell_type": "markdown",
   "metadata": {},
   "source": [
    "<h2>5 - Multivariate LSTM Network Using News Sentiments</h2>"
   ]
  },
  {
   "cell_type": "markdown",
   "metadata": {},
   "source": [
    "<h3>5.1 - Processing And Splitting Data </h3>"
   ]
  },
  {
   "cell_type": "code",
   "execution_count": null,
   "metadata": {},
   "outputs": [],
   "source": [
    "multi_lstm = LSTM(analyzer.df_dict['Economics'])\n",
    "multi_lstm.divide_data()"
   ]
  },
  {
   "cell_type": "markdown",
   "metadata": {},
   "source": [
    "<h3>5.2 - Fitting The Model </h3>"
   ]
  },
  {
   "cell_type": "code",
   "execution_count": null,
   "metadata": {},
   "outputs": [],
   "source": [
    "multi_lstm.run()"
   ]
  },
  {
   "cell_type": "markdown",
   "metadata": {},
   "source": [
    "<h3>5.3 - Plotting True And Predicted Values </h3>"
   ]
  },
  {
   "cell_type": "code",
   "execution_count": null,
   "metadata": {},
   "outputs": [],
   "source": [
    "multi_lstm.plot([\n",
    "    (multi_lstm.steps_train, multi_lstm.X_train, multi_lstm.y_train, 'Training'),\n",
    "    (multi_lstm.steps_val, multi_lstm.X_val, multi_lstm.y_val, 'Validation'),\n",
    "    (multi_lstm.steps_test, multi_lstm.X_test, multi_lstm.y_test, 'Testing'),\n",
    "])"
   ]
  },
  {
   "cell_type": "markdown",
   "metadata": {},
   "source": [
    "<h3>5.4 - Prediction Of Future Values </h3>"
   ]
  },
  {
   "cell_type": "code",
   "execution_count": null,
   "metadata": {},
   "outputs": [],
   "source": [
    "predictions = multi_lstm.recursive_prediction()"
   ]
  },
  {
   "cell_type": "code",
   "execution_count": null,
   "metadata": {},
   "outputs": [],
   "source": [
    "figure(figsize=(10,6))\n",
    "plt.plot(multi_lstm.steps_test, predictions)\n",
    "plt.plot(multi_lstm.steps_test, multi_lstm.y_test)\n",
    "plt.legend(['Recursive Predicitons', 'Test Observations'])"
   ]
  }
 ],
 "metadata": {
  "kernelspec": {
   "display_name": "Python 3.10.4 64-bit",
   "language": "python",
   "name": "python3"
  },
  "language_info": {
   "codemirror_mode": {
    "name": "ipython",
    "version": 3
   },
   "file_extension": ".py",
   "mimetype": "text/x-python",
   "name": "python",
   "nbconvert_exporter": "python",
   "pygments_lexer": "ipython3",
   "version": "3.10.4"
  },
  "orig_nbformat": 4,
  "vscode": {
   "interpreter": {
    "hash": "59dae09b02ada26948988bf6d3e19ff6a1b6e3b05f0ea398d4c1b8357d4febfc"
   }
  }
 },
 "nbformat": 4,
 "nbformat_minor": 2
}
