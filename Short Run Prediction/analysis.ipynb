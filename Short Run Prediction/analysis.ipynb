{
 "cells": [
  {
   "cell_type": "markdown",
   "metadata": {},
   "source": [
    "<h2>Importing Data<h2>"
   ]
  },
  {
   "cell_type": "code",
   "execution_count": 117,
   "metadata": {},
   "outputs": [],
   "source": [
    "import pandas as pd\n",
    "import matplotlib.pyplot as plt\n",
    "import datetime\n",
    "import numpy as np\n",
    "from helper import plot_x_days\n"
   ]
  },
  {
   "cell_type": "code",
   "execution_count": 118,
   "metadata": {},
   "outputs": [
    {
     "data": {
      "text/html": [
       "<div>\n",
       "<style scoped>\n",
       "    .dataframe tbody tr th:only-of-type {\n",
       "        vertical-align: middle;\n",
       "    }\n",
       "\n",
       "    .dataframe tbody tr th {\n",
       "        vertical-align: top;\n",
       "    }\n",
       "\n",
       "    .dataframe thead th {\n",
       "        text-align: right;\n",
       "    }\n",
       "</style>\n",
       "<table border=\"1\" class=\"dataframe\">\n",
       "  <thead>\n",
       "    <tr style=\"text-align: right;\">\n",
       "      <th></th>\n",
       "      <th>Unnamed: 0</th>\n",
       "      <th>Adj Close</th>\n",
       "    </tr>\n",
       "  </thead>\n",
       "  <tbody>\n",
       "    <tr>\n",
       "      <th>0</th>\n",
       "      <td>2022-08-29 09:30:00-04:00</td>\n",
       "      <td>369.648010</td>\n",
       "    </tr>\n",
       "    <tr>\n",
       "      <th>1</th>\n",
       "      <td>2022-08-29 09:31:00-04:00</td>\n",
       "      <td>369.799988</td>\n",
       "    </tr>\n",
       "    <tr>\n",
       "      <th>2</th>\n",
       "      <td>2022-08-29 09:33:00-04:00</td>\n",
       "      <td>370.220001</td>\n",
       "    </tr>\n",
       "    <tr>\n",
       "      <th>3</th>\n",
       "      <td>2022-08-29 09:34:00-04:00</td>\n",
       "      <td>370.549988</td>\n",
       "    </tr>\n",
       "    <tr>\n",
       "      <th>4</th>\n",
       "      <td>2022-08-29 09:35:00-04:00</td>\n",
       "      <td>370.299988</td>\n",
       "    </tr>\n",
       "  </tbody>\n",
       "</table>\n",
       "</div>"
      ],
      "text/plain": [
       "                  Unnamed: 0   Adj Close\n",
       "0  2022-08-29 09:30:00-04:00  369.648010\n",
       "1  2022-08-29 09:31:00-04:00  369.799988\n",
       "2  2022-08-29 09:33:00-04:00  370.220001\n",
       "3  2022-08-29 09:34:00-04:00  370.549988\n",
       "4  2022-08-29 09:35:00-04:00  370.299988"
      ]
     },
     "execution_count": 118,
     "metadata": {},
     "output_type": "execute_result"
    }
   ],
   "source": [
    "df1 = pd.read_json('./Datasets/generated_data_Economics.json')\n",
    "df2 = pd.read_csv('./Datasets/VOO.csv')\n",
    "df2.head()"
   ]
  },
  {
   "cell_type": "markdown",
   "metadata": {},
   "source": [
    "<h3>Preparing The Stock Price Data<h3>"
   ]
  },
  {
   "cell_type": "code",
   "execution_count": 119,
   "metadata": {},
   "outputs": [
    {
     "data": {
      "text/html": [
       "<div>\n",
       "<style scoped>\n",
       "    .dataframe tbody tr th:only-of-type {\n",
       "        vertical-align: middle;\n",
       "    }\n",
       "\n",
       "    .dataframe tbody tr th {\n",
       "        vertical-align: top;\n",
       "    }\n",
       "\n",
       "    .dataframe thead th {\n",
       "        text-align: right;\n",
       "    }\n",
       "</style>\n",
       "<table border=\"1\" class=\"dataframe\">\n",
       "  <thead>\n",
       "    <tr style=\"text-align: right;\">\n",
       "      <th></th>\n",
       "      <th>Unnamed: 0</th>\n",
       "      <th>price</th>\n",
       "      <th>date_time</th>\n",
       "      <th>date</th>\n",
       "      <th>time</th>\n",
       "    </tr>\n",
       "  </thead>\n",
       "  <tbody>\n",
       "    <tr>\n",
       "      <th>0</th>\n",
       "      <td>2022-08-29 09:30:00-04:00</td>\n",
       "      <td>369.648010</td>\n",
       "      <td>2022-08-29 09:30:00-04:00</td>\n",
       "      <td>2022-08-29</td>\n",
       "      <td>09:30:00</td>\n",
       "    </tr>\n",
       "    <tr>\n",
       "      <th>1</th>\n",
       "      <td>2022-08-29 09:31:00-04:00</td>\n",
       "      <td>369.799988</td>\n",
       "      <td>2022-08-29 09:31:00-04:00</td>\n",
       "      <td>2022-08-29</td>\n",
       "      <td>09:31:00</td>\n",
       "    </tr>\n",
       "    <tr>\n",
       "      <th>2</th>\n",
       "      <td>2022-08-29 09:33:00-04:00</td>\n",
       "      <td>370.220001</td>\n",
       "      <td>2022-08-29 09:33:00-04:00</td>\n",
       "      <td>2022-08-29</td>\n",
       "      <td>09:33:00</td>\n",
       "    </tr>\n",
       "    <tr>\n",
       "      <th>3</th>\n",
       "      <td>2022-08-29 09:34:00-04:00</td>\n",
       "      <td>370.549988</td>\n",
       "      <td>2022-08-29 09:34:00-04:00</td>\n",
       "      <td>2022-08-29</td>\n",
       "      <td>09:34:00</td>\n",
       "    </tr>\n",
       "    <tr>\n",
       "      <th>4</th>\n",
       "      <td>2022-08-29 09:35:00-04:00</td>\n",
       "      <td>370.299988</td>\n",
       "      <td>2022-08-29 09:35:00-04:00</td>\n",
       "      <td>2022-08-29</td>\n",
       "      <td>09:35:00</td>\n",
       "    </tr>\n",
       "  </tbody>\n",
       "</table>\n",
       "</div>"
      ],
      "text/plain": [
       "                  Unnamed: 0       price                 date_time  \\\n",
       "0  2022-08-29 09:30:00-04:00  369.648010 2022-08-29 09:30:00-04:00   \n",
       "1  2022-08-29 09:31:00-04:00  369.799988 2022-08-29 09:31:00-04:00   \n",
       "2  2022-08-29 09:33:00-04:00  370.220001 2022-08-29 09:33:00-04:00   \n",
       "3  2022-08-29 09:34:00-04:00  370.549988 2022-08-29 09:34:00-04:00   \n",
       "4  2022-08-29 09:35:00-04:00  370.299988 2022-08-29 09:35:00-04:00   \n",
       "\n",
       "         date      time  \n",
       "0  2022-08-29  09:30:00  \n",
       "1  2022-08-29  09:31:00  \n",
       "2  2022-08-29  09:33:00  \n",
       "3  2022-08-29  09:34:00  \n",
       "4  2022-08-29  09:35:00  "
      ]
     },
     "execution_count": 119,
     "metadata": {},
     "output_type": "execute_result"
    }
   ],
   "source": [
    "df2['date_time'] = pd.to_datetime(df2['Unnamed: 0'])\n",
    "df2['date'] = df2['date_time'].dt.date\n",
    "df2['time'] = df2['date_time'].dt.time\n",
    "df2.rename(columns={'Adj Close': 'price'}, inplace=True)\n",
    "df2.head(5)\n"
   ]
  },
  {
   "cell_type": "code",
   "execution_count": 120,
   "metadata": {},
   "outputs": [
    {
     "data": {
      "text/html": [
       "<div>\n",
       "<style scoped>\n",
       "    .dataframe tbody tr th:only-of-type {\n",
       "        vertical-align: middle;\n",
       "    }\n",
       "\n",
       "    .dataframe tbody tr th {\n",
       "        vertical-align: top;\n",
       "    }\n",
       "\n",
       "    .dataframe thead th {\n",
       "        text-align: right;\n",
       "    }\n",
       "</style>\n",
       "<table border=\"1\" class=\"dataframe\">\n",
       "  <thead>\n",
       "    <tr style=\"text-align: right;\">\n",
       "      <th></th>\n",
       "      <th>date</th>\n",
       "      <th>time</th>\n",
       "      <th>price</th>\n",
       "      <th>time_price</th>\n",
       "      <th>na</th>\n",
       "    </tr>\n",
       "  </thead>\n",
       "  <tbody>\n",
       "    <tr>\n",
       "      <th>0</th>\n",
       "      <td>2022-08-29</td>\n",
       "      <td>[09:30:00, 09:31:00, 09:33:00, 09:34:00, 09:35...</td>\n",
       "      <td>[369.6480102539063, 369.7999877929688, 370.220...</td>\n",
       "      <td>{09:30:00: 369.6480102539063, 09:31:00: 369.79...</td>\n",
       "      <td>NaN</td>\n",
       "    </tr>\n",
       "    <tr>\n",
       "      <th>1</th>\n",
       "      <td>2022-08-30</td>\n",
       "      <td>[09:30:00, 09:31:00, 09:32:00, 09:33:00, 09:34...</td>\n",
       "      <td>[371.2200012207031, 370.760009765625, 371.0400...</td>\n",
       "      <td>{09:30:00: 371.2200012207031, 09:31:00: 370.76...</td>\n",
       "      <td>NaN</td>\n",
       "    </tr>\n",
       "    <tr>\n",
       "      <th>2</th>\n",
       "      <td>2022-08-31</td>\n",
       "      <td>[09:30:00, 09:31:00, 09:32:00, 09:33:00, 09:34...</td>\n",
       "      <td>[367.0400085449219, 367.0700073242188, 366.660...</td>\n",
       "      <td>{09:30:00: 367.0400085449219, 09:31:00: 367.07...</td>\n",
       "      <td>NaN</td>\n",
       "    </tr>\n",
       "    <tr>\n",
       "      <th>3</th>\n",
       "      <td>2022-09-01</td>\n",
       "      <td>[09:30:00, 09:31:00, 09:32:00, 09:33:00, 09:34...</td>\n",
       "      <td>[361.5299987792969, 360.8349914550781, 360.959...</td>\n",
       "      <td>{09:30:00: 361.5299987792969, 09:31:00: 360.83...</td>\n",
       "      <td>NaN</td>\n",
       "    </tr>\n",
       "    <tr>\n",
       "      <th>4</th>\n",
       "      <td>2022-09-02</td>\n",
       "      <td>[09:30:00, 09:31:00, 09:32:00, 09:33:00, 09:34...</td>\n",
       "      <td>[367.3999938964844, 366.8800048828125, 366.709...</td>\n",
       "      <td>{09:30:00: 367.3999938964844, 09:31:00: 366.88...</td>\n",
       "      <td>NaN</td>\n",
       "    </tr>\n",
       "  </tbody>\n",
       "</table>\n",
       "</div>"
      ],
      "text/plain": [
       "         date                                               time  \\\n",
       "0  2022-08-29  [09:30:00, 09:31:00, 09:33:00, 09:34:00, 09:35...   \n",
       "1  2022-08-30  [09:30:00, 09:31:00, 09:32:00, 09:33:00, 09:34...   \n",
       "2  2022-08-31  [09:30:00, 09:31:00, 09:32:00, 09:33:00, 09:34...   \n",
       "3  2022-09-01  [09:30:00, 09:31:00, 09:32:00, 09:33:00, 09:34...   \n",
       "4  2022-09-02  [09:30:00, 09:31:00, 09:32:00, 09:33:00, 09:34...   \n",
       "\n",
       "                                               price  \\\n",
       "0  [369.6480102539063, 369.7999877929688, 370.220...   \n",
       "1  [371.2200012207031, 370.760009765625, 371.0400...   \n",
       "2  [367.0400085449219, 367.0700073242188, 366.660...   \n",
       "3  [361.5299987792969, 360.8349914550781, 360.959...   \n",
       "4  [367.3999938964844, 366.8800048828125, 366.709...   \n",
       "\n",
       "                                          time_price  na  \n",
       "0  {09:30:00: 369.6480102539063, 09:31:00: 369.79... NaN  \n",
       "1  {09:30:00: 371.2200012207031, 09:31:00: 370.76... NaN  \n",
       "2  {09:30:00: 367.0400085449219, 09:31:00: 367.07... NaN  \n",
       "3  {09:30:00: 361.5299987792969, 09:31:00: 360.83... NaN  \n",
       "4  {09:30:00: 367.3999938964844, 09:31:00: 366.88... NaN  "
      ]
     },
     "execution_count": 120,
     "metadata": {},
     "output_type": "execute_result"
    }
   ],
   "source": [
    "df2 = df2[['date', 'time', 'price']]\n",
    "df2 = df2.groupby('date').agg(list)\n",
    "df2['time_price'] = df2.apply(lambda row : dict(zip(row[0],row[1])), axis=1)\n",
    "df2['na'] = np.nan\n",
    "df2.reset_index(inplace=True)\n",
    "df2.head()"
   ]
  },
  {
   "cell_type": "code",
   "execution_count": 121,
   "metadata": {},
   "outputs": [
    {
     "name": "stdout",
     "output_type": "stream",
     "text": [
      "          na       price\n",
      "time                    \n",
      "00:00:00 NaN         NaN\n",
      "00:01:00 NaN         NaN\n",
      "00:02:00 NaN         NaN\n",
      "00:03:00 NaN         NaN\n",
      "00:04:00 NaN         NaN\n",
      "...       ..         ...\n",
      "13:15:00 NaN  371.880005\n",
      "13:16:00 NaN  371.619995\n",
      "13:17:00 NaN  371.500000\n",
      "13:18:00 NaN  371.299988\n",
      "13:19:00 NaN  371.420013\n",
      "\n",
      "[800 rows x 2 columns]\n",
      "               price\n",
      "09:30:00  369.648010\n",
      "09:31:00  369.799988\n",
      "09:33:00  370.220001\n",
      "09:34:00  370.549988\n",
      "09:35:00  370.299988\n",
      "...              ...\n",
      "12:47:00  371.640015\n",
      "12:48:00  372.005005\n",
      "12:49:00  372.000092\n",
      "12:50:00  372.179993\n",
      "12:51:00  372.339996\n",
      "\n",
      "[200 rows x 1 columns]\n"
     ]
    }
   ],
   "source": [
    "#generate daily data\n",
    "def generate_daily_data(index):\n",
    "    #create a data frame of all possible minute values in a day\n",
    "    d = df2.iloc[index][['date', 'na']].to_dict()\n",
    "    d['time'] = pd.date_range(df2['date'].iat[index], freq='Min', periods=60*24, name='date')\n",
    "    df = pd.DataFrame(d)\n",
    "    df.set_index(df['time'].dt.time, inplace = True)\n",
    "    df = df[['na']]\n",
    "\n",
    "    #create dataframe of stock prices\n",
    "    price_time_df = pd.DataFrame(df2.iloc[index]['price'], index =  df2.iloc[index]['time'], columns=['price'])\n",
    "\n",
    "    joined_df = df.join(price_time_df)\n",
    "\n",
    "generate_daily_data(0)"
   ]
  },
  {
   "cell_type": "markdown",
   "metadata": {},
   "source": [
    "<h3>Merging The Sentiment Data And Stock Price Data<h3>"
   ]
  },
  {
   "cell_type": "code",
   "execution_count": 122,
   "metadata": {},
   "outputs": [
    {
     "data": {
      "text/html": [
       "<div>\n",
       "<style scoped>\n",
       "    .dataframe tbody tr th:only-of-type {\n",
       "        vertical-align: middle;\n",
       "    }\n",
       "\n",
       "    .dataframe tbody tr th {\n",
       "        vertical-align: top;\n",
       "    }\n",
       "\n",
       "    .dataframe thead th {\n",
       "        text-align: right;\n",
       "    }\n",
       "</style>\n",
       "<table border=\"1\" class=\"dataframe\">\n",
       "  <thead>\n",
       "    <tr style=\"text-align: right;\">\n",
       "      <th></th>\n",
       "      <th>date</th>\n",
       "      <th>Economics</th>\n",
       "    </tr>\n",
       "  </thead>\n",
       "  <tbody>\n",
       "    <tr>\n",
       "      <th>0</th>\n",
       "      <td>2022-08-30</td>\n",
       "      <td>{'10:58:00': {'polarity': 0.0, 'subjectivity':...</td>\n",
       "    </tr>\n",
       "    <tr>\n",
       "      <th>1</th>\n",
       "      <td>2022-08-31</td>\n",
       "      <td>{'00:00:00': {'polarity': 0.0, 'subjectivity':...</td>\n",
       "    </tr>\n",
       "    <tr>\n",
       "      <th>2</th>\n",
       "      <td>2022-09-01</td>\n",
       "      <td>{'00:18:00': {'polarity': 0.0, 'subjectivity':...</td>\n",
       "    </tr>\n",
       "    <tr>\n",
       "      <th>3</th>\n",
       "      <td>2022-09-02</td>\n",
       "      <td>{'00:01:00': {'polarity': 0.8, 'subjectivity':...</td>\n",
       "    </tr>\n",
       "    <tr>\n",
       "      <th>4</th>\n",
       "      <td>2022-09-03</td>\n",
       "      <td>{'00:02:00': {'polarity': 0.0, 'subjectivity':...</td>\n",
       "    </tr>\n",
       "  </tbody>\n",
       "</table>\n",
       "</div>"
      ],
      "text/plain": [
       "        date                                          Economics\n",
       "0 2022-08-30  {'10:58:00': {'polarity': 0.0, 'subjectivity':...\n",
       "1 2022-08-31  {'00:00:00': {'polarity': 0.0, 'subjectivity':...\n",
       "2 2022-09-01  {'00:18:00': {'polarity': 0.0, 'subjectivity':...\n",
       "3 2022-09-02  {'00:01:00': {'polarity': 0.8, 'subjectivity':...\n",
       "4 2022-09-03  {'00:02:00': {'polarity': 0.0, 'subjectivity':..."
      ]
     },
     "execution_count": 122,
     "metadata": {},
     "output_type": "execute_result"
    }
   ],
   "source": [
    "df1.reset_index(inplace=True)\n",
    "df1.rename(columns={'index': 'date'}, inplace=True)\n",
    "df1.head()"
   ]
  },
  {
   "cell_type": "code",
   "execution_count": 123,
   "metadata": {},
   "outputs": [
    {
     "ename": "ValueError",
     "evalue": "You are trying to merge on datetime64[ns] and object columns. If you wish to proceed you should use pd.concat",
     "output_type": "error",
     "traceback": [
      "\u001b[0;31m---------------------------------------------------------------------------\u001b[0m",
      "\u001b[0;31mValueError\u001b[0m                                Traceback (most recent call last)",
      "\u001b[1;32m/Users/andersonschroeder/Documents/Stock-Lstm/Short Run Prediction/analysis.ipynb Cell 10\u001b[0m in \u001b[0;36m<cell line: 1>\u001b[0;34m()\u001b[0m\n\u001b[0;32m----> <a href='vscode-notebook-cell:/Users/andersonschroeder/Documents/Stock-Lstm/Short%20Run%20Prediction/analysis.ipynb#ch0000008?line=0'>1</a>\u001b[0m df \u001b[39m=\u001b[39m pd\u001b[39m.\u001b[39;49mmerge(df1, df2, how\u001b[39m=\u001b[39;49m\u001b[39m'\u001b[39;49m\u001b[39mouter\u001b[39;49m\u001b[39m'\u001b[39;49m, on\u001b[39m=\u001b[39;49m\u001b[39m'\u001b[39;49m\u001b[39mdate\u001b[39;49m\u001b[39m'\u001b[39;49m)\n\u001b[1;32m      <a href='vscode-notebook-cell:/Users/andersonschroeder/Documents/Stock-Lstm/Short%20Run%20Prediction/analysis.ipynb#ch0000008?line=1'>2</a>\u001b[0m df[\u001b[39m'\u001b[39m\u001b[39mdate\u001b[39m\u001b[39m'\u001b[39m] \u001b[39m=\u001b[39m  pd\u001b[39m.\u001b[39mto_datetime(df[\u001b[39m'\u001b[39m\u001b[39mdate\u001b[39m\u001b[39m'\u001b[39m])\n\u001b[1;32m      <a href='vscode-notebook-cell:/Users/andersonschroeder/Documents/Stock-Lstm/Short%20Run%20Prediction/analysis.ipynb#ch0000008?line=2'>3</a>\u001b[0m df\u001b[39m.\u001b[39mdropna(inplace\u001b[39m=\u001b[39m\u001b[39mTrue\u001b[39;00m)\n",
      "File \u001b[0;32m/Library/Frameworks/Python.framework/Versions/3.10/lib/python3.10/site-packages/pandas/core/reshape/merge.py:107\u001b[0m, in \u001b[0;36mmerge\u001b[0;34m(left, right, how, on, left_on, right_on, left_index, right_index, sort, suffixes, copy, indicator, validate)\u001b[0m\n\u001b[1;32m     90\u001b[0m \u001b[39m@Substitution\u001b[39m(\u001b[39m\"\u001b[39m\u001b[39m\\n\u001b[39;00m\u001b[39mleft : DataFrame or named Series\u001b[39m\u001b[39m\"\u001b[39m)\n\u001b[1;32m     91\u001b[0m \u001b[39m@Appender\u001b[39m(_merge_doc, indents\u001b[39m=\u001b[39m\u001b[39m0\u001b[39m)\n\u001b[1;32m     92\u001b[0m \u001b[39mdef\u001b[39;00m \u001b[39mmerge\u001b[39m(\n\u001b[0;32m   (...)\u001b[0m\n\u001b[1;32m    105\u001b[0m     validate: \u001b[39mstr\u001b[39m \u001b[39m|\u001b[39m \u001b[39mNone\u001b[39;00m \u001b[39m=\u001b[39m \u001b[39mNone\u001b[39;00m,\n\u001b[1;32m    106\u001b[0m ) \u001b[39m-\u001b[39m\u001b[39m>\u001b[39m DataFrame:\n\u001b[0;32m--> 107\u001b[0m     op \u001b[39m=\u001b[39m _MergeOperation(\n\u001b[1;32m    108\u001b[0m         left,\n\u001b[1;32m    109\u001b[0m         right,\n\u001b[1;32m    110\u001b[0m         how\u001b[39m=\u001b[39;49mhow,\n\u001b[1;32m    111\u001b[0m         on\u001b[39m=\u001b[39;49mon,\n\u001b[1;32m    112\u001b[0m         left_on\u001b[39m=\u001b[39;49mleft_on,\n\u001b[1;32m    113\u001b[0m         right_on\u001b[39m=\u001b[39;49mright_on,\n\u001b[1;32m    114\u001b[0m         left_index\u001b[39m=\u001b[39;49mleft_index,\n\u001b[1;32m    115\u001b[0m         right_index\u001b[39m=\u001b[39;49mright_index,\n\u001b[1;32m    116\u001b[0m         sort\u001b[39m=\u001b[39;49msort,\n\u001b[1;32m    117\u001b[0m         suffixes\u001b[39m=\u001b[39;49msuffixes,\n\u001b[1;32m    118\u001b[0m         copy\u001b[39m=\u001b[39;49mcopy,\n\u001b[1;32m    119\u001b[0m         indicator\u001b[39m=\u001b[39;49mindicator,\n\u001b[1;32m    120\u001b[0m         validate\u001b[39m=\u001b[39;49mvalidate,\n\u001b[1;32m    121\u001b[0m     )\n\u001b[1;32m    122\u001b[0m     \u001b[39mreturn\u001b[39;00m op\u001b[39m.\u001b[39mget_result()\n",
      "File \u001b[0;32m/Library/Frameworks/Python.framework/Versions/3.10/lib/python3.10/site-packages/pandas/core/reshape/merge.py:704\u001b[0m, in \u001b[0;36m_MergeOperation.__init__\u001b[0;34m(self, left, right, how, on, left_on, right_on, axis, left_index, right_index, sort, suffixes, copy, indicator, validate)\u001b[0m\n\u001b[1;32m    696\u001b[0m (\n\u001b[1;32m    697\u001b[0m     \u001b[39mself\u001b[39m\u001b[39m.\u001b[39mleft_join_keys,\n\u001b[1;32m    698\u001b[0m     \u001b[39mself\u001b[39m\u001b[39m.\u001b[39mright_join_keys,\n\u001b[1;32m    699\u001b[0m     \u001b[39mself\u001b[39m\u001b[39m.\u001b[39mjoin_names,\n\u001b[1;32m    700\u001b[0m ) \u001b[39m=\u001b[39m \u001b[39mself\u001b[39m\u001b[39m.\u001b[39m_get_merge_keys()\n\u001b[1;32m    702\u001b[0m \u001b[39m# validate the merge keys dtypes. We may need to coerce\u001b[39;00m\n\u001b[1;32m    703\u001b[0m \u001b[39m# to avoid incompatible dtypes\u001b[39;00m\n\u001b[0;32m--> 704\u001b[0m \u001b[39mself\u001b[39;49m\u001b[39m.\u001b[39;49m_maybe_coerce_merge_keys()\n\u001b[1;32m    706\u001b[0m \u001b[39m# If argument passed to validate,\u001b[39;00m\n\u001b[1;32m    707\u001b[0m \u001b[39m# check if columns specified as unique\u001b[39;00m\n\u001b[1;32m    708\u001b[0m \u001b[39m# are in fact unique.\u001b[39;00m\n\u001b[1;32m    709\u001b[0m \u001b[39mif\u001b[39;00m validate \u001b[39mis\u001b[39;00m \u001b[39mnot\u001b[39;00m \u001b[39mNone\u001b[39;00m:\n",
      "File \u001b[0;32m/Library/Frameworks/Python.framework/Versions/3.10/lib/python3.10/site-packages/pandas/core/reshape/merge.py:1261\u001b[0m, in \u001b[0;36m_MergeOperation._maybe_coerce_merge_keys\u001b[0;34m(self)\u001b[0m\n\u001b[1;32m   1259\u001b[0m \u001b[39m# datetimelikes must match exactly\u001b[39;00m\n\u001b[1;32m   1260\u001b[0m \u001b[39melif\u001b[39;00m needs_i8_conversion(lk\u001b[39m.\u001b[39mdtype) \u001b[39mand\u001b[39;00m \u001b[39mnot\u001b[39;00m needs_i8_conversion(rk\u001b[39m.\u001b[39mdtype):\n\u001b[0;32m-> 1261\u001b[0m     \u001b[39mraise\u001b[39;00m \u001b[39mValueError\u001b[39;00m(msg)\n\u001b[1;32m   1262\u001b[0m \u001b[39melif\u001b[39;00m \u001b[39mnot\u001b[39;00m needs_i8_conversion(lk\u001b[39m.\u001b[39mdtype) \u001b[39mand\u001b[39;00m needs_i8_conversion(rk\u001b[39m.\u001b[39mdtype):\n\u001b[1;32m   1263\u001b[0m     \u001b[39mraise\u001b[39;00m \u001b[39mValueError\u001b[39;00m(msg)\n",
      "\u001b[0;31mValueError\u001b[0m: You are trying to merge on datetime64[ns] and object columns. If you wish to proceed you should use pd.concat"
     ]
    }
   ],
   "source": [
    "df = pd.merge(df1, df2, how='outer', on='date')\n",
    "df['date'] =  pd.to_datetime(df['date'])\n",
    "df.dropna(inplace=True)\n",
    "df.head()"
   ]
  },
  {
   "cell_type": "markdown",
   "metadata": {},
   "source": [
    "<h3>Determining Percent Change In Price<h3>"
   ]
  },
  {
   "cell_type": "code",
   "execution_count": null,
   "metadata": {},
   "outputs": [
    {
     "ename": "ValueError",
     "evalue": "Expected a 1D array, got an array with shape (0, 6)",
     "output_type": "error",
     "traceback": [
      "\u001b[0;31m---------------------------------------------------------------------------\u001b[0m",
      "\u001b[0;31mKeyError\u001b[0m                                  Traceback (most recent call last)",
      "File \u001b[0;32m/Library/Frameworks/Python.framework/Versions/3.10/lib/python3.10/site-packages/pandas/core/indexes/base.py:3621\u001b[0m, in \u001b[0;36mIndex.get_loc\u001b[0;34m(self, key, method, tolerance)\u001b[0m\n\u001b[1;32m   3620\u001b[0m \u001b[39mtry\u001b[39;00m:\n\u001b[0;32m-> 3621\u001b[0m     \u001b[39mreturn\u001b[39;00m \u001b[39mself\u001b[39;49m\u001b[39m.\u001b[39;49m_engine\u001b[39m.\u001b[39;49mget_loc(casted_key)\n\u001b[1;32m   3622\u001b[0m \u001b[39mexcept\u001b[39;00m \u001b[39mKeyError\u001b[39;00m \u001b[39mas\u001b[39;00m err:\n",
      "File \u001b[0;32m/Library/Frameworks/Python.framework/Versions/3.10/lib/python3.10/site-packages/pandas/_libs/index.pyx:136\u001b[0m, in \u001b[0;36mpandas._libs.index.IndexEngine.get_loc\u001b[0;34m()\u001b[0m\n",
      "File \u001b[0;32m/Library/Frameworks/Python.framework/Versions/3.10/lib/python3.10/site-packages/pandas/_libs/index.pyx:163\u001b[0m, in \u001b[0;36mpandas._libs.index.IndexEngine.get_loc\u001b[0;34m()\u001b[0m\n",
      "File \u001b[0;32mpandas/_libs/hashtable_class_helper.pxi:5198\u001b[0m, in \u001b[0;36mpandas._libs.hashtable.PyObjectHashTable.get_item\u001b[0;34m()\u001b[0m\n",
      "File \u001b[0;32mpandas/_libs/hashtable_class_helper.pxi:5206\u001b[0m, in \u001b[0;36mpandas._libs.hashtable.PyObjectHashTable.get_item\u001b[0;34m()\u001b[0m\n",
      "\u001b[0;31mKeyError\u001b[0m: 'price_diff'",
      "\nThe above exception was the direct cause of the following exception:\n",
      "\u001b[0;31mKeyError\u001b[0m                                  Traceback (most recent call last)",
      "File \u001b[0;32m/Library/Frameworks/Python.framework/Versions/3.10/lib/python3.10/site-packages/pandas/core/frame.py:3799\u001b[0m, in \u001b[0;36mDataFrame._set_item_mgr\u001b[0;34m(self, key, value)\u001b[0m\n\u001b[1;32m   3798\u001b[0m \u001b[39mtry\u001b[39;00m:\n\u001b[0;32m-> 3799\u001b[0m     loc \u001b[39m=\u001b[39m \u001b[39mself\u001b[39;49m\u001b[39m.\u001b[39;49m_info_axis\u001b[39m.\u001b[39;49mget_loc(key)\n\u001b[1;32m   3800\u001b[0m \u001b[39mexcept\u001b[39;00m \u001b[39mKeyError\u001b[39;00m:\n\u001b[1;32m   3801\u001b[0m     \u001b[39m# This item wasn't present, just insert at end\u001b[39;00m\n",
      "File \u001b[0;32m/Library/Frameworks/Python.framework/Versions/3.10/lib/python3.10/site-packages/pandas/core/indexes/base.py:3623\u001b[0m, in \u001b[0;36mIndex.get_loc\u001b[0;34m(self, key, method, tolerance)\u001b[0m\n\u001b[1;32m   3622\u001b[0m \u001b[39mexcept\u001b[39;00m \u001b[39mKeyError\u001b[39;00m \u001b[39mas\u001b[39;00m err:\n\u001b[0;32m-> 3623\u001b[0m     \u001b[39mraise\u001b[39;00m \u001b[39mKeyError\u001b[39;00m(key) \u001b[39mfrom\u001b[39;00m \u001b[39merr\u001b[39;00m\n\u001b[1;32m   3624\u001b[0m \u001b[39mexcept\u001b[39;00m \u001b[39mTypeError\u001b[39;00m:\n\u001b[1;32m   3625\u001b[0m     \u001b[39m# If we have a listlike key, _check_indexing_error will raise\u001b[39;00m\n\u001b[1;32m   3626\u001b[0m     \u001b[39m#  InvalidIndexError. Otherwise we fall through and re-raise\u001b[39;00m\n\u001b[1;32m   3627\u001b[0m     \u001b[39m#  the TypeError.\u001b[39;00m\n",
      "\u001b[0;31mKeyError\u001b[0m: 'price_diff'",
      "\nDuring handling of the above exception, another exception occurred:\n",
      "\u001b[0;31mValueError\u001b[0m                                Traceback (most recent call last)",
      "\u001b[1;32m/Users/andersonschroeder/Documents/Stock-Lstm/Short Run Prediction/analysis.ipynb Cell 12\u001b[0m in \u001b[0;36m<cell line: 8>\u001b[0;34m()\u001b[0m\n\u001b[1;32m      <a href='vscode-notebook-cell:/Users/andersonschroeder/Documents/Stock-Lstm/Short%20Run%20Prediction/analysis.ipynb#ch0000010?line=4'>5</a>\u001b[0m     percent_change \u001b[39m=\u001b[39m delta_price\u001b[39m/\u001b[39mprices\n\u001b[1;32m      <a href='vscode-notebook-cell:/Users/andersonschroeder/Documents/Stock-Lstm/Short%20Run%20Prediction/analysis.ipynb#ch0000010?line=5'>6</a>\u001b[0m     \u001b[39mreturn\u001b[39;00m delta_price\n\u001b[0;32m----> <a href='vscode-notebook-cell:/Users/andersonschroeder/Documents/Stock-Lstm/Short%20Run%20Prediction/analysis.ipynb#ch0000010?line=7'>8</a>\u001b[0m df[\u001b[39m'\u001b[39m\u001b[39mprice_diff\u001b[39m\u001b[39m'\u001b[39m]  \u001b[39m=\u001b[39m df\u001b[39m.\u001b[39mapply(\u001b[39mlambda\u001b[39;00m row: generate_price_dif(row), axis\u001b[39m=\u001b[39m\u001b[39m1\u001b[39m)\n\u001b[1;32m      <a href='vscode-notebook-cell:/Users/andersonschroeder/Documents/Stock-Lstm/Short%20Run%20Prediction/analysis.ipynb#ch0000010?line=8'>9</a>\u001b[0m df[\u001b[39m'\u001b[39m\u001b[39mpercent_change\u001b[39m\u001b[39m'\u001b[39m] \u001b[39m=\u001b[39m df\u001b[39m.\u001b[39mapply(\u001b[39mlambda\u001b[39;00m row: (row[\u001b[39m'\u001b[39m\u001b[39mprice_diff\u001b[39m\u001b[39m'\u001b[39m]\u001b[39m/\u001b[39mnp\u001b[39m.\u001b[39masarray(row[\u001b[39m'\u001b[39m\u001b[39mprice\u001b[39m\u001b[39m'\u001b[39m])) \u001b[39m*\u001b[39m \u001b[39m100\u001b[39m, axis\u001b[39m=\u001b[39m \u001b[39m1\u001b[39m)\n\u001b[1;32m     <a href='vscode-notebook-cell:/Users/andersonschroeder/Documents/Stock-Lstm/Short%20Run%20Prediction/analysis.ipynb#ch0000010?line=9'>10</a>\u001b[0m df\u001b[39m.\u001b[39mhead()\n",
      "File \u001b[0;32m/Library/Frameworks/Python.framework/Versions/3.10/lib/python3.10/site-packages/pandas/core/frame.py:3645\u001b[0m, in \u001b[0;36mDataFrame.__setitem__\u001b[0;34m(self, key, value)\u001b[0m\n\u001b[1;32m   3643\u001b[0m     \u001b[39mself\u001b[39m\u001b[39m.\u001b[39m_setitem_array(key, value)\n\u001b[1;32m   3644\u001b[0m \u001b[39melif\u001b[39;00m \u001b[39misinstance\u001b[39m(value, DataFrame):\n\u001b[0;32m-> 3645\u001b[0m     \u001b[39mself\u001b[39;49m\u001b[39m.\u001b[39;49m_set_item_frame_value(key, value)\n\u001b[1;32m   3646\u001b[0m \u001b[39melif\u001b[39;00m (\n\u001b[1;32m   3647\u001b[0m     is_list_like(value)\n\u001b[1;32m   3648\u001b[0m     \u001b[39mand\u001b[39;00m \u001b[39mnot\u001b[39;00m \u001b[39mself\u001b[39m\u001b[39m.\u001b[39mcolumns\u001b[39m.\u001b[39mis_unique\n\u001b[1;32m   3649\u001b[0m     \u001b[39mand\u001b[39;00m \u001b[39m1\u001b[39m \u001b[39m<\u001b[39m \u001b[39mlen\u001b[39m(\u001b[39mself\u001b[39m\u001b[39m.\u001b[39mcolumns\u001b[39m.\u001b[39mget_indexer_for([key])) \u001b[39m==\u001b[39m \u001b[39mlen\u001b[39m(value)\n\u001b[1;32m   3650\u001b[0m ):\n\u001b[1;32m   3651\u001b[0m     \u001b[39m# Column to set is duplicated\u001b[39;00m\n\u001b[1;32m   3652\u001b[0m     \u001b[39mself\u001b[39m\u001b[39m.\u001b[39m_setitem_array([key], value)\n",
      "File \u001b[0;32m/Library/Frameworks/Python.framework/Versions/3.10/lib/python3.10/site-packages/pandas/core/frame.py:3788\u001b[0m, in \u001b[0;36mDataFrame._set_item_frame_value\u001b[0;34m(self, key, value)\u001b[0m\n\u001b[1;32m   3786\u001b[0m \u001b[39m# now align rows\u001b[39;00m\n\u001b[1;32m   3787\u001b[0m arraylike \u001b[39m=\u001b[39m _reindex_for_setitem(value, \u001b[39mself\u001b[39m\u001b[39m.\u001b[39mindex)\n\u001b[0;32m-> 3788\u001b[0m \u001b[39mself\u001b[39;49m\u001b[39m.\u001b[39;49m_set_item_mgr(key, arraylike)\n",
      "File \u001b[0;32m/Library/Frameworks/Python.framework/Versions/3.10/lib/python3.10/site-packages/pandas/core/frame.py:3802\u001b[0m, in \u001b[0;36mDataFrame._set_item_mgr\u001b[0;34m(self, key, value)\u001b[0m\n\u001b[1;32m   3799\u001b[0m     loc \u001b[39m=\u001b[39m \u001b[39mself\u001b[39m\u001b[39m.\u001b[39m_info_axis\u001b[39m.\u001b[39mget_loc(key)\n\u001b[1;32m   3800\u001b[0m \u001b[39mexcept\u001b[39;00m \u001b[39mKeyError\u001b[39;00m:\n\u001b[1;32m   3801\u001b[0m     \u001b[39m# This item wasn't present, just insert at end\u001b[39;00m\n\u001b[0;32m-> 3802\u001b[0m     \u001b[39mself\u001b[39;49m\u001b[39m.\u001b[39;49m_mgr\u001b[39m.\u001b[39;49minsert(\u001b[39mlen\u001b[39;49m(\u001b[39mself\u001b[39;49m\u001b[39m.\u001b[39;49m_info_axis), key, value)\n\u001b[1;32m   3803\u001b[0m \u001b[39melse\u001b[39;00m:\n\u001b[1;32m   3804\u001b[0m     \u001b[39mself\u001b[39m\u001b[39m.\u001b[39m_iset_item_mgr(loc, value)\n",
      "File \u001b[0;32m/Library/Frameworks/Python.framework/Versions/3.10/lib/python3.10/site-packages/pandas/core/internals/managers.py:1235\u001b[0m, in \u001b[0;36mBlockManager.insert\u001b[0;34m(self, loc, item, value)\u001b[0m\n\u001b[1;32m   1233\u001b[0m     value \u001b[39m=\u001b[39m value\u001b[39m.\u001b[39mT\n\u001b[1;32m   1234\u001b[0m     \u001b[39mif\u001b[39;00m \u001b[39mlen\u001b[39m(value) \u001b[39m>\u001b[39m \u001b[39m1\u001b[39m:\n\u001b[0;32m-> 1235\u001b[0m         \u001b[39mraise\u001b[39;00m \u001b[39mValueError\u001b[39;00m(\n\u001b[1;32m   1236\u001b[0m             \u001b[39mf\u001b[39m\u001b[39m\"\u001b[39m\u001b[39mExpected a 1D array, got an array with shape \u001b[39m\u001b[39m{\u001b[39;00mvalue\u001b[39m.\u001b[39mT\u001b[39m.\u001b[39mshape\u001b[39m}\u001b[39;00m\u001b[39m\"\u001b[39m\n\u001b[1;32m   1237\u001b[0m         )\n\u001b[1;32m   1238\u001b[0m \u001b[39melse\u001b[39;00m:\n\u001b[1;32m   1239\u001b[0m     value \u001b[39m=\u001b[39m ensure_block_shape(value, ndim\u001b[39m=\u001b[39m\u001b[39mself\u001b[39m\u001b[39m.\u001b[39mndim)\n",
      "\u001b[0;31mValueError\u001b[0m: Expected a 1D array, got an array with shape (0, 6)"
     ]
    }
   ],
   "source": [
    "def generate_price_dif(row):\n",
    "    prices = np.asarray(row['price'])\n",
    "    price_shift = np.asarray(row['price'][1:] + row['price'][0:1])\n",
    "    delta_price = prices-price_shift\n",
    "    percent_change = delta_price/prices\n",
    "    return delta_price\n",
    "\n",
    "df['price_diff']  = df.apply(lambda row: generate_price_dif(row), axis=1)\n",
    "df['percent_change'] = df.apply(lambda row: (row['price_diff']/np.asarray(row['price'])) * 100, axis= 1)\n",
    "df.head()"
   ]
  },
  {
   "cell_type": "code",
   "execution_count": null,
   "metadata": {},
   "outputs": [
    {
     "ename": "TypeError",
     "evalue": "Index(...) must be called with a collection of some kind, Timestamp('2022-08-30 00:00:00') was passed",
     "output_type": "error",
     "traceback": [
      "\u001b[0;31m---------------------------------------------------------------------------\u001b[0m",
      "\u001b[0;31mTypeError\u001b[0m                                 Traceback (most recent call last)",
      "\u001b[1;32m/Users/andersonschroeder/Documents/Stock-Lstm/Short Run Prediction/analysis.ipynb Cell 12\u001b[0m in \u001b[0;36m<cell line: 5>\u001b[0;34m()\u001b[0m\n\u001b[1;32m      <a href='vscode-notebook-cell:/Users/andersonschroeder/Documents/Stock-Lstm/Short%20Run%20Prediction/analysis.ipynb#ch0000023?line=1'>2</a>\u001b[0m     df \u001b[39m=\u001b[39m pd\u001b[39m.\u001b[39mDataFrame(\u001b[39mlist\u001b[39m(row[\u001b[39m'\u001b[39m\u001b[39mtime_price\u001b[39m\u001b[39m'\u001b[39m]), index\u001b[39m=\u001b[39mrow[\u001b[39m'\u001b[39m\u001b[39mdate\u001b[39m\u001b[39m'\u001b[39m])\n\u001b[1;32m      <a href='vscode-notebook-cell:/Users/andersonschroeder/Documents/Stock-Lstm/Short%20Run%20Prediction/analysis.ipynb#ch0000023?line=3'>4</a>\u001b[0m     \u001b[39mreturn\u001b[39;00m df\n\u001b[0;32m----> <a href='vscode-notebook-cell:/Users/andersonschroeder/Documents/Stock-Lstm/Short%20Run%20Prediction/analysis.ipynb#ch0000023?line=4'>5</a>\u001b[0m \u001b[39mprint\u001b[39m(generate_day_data(df\u001b[39m.\u001b[39;49miloc[\u001b[39m0\u001b[39;49m]))\n",
      "\u001b[1;32m/Users/andersonschroeder/Documents/Stock-Lstm/Short Run Prediction/analysis.ipynb Cell 12\u001b[0m in \u001b[0;36mgenerate_day_data\u001b[0;34m(row)\u001b[0m\n\u001b[1;32m      <a href='vscode-notebook-cell:/Users/andersonschroeder/Documents/Stock-Lstm/Short%20Run%20Prediction/analysis.ipynb#ch0000023?line=0'>1</a>\u001b[0m \u001b[39mdef\u001b[39;00m \u001b[39mgenerate_day_data\u001b[39m(row):\n\u001b[0;32m----> <a href='vscode-notebook-cell:/Users/andersonschroeder/Documents/Stock-Lstm/Short%20Run%20Prediction/analysis.ipynb#ch0000023?line=1'>2</a>\u001b[0m     df \u001b[39m=\u001b[39m pd\u001b[39m.\u001b[39;49mDataFrame(\u001b[39mlist\u001b[39;49m(row[\u001b[39m'\u001b[39;49m\u001b[39mtime_price\u001b[39;49m\u001b[39m'\u001b[39;49m]), index\u001b[39m=\u001b[39;49mrow[\u001b[39m'\u001b[39;49m\u001b[39mdate\u001b[39;49m\u001b[39m'\u001b[39;49m])\n\u001b[1;32m      <a href='vscode-notebook-cell:/Users/andersonschroeder/Documents/Stock-Lstm/Short%20Run%20Prediction/analysis.ipynb#ch0000023?line=3'>4</a>\u001b[0m     \u001b[39mreturn\u001b[39;00m df\n",
      "File \u001b[0;32m/Library/Frameworks/Python.framework/Versions/3.10/lib/python3.10/site-packages/pandas/core/frame.py:737\u001b[0m, in \u001b[0;36mDataFrame.__init__\u001b[0;34m(self, data, index, columns, dtype, copy)\u001b[0m\n\u001b[1;32m    729\u001b[0m         mgr \u001b[39m=\u001b[39m arrays_to_mgr(\n\u001b[1;32m    730\u001b[0m             arrays,\n\u001b[1;32m    731\u001b[0m             columns,\n\u001b[0;32m   (...)\u001b[0m\n\u001b[1;32m    734\u001b[0m             typ\u001b[39m=\u001b[39mmanager,\n\u001b[1;32m    735\u001b[0m         )\n\u001b[1;32m    736\u001b[0m     \u001b[39melse\u001b[39;00m:\n\u001b[0;32m--> 737\u001b[0m         mgr \u001b[39m=\u001b[39m ndarray_to_mgr(\n\u001b[1;32m    738\u001b[0m             data,\n\u001b[1;32m    739\u001b[0m             index,\n\u001b[1;32m    740\u001b[0m             columns,\n\u001b[1;32m    741\u001b[0m             dtype\u001b[39m=\u001b[39;49mdtype,\n\u001b[1;32m    742\u001b[0m             copy\u001b[39m=\u001b[39;49mcopy,\n\u001b[1;32m    743\u001b[0m             typ\u001b[39m=\u001b[39;49mmanager,\n\u001b[1;32m    744\u001b[0m         )\n\u001b[1;32m    745\u001b[0m \u001b[39melse\u001b[39;00m:\n\u001b[1;32m    746\u001b[0m     mgr \u001b[39m=\u001b[39m dict_to_mgr(\n\u001b[1;32m    747\u001b[0m         {},\n\u001b[1;32m    748\u001b[0m         index,\n\u001b[0;32m   (...)\u001b[0m\n\u001b[1;32m    751\u001b[0m         typ\u001b[39m=\u001b[39mmanager,\n\u001b[1;32m    752\u001b[0m     )\n",
      "File \u001b[0;32m/Library/Frameworks/Python.framework/Versions/3.10/lib/python3.10/site-packages/pandas/core/internals/construction.py:347\u001b[0m, in \u001b[0;36mndarray_to_mgr\u001b[0;34m(values, index, columns, dtype, copy, typ)\u001b[0m\n\u001b[1;32m    344\u001b[0m     values \u001b[39m=\u001b[39m values\u001b[39m.\u001b[39mreshape(shape)\n\u001b[1;32m    346\u001b[0m \u001b[39m# _prep_ndarray ensures that values.ndim == 2 at this point\u001b[39;00m\n\u001b[0;32m--> 347\u001b[0m index, columns \u001b[39m=\u001b[39m _get_axes(\n\u001b[1;32m    348\u001b[0m     values\u001b[39m.\u001b[39;49mshape[\u001b[39m0\u001b[39;49m], values\u001b[39m.\u001b[39;49mshape[\u001b[39m1\u001b[39;49m], index\u001b[39m=\u001b[39;49mindex, columns\u001b[39m=\u001b[39;49mcolumns\n\u001b[1;32m    349\u001b[0m )\n\u001b[1;32m    351\u001b[0m _check_values_indices_shape_match(values, index, columns)\n\u001b[1;32m    353\u001b[0m \u001b[39mif\u001b[39;00m typ \u001b[39m==\u001b[39m \u001b[39m\"\u001b[39m\u001b[39marray\u001b[39m\u001b[39m\"\u001b[39m:\n",
      "File \u001b[0;32m/Library/Frameworks/Python.framework/Versions/3.10/lib/python3.10/site-packages/pandas/core/internals/construction.py:756\u001b[0m, in \u001b[0;36m_get_axes\u001b[0;34m(N, K, index, columns)\u001b[0m\n\u001b[1;32m    754\u001b[0m     index \u001b[39m=\u001b[39m default_index(N)\n\u001b[1;32m    755\u001b[0m \u001b[39melse\u001b[39;00m:\n\u001b[0;32m--> 756\u001b[0m     index \u001b[39m=\u001b[39m ensure_index(index)\n\u001b[1;32m    758\u001b[0m \u001b[39mif\u001b[39;00m columns \u001b[39mis\u001b[39;00m \u001b[39mNone\u001b[39;00m:\n\u001b[1;32m    759\u001b[0m     columns \u001b[39m=\u001b[39m default_index(K)\n",
      "File \u001b[0;32m/Library/Frameworks/Python.framework/Versions/3.10/lib/python3.10/site-packages/pandas/core/indexes/base.py:7043\u001b[0m, in \u001b[0;36mensure_index\u001b[0;34m(index_like, copy)\u001b[0m\n\u001b[1;32m   7041\u001b[0m         \u001b[39mreturn\u001b[39;00m Index\u001b[39m.\u001b[39m_with_infer(index_like, copy\u001b[39m=\u001b[39mcopy, tupleize_cols\u001b[39m=\u001b[39m\u001b[39mFalse\u001b[39;00m)\n\u001b[1;32m   7042\u001b[0m \u001b[39melse\u001b[39;00m:\n\u001b[0;32m-> 7043\u001b[0m     \u001b[39mreturn\u001b[39;00m Index\u001b[39m.\u001b[39;49m_with_infer(index_like, copy\u001b[39m=\u001b[39;49mcopy)\n",
      "File \u001b[0;32m/Library/Frameworks/Python.framework/Versions/3.10/lib/python3.10/site-packages/pandas/core/indexes/base.py:680\u001b[0m, in \u001b[0;36mIndex._with_infer\u001b[0;34m(cls, *args, **kwargs)\u001b[0m\n\u001b[1;32m    678\u001b[0m \u001b[39mwith\u001b[39;00m warnings\u001b[39m.\u001b[39mcatch_warnings():\n\u001b[1;32m    679\u001b[0m     warnings\u001b[39m.\u001b[39mfilterwarnings(\u001b[39m\"\u001b[39m\u001b[39mignore\u001b[39m\u001b[39m\"\u001b[39m, \u001b[39m\"\u001b[39m\u001b[39m.*the Index constructor\u001b[39m\u001b[39m\"\u001b[39m, \u001b[39mFutureWarning\u001b[39;00m)\n\u001b[0;32m--> 680\u001b[0m     result \u001b[39m=\u001b[39m \u001b[39mcls\u001b[39;49m(\u001b[39m*\u001b[39;49margs, \u001b[39m*\u001b[39;49m\u001b[39m*\u001b[39;49mkwargs)\n\u001b[1;32m    682\u001b[0m \u001b[39mif\u001b[39;00m result\u001b[39m.\u001b[39mdtype \u001b[39m==\u001b[39m _dtype_obj \u001b[39mand\u001b[39;00m \u001b[39mnot\u001b[39;00m result\u001b[39m.\u001b[39m_is_multi:\n\u001b[1;32m    683\u001b[0m     \u001b[39m# error: Argument 1 to \"maybe_convert_objects\" has incompatible type\u001b[39;00m\n\u001b[1;32m    684\u001b[0m     \u001b[39m# \"Union[ExtensionArray, ndarray[Any, Any]]\"; expected\u001b[39;00m\n\u001b[1;32m    685\u001b[0m     \u001b[39m# \"ndarray[Any, Any]\"\u001b[39;00m\n\u001b[1;32m    686\u001b[0m     values \u001b[39m=\u001b[39m lib\u001b[39m.\u001b[39mmaybe_convert_objects(result\u001b[39m.\u001b[39m_values)  \u001b[39m# type: ignore[arg-type]\u001b[39;00m\n",
      "File \u001b[0;32m/Library/Frameworks/Python.framework/Versions/3.10/lib/python3.10/site-packages/pandas/core/indexes/base.py:508\u001b[0m, in \u001b[0;36mIndex.__new__\u001b[0;34m(cls, data, dtype, copy, name, tupleize_cols, **kwargs)\u001b[0m\n\u001b[1;32m    505\u001b[0m     \u001b[39mreturn\u001b[39;00m klass\u001b[39m.\u001b[39m_simple_new(arr, name)\n\u001b[1;32m    507\u001b[0m \u001b[39melif\u001b[39;00m is_scalar(data):\n\u001b[0;32m--> 508\u001b[0m     \u001b[39mraise\u001b[39;00m \u001b[39mcls\u001b[39m\u001b[39m.\u001b[39m_scalar_data_error(data)\n\u001b[1;32m    509\u001b[0m \u001b[39melif\u001b[39;00m \u001b[39mhasattr\u001b[39m(data, \u001b[39m\"\u001b[39m\u001b[39m__array__\u001b[39m\u001b[39m\"\u001b[39m):\n\u001b[1;32m    510\u001b[0m     \u001b[39mreturn\u001b[39;00m Index(np\u001b[39m.\u001b[39masarray(data), dtype\u001b[39m=\u001b[39mdtype, copy\u001b[39m=\u001b[39mcopy, name\u001b[39m=\u001b[39mname, \u001b[39m*\u001b[39m\u001b[39m*\u001b[39mkwargs)\n",
      "\u001b[0;31mTypeError\u001b[0m: Index(...) must be called with a collection of some kind, Timestamp('2022-08-30 00:00:00') was passed"
     ]
    }
   ],
   "source": [
    "def generate_day_data(row):\n",
    "    df = pd.DataFrame(list(row['time_price']), index=row['date'])\n",
    "    \n",
    "    return df\n",
    "print(generate_day_data(df.iloc[0]))"
   ]
  },
  {
   "cell_type": "markdown",
   "metadata": {},
   "source": [
    "<h2>Visualizing Trends In News Sentiment and Stock Prices</h2>\n",
    "\n",
    "<p>Visualizing the data should reveal trends in the prices that make be unintuitive given large sets of numbers. This should provide us with a solid basis for attempting to explore correlations in stock prices and news sentiment.</p>"
   ]
  },
  {
   "cell_type": "markdown",
   "metadata": {},
   "source": [
    "<h3>Plotting Sentiment Versus Price</h3>\n",
    "\n",
    "<p>We begin by exploring the intesnity of sentiment per minute with data to the daily graph of our given stock.</p>"
   ]
  },
  {
   "cell_type": "code",
   "execution_count": null,
   "metadata": {},
   "outputs": [],
   "source": [
    "\n",
    "def get_data_day(x, dataframe, row):\n",
    "    lst = []\n",
    "    for i in range(x):\n",
    "        lst += dataframe.iloc[i][row]\n",
    "    return lst\n",
    "\n",
    "def get_time_data_day(x, dataframe):\n",
    "    times = []\n",
    "    for i in range(x):\n",
    "        date = dataframe.iloc[i]['date']\n",
    "        for item in dataframe.iloc[i]['time']:\n",
    "            time = item.split(\":\")\n",
    "            times.append(datetime.datetime(date.year,date.month,date.day,int(time[0]),int(time[1])))\n",
    "    return times\n",
    "\n",
    "def plot_x_days_price(x, dataframe, subplot = plt):\n",
    "    lst = get_data_day(x, dataframe, 'price')\n",
    "    times = get_time_data_day(x, dataframe)\n",
    "    subplot.plot(times, lst)\n",
    "\n",
    "\n",
    "def plot_x_days_sentiment(x, subreddit, dataframe, data_gather, subplot = plt):\n",
    "    dct_lst = {}\n",
    "    for point in data_gather.keys():\n",
    "        dct_lst[f'{point}'] = np.array(\n",
    "            [dataframe.iloc[i][subreddit][key][point] for i in range(x) for key in dataframe.iloc[i][subreddit]]).astype(float)\n",
    "        dct_lst[f'{point}'][f'{point}_list'==0] = np.nan\n",
    "    #times = get_time_data_day(x, dataframe)\n",
    "    times = []\n",
    "    for i in range(x):\n",
    "        date = dataframe.iloc[i]['date']\n",
    "        for item in dataframe.iloc[i][subreddit].keys():\n",
    "            time = item.split(\":\")\n",
    "            times.append(datetime.datetime(date.year,date.month,date.day,int(time[0]),int(time[1])))\n",
    "\n",
    "    for key, lst in dct_lst.items():\n",
    "        subplot.bar(times, lst, color = data_gather[key], width=.005)\n",
    "        subplot.bar(times, lst, color = data_gather[key], width=.005)\n",
    "\n",
    "def plot_x_days(x, subreddit, dataframe):\n",
    "    figure, axis = plt.subplots(2,1)\n",
    "    plot_x_days_sentiment(x, subreddit, dataframe, {'neg': 'red','pos':'green'},axis[0])\n",
    "    plot_x_days_price(x, dataframe, axis[1])\n",
    "    #plot_change(1, dataframe, axis[0])\n",
    "\n",
    "\n",
    "def generate_day_frame(row, subreddit):\n",
    "    df = pd.DataFrame.from_dict(row[subreddit], orient='index')\n",
    "    return df\n"
   ]
  },
  {
   "cell_type": "code",
   "execution_count": null,
   "metadata": {},
   "outputs": [
    {
     "data": {
      "image/png": "[encoded data removed]",
      "text/plain": [
       "<Figure size 432x288 with 2 Axes>"
      ]
     },
     "metadata": {
      "needs_background": "light"
     },
     "output_type": "display_data"
    }
   ],
   "source": [
    "plot_x_days(1,'Economics', df)"
   ]
  },
  {
   "cell_type": "markdown",
   "metadata": {},
   "source": [
    "<p>Now lets explore the relationship between change in price and the sentiment intensities</p>"
   ]
  },
  {
   "cell_type": "code",
   "execution_count": null,
   "metadata": {},
   "outputs": [],
   "source": [
    "\n",
    "def plot_change(x, dataframe, subplot = plt):\n",
    "    lst = []\n",
    "    times = []\n",
    "    for i in range(x):\n",
    "        date = dataframe.iloc[i]['date']\n",
    "        for item in dataframe.iloc[i]['time']:\n",
    "            time = item.split(\":\")\n",
    "            times.append(datetime.datetime(date.year,date.month,date.day,int(time[0]),int(time[1])))\n",
    "        lst += list(dataframe.iloc[i]['percent_change'])\n",
    "\n",
    "    subplot.plot(times, lst)\n",
    "    #subplot.ylim(-.3, 1)"
   ]
  },
  {
   "cell_type": "markdown",
   "metadata": {},
   "source": [
    "<h3>Initial Hypothesis</h3>\n",
    "<p>blah blah blah</p>"
   ]
  },
  {
   "cell_type": "markdown",
   "metadata": {},
   "source": [
    "<h2>Markov Chains<h2>"
   ]
  },
  {
   "cell_type": "markdown",
   "metadata": {},
   "source": [
    "<h3>Nth Degree Markov Chains<h3>"
   ]
  },
  {
   "cell_type": "markdown",
   "metadata": {},
   "source": [
    "<h3>Optimizing Nth Degree Markov Chains<h3>"
   ]
  },
  {
   "cell_type": "markdown",
   "metadata": {},
   "source": [
    "<h2>Deep Neural Network<h2>"
   ]
  },
  {
   "cell_type": "markdown",
   "metadata": {},
   "source": [
    "<h2>LSTM Networks<h2>"
   ]
  }
 ],
 "metadata": {
  "kernelspec": {
   "display_name": "Python 3.10.2 64-bit",
   "language": "python",
   "name": "python3"
  },
  "language_info": {
   "codemirror_mode": {
    "name": "ipython",
    "version": 3
   },
   "file_extension": ".py",
   "mimetype": "text/x-python",
   "name": "python",
   "nbconvert_exporter": "python",
   "pygments_lexer": "ipython3",
   "version": "3.10.2"
  },
  "orig_nbformat": 4,
  "vscode": {
   "interpreter": {
    "hash": "aee8b7b246df8f9039afb4144a1f6fd8d2ca17a180786b69acc140d282b71a49"
   }
  }
 },
 "nbformat": 4,
 "nbformat_minor": 2
}
