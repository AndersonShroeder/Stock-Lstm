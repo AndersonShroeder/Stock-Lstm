{
 "cells": [
  {
   "cell_type": "markdown",
   "metadata": {},
   "source": [
    "<h2>Importing Data<h2>"
   ]
  },
  {
   "cell_type": "code",
   "execution_count": 17,
   "metadata": {},
   "outputs": [],
   "source": [
    "import pandas as pd\n",
    "import matplotlib.pyplot as plt\n",
    "import datetime\n",
    "import numpy as np\n"
   ]
  },
  {
   "cell_type": "code",
   "execution_count": 18,
   "metadata": {},
   "outputs": [
    {
     "data": {
      "text/html": [
       "<div>\n",
       "<style scoped>\n",
       "    .dataframe tbody tr th:only-of-type {\n",
       "        vertical-align: middle;\n",
       "    }\n",
       "\n",
       "    .dataframe tbody tr th {\n",
       "        vertical-align: top;\n",
       "    }\n",
       "\n",
       "    .dataframe thead th {\n",
       "        text-align: right;\n",
       "    }\n",
       "</style>\n",
       "<table border=\"1\" class=\"dataframe\">\n",
       "  <thead>\n",
       "    <tr style=\"text-align: right;\">\n",
       "      <th></th>\n",
       "      <th>Economics</th>\n",
       "    </tr>\n",
       "  </thead>\n",
       "  <tbody>\n",
       "    <tr>\n",
       "      <th>2022-09-01 12:40:00</th>\n",
       "      <td>{'polarity': 0.4, 'subjectivity': 0.7000000000...</td>\n",
       "    </tr>\n",
       "    <tr>\n",
       "      <th>2022-09-01 12:42:00</th>\n",
       "      <td>{'polarity': 0.5, 'subjectivity': 0.6000000000...</td>\n",
       "    </tr>\n",
       "    <tr>\n",
       "      <th>2022-09-01 12:43:00</th>\n",
       "      <td>{'polarity': 0.1, 'subjectivity': 0.4, 'compou...</td>\n",
       "    </tr>\n",
       "    <tr>\n",
       "      <th>2022-09-01 12:44:00</th>\n",
       "      <td>{'polarity': 0.5, 'subjectivity': 0.925, 'comp...</td>\n",
       "    </tr>\n",
       "    <tr>\n",
       "      <th>2022-09-01 12:47:00</th>\n",
       "      <td>{'polarity': 0.1071428571, 'subjectivity': 0.3...</td>\n",
       "    </tr>\n",
       "  </tbody>\n",
       "</table>\n",
       "</div>"
      ],
      "text/plain": [
       "                                                             Economics\n",
       "2022-09-01 12:40:00  {'polarity': 0.4, 'subjectivity': 0.7000000000...\n",
       "2022-09-01 12:42:00  {'polarity': 0.5, 'subjectivity': 0.6000000000...\n",
       "2022-09-01 12:43:00  {'polarity': 0.1, 'subjectivity': 0.4, 'compou...\n",
       "2022-09-01 12:44:00  {'polarity': 0.5, 'subjectivity': 0.925, 'comp...\n",
       "2022-09-01 12:47:00  {'polarity': 0.1071428571, 'subjectivity': 0.3..."
      ]
     },
     "execution_count": 18,
     "metadata": {},
     "output_type": "execute_result"
    }
   ],
   "source": [
    "df1 = pd.read_json('./Datasets/generated_data_Economics.json')\n",
    "df2 = pd.read_csv('./Datasets/VOO.csv')\n",
    "df2.head()\n",
    "df1.head()"
   ]
  },
  {
   "cell_type": "markdown",
   "metadata": {},
   "source": [
    "<h3>Preparing The Subreddit Sentiment Data </h3>"
   ]
  },
  {
   "cell_type": "code",
   "execution_count": 19,
   "metadata": {},
   "outputs": [
    {
     "data": {
      "text/html": [
       "<div>\n",
       "<style scoped>\n",
       "    .dataframe tbody tr th:only-of-type {\n",
       "        vertical-align: middle;\n",
       "    }\n",
       "\n",
       "    .dataframe tbody tr th {\n",
       "        vertical-align: top;\n",
       "    }\n",
       "\n",
       "    .dataframe thead th {\n",
       "        text-align: right;\n",
       "    }\n",
       "</style>\n",
       "<table border=\"1\" class=\"dataframe\">\n",
       "  <thead>\n",
       "    <tr style=\"text-align: right;\">\n",
       "      <th></th>\n",
       "      <th>date</th>\n",
       "      <th>time</th>\n",
       "      <th>Economics</th>\n",
       "    </tr>\n",
       "  </thead>\n",
       "  <tbody>\n",
       "    <tr>\n",
       "      <th>0</th>\n",
       "      <td>2022-09-01</td>\n",
       "      <td>[2022-09-01 12:40:00, 2022-09-01 12:42:00, 202...</td>\n",
       "      <td>[{'polarity': 0.4, 'subjectivity': 0.700000000...</td>\n",
       "    </tr>\n",
       "    <tr>\n",
       "      <th>1</th>\n",
       "      <td>2022-09-02</td>\n",
       "      <td>[2022-09-02 09:41:00, 2022-09-02 09:42:00, 202...</td>\n",
       "      <td>[{'polarity': 0.0, 'subjectivity': 0.0, 'compo...</td>\n",
       "    </tr>\n",
       "    <tr>\n",
       "      <th>2</th>\n",
       "      <td>2022-09-03</td>\n",
       "      <td>[2022-09-03 09:36:00, 2022-09-03 09:38:00, 202...</td>\n",
       "      <td>[{'polarity': 0.1, 'subjectivity': 1.3, 'compo...</td>\n",
       "    </tr>\n",
       "    <tr>\n",
       "      <th>3</th>\n",
       "      <td>2022-09-04</td>\n",
       "      <td>[2022-09-04 09:42:00, 2022-09-04 09:43:00, 202...</td>\n",
       "      <td>[{'polarity': 0.0, 'subjectivity': 0.0, 'compo...</td>\n",
       "    </tr>\n",
       "    <tr>\n",
       "      <th>4</th>\n",
       "      <td>2022-09-05</td>\n",
       "      <td>[2022-09-05 12:56:00, 2022-09-05 13:00:00, 202...</td>\n",
       "      <td>[{'polarity': 0.0, 'subjectivity': 0.0, 'compo...</td>\n",
       "    </tr>\n",
       "  </tbody>\n",
       "</table>\n",
       "</div>"
      ],
      "text/plain": [
       "         date                                               time  \\\n",
       "0  2022-09-01  [2022-09-01 12:40:00, 2022-09-01 12:42:00, 202...   \n",
       "1  2022-09-02  [2022-09-02 09:41:00, 2022-09-02 09:42:00, 202...   \n",
       "2  2022-09-03  [2022-09-03 09:36:00, 2022-09-03 09:38:00, 202...   \n",
       "3  2022-09-04  [2022-09-04 09:42:00, 2022-09-04 09:43:00, 202...   \n",
       "4  2022-09-05  [2022-09-05 12:56:00, 2022-09-05 13:00:00, 202...   \n",
       "\n",
       "                                           Economics  \n",
       "0  [{'polarity': 0.4, 'subjectivity': 0.700000000...  \n",
       "1  [{'polarity': 0.0, 'subjectivity': 0.0, 'compo...  \n",
       "2  [{'polarity': 0.1, 'subjectivity': 1.3, 'compo...  \n",
       "3  [{'polarity': 0.0, 'subjectivity': 0.0, 'compo...  \n",
       "4  [{'polarity': 0.0, 'subjectivity': 0.0, 'compo...  "
      ]
     },
     "execution_count": 19,
     "metadata": {},
     "output_type": "execute_result"
    }
   ],
   "source": [
    "df1.reset_index(inplace=True)\n",
    "df1['index'] = pd.to_datetime(df1['index'])\n",
    "df1['date'] = df1['index'].dt.date\n",
    "df1['time'] = df1['index']\n",
    "df1 = df1.groupby('date').agg(list)\n",
    "df1.reset_index(inplace=True)\n",
    "df1 = df1[['date', 'time', 'Economics']]\n",
    "df1.head()"
   ]
  },
  {
   "cell_type": "markdown",
   "metadata": {},
   "source": [
    "<h3>Preparing The Stock Price Data<h3>"
   ]
  },
  {
   "cell_type": "code",
   "execution_count": 20,
   "metadata": {},
   "outputs": [
    {
     "data": {
      "text/html": [
       "<div>\n",
       "<style scoped>\n",
       "    .dataframe tbody tr th:only-of-type {\n",
       "        vertical-align: middle;\n",
       "    }\n",
       "\n",
       "    .dataframe tbody tr th {\n",
       "        vertical-align: top;\n",
       "    }\n",
       "\n",
       "    .dataframe thead th {\n",
       "        text-align: right;\n",
       "    }\n",
       "</style>\n",
       "<table border=\"1\" class=\"dataframe\">\n",
       "  <thead>\n",
       "    <tr style=\"text-align: right;\">\n",
       "      <th></th>\n",
       "      <th>price</th>\n",
       "      <th>date</th>\n",
       "      <th>time</th>\n",
       "    </tr>\n",
       "  </thead>\n",
       "  <tbody>\n",
       "    <tr>\n",
       "      <th>0</th>\n",
       "      <td>369.648010</td>\n",
       "      <td>2022-08-29</td>\n",
       "      <td>2022-08-29 09:30:00</td>\n",
       "    </tr>\n",
       "    <tr>\n",
       "      <th>1</th>\n",
       "      <td>369.799988</td>\n",
       "      <td>2022-08-29</td>\n",
       "      <td>2022-08-29 09:31:00</td>\n",
       "    </tr>\n",
       "    <tr>\n",
       "      <th>2</th>\n",
       "      <td>370.220001</td>\n",
       "      <td>2022-08-29</td>\n",
       "      <td>2022-08-29 09:33:00</td>\n",
       "    </tr>\n",
       "    <tr>\n",
       "      <th>3</th>\n",
       "      <td>370.549988</td>\n",
       "      <td>2022-08-29</td>\n",
       "      <td>2022-08-29 09:34:00</td>\n",
       "    </tr>\n",
       "    <tr>\n",
       "      <th>4</th>\n",
       "      <td>370.299988</td>\n",
       "      <td>2022-08-29</td>\n",
       "      <td>2022-08-29 09:35:00</td>\n",
       "    </tr>\n",
       "  </tbody>\n",
       "</table>\n",
       "</div>"
      ],
      "text/plain": [
       "        price        date                time\n",
       "0  369.648010  2022-08-29 2022-08-29 09:30:00\n",
       "1  369.799988  2022-08-29 2022-08-29 09:31:00\n",
       "2  370.220001  2022-08-29 2022-08-29 09:33:00\n",
       "3  370.549988  2022-08-29 2022-08-29 09:34:00\n",
       "4  370.299988  2022-08-29 2022-08-29 09:35:00"
      ]
     },
     "execution_count": 20,
     "metadata": {},
     "output_type": "execute_result"
    }
   ],
   "source": [
    "df2['date_time'] = pd.to_datetime(df2['Unnamed: 0'])\n",
    "df2['date'] = df2['date_time'].dt.date\n",
    "df2['time'] = df2['date_time'].dt.tz_localize(None)\n",
    "df2.rename(columns={'Adj Close': 'price'}, inplace=True)\n",
    "df2 = df2[['price', 'date', 'time']]\n",
    "df2.head(5)\n"
   ]
  },
  {
   "cell_type": "code",
   "execution_count": 21,
   "metadata": {},
   "outputs": [
    {
     "data": {
      "text/html": [
       "<div>\n",
       "<style scoped>\n",
       "    .dataframe tbody tr th:only-of-type {\n",
       "        vertical-align: middle;\n",
       "    }\n",
       "\n",
       "    .dataframe tbody tr th {\n",
       "        vertical-align: top;\n",
       "    }\n",
       "\n",
       "    .dataframe thead th {\n",
       "        text-align: right;\n",
       "    }\n",
       "</style>\n",
       "<table border=\"1\" class=\"dataframe\">\n",
       "  <thead>\n",
       "    <tr style=\"text-align: right;\">\n",
       "      <th></th>\n",
       "      <th>date</th>\n",
       "      <th>price</th>\n",
       "      <th>time</th>\n",
       "      <th>time_price</th>\n",
       "    </tr>\n",
       "  </thead>\n",
       "  <tbody>\n",
       "    <tr>\n",
       "      <th>0</th>\n",
       "      <td>2022-08-29</td>\n",
       "      <td>[369.6480102539063, 369.7999877929688, 370.220...</td>\n",
       "      <td>[2022-08-29 09:30:00, 2022-08-29 09:31:00, 202...</td>\n",
       "      <td>{369.6480102539063: 2022-08-29 09:30:00, 369.7...</td>\n",
       "    </tr>\n",
       "    <tr>\n",
       "      <th>1</th>\n",
       "      <td>2022-08-30</td>\n",
       "      <td>[371.2200012207031, 370.760009765625, 371.0400...</td>\n",
       "      <td>[2022-08-30 09:30:00, 2022-08-30 09:31:00, 202...</td>\n",
       "      <td>{371.2200012207031: 2022-08-30 09:30:00, 370.7...</td>\n",
       "    </tr>\n",
       "    <tr>\n",
       "      <th>2</th>\n",
       "      <td>2022-08-31</td>\n",
       "      <td>[367.0400085449219, 367.0700073242188, 366.660...</td>\n",
       "      <td>[2022-08-31 09:30:00, 2022-08-31 09:31:00, 202...</td>\n",
       "      <td>{367.0400085449219: 2022-08-31 09:30:00, 367.0...</td>\n",
       "    </tr>\n",
       "    <tr>\n",
       "      <th>3</th>\n",
       "      <td>2022-09-01</td>\n",
       "      <td>[361.5299987792969, 360.8349914550781, 360.959...</td>\n",
       "      <td>[2022-09-01 09:30:00, 2022-09-01 09:31:00, 202...</td>\n",
       "      <td>{361.5299987792969: 2022-09-01 09:30:00, 360.8...</td>\n",
       "    </tr>\n",
       "    <tr>\n",
       "      <th>4</th>\n",
       "      <td>2022-09-02</td>\n",
       "      <td>[367.3999938964844, 366.8800048828125, 366.709...</td>\n",
       "      <td>[2022-09-02 09:30:00, 2022-09-02 09:31:00, 202...</td>\n",
       "      <td>{367.3999938964844: 2022-09-02 09:30:00, 366.8...</td>\n",
       "    </tr>\n",
       "  </tbody>\n",
       "</table>\n",
       "</div>"
      ],
      "text/plain": [
       "         date                                              price  \\\n",
       "0  2022-08-29  [369.6480102539063, 369.7999877929688, 370.220...   \n",
       "1  2022-08-30  [371.2200012207031, 370.760009765625, 371.0400...   \n",
       "2  2022-08-31  [367.0400085449219, 367.0700073242188, 366.660...   \n",
       "3  2022-09-01  [361.5299987792969, 360.8349914550781, 360.959...   \n",
       "4  2022-09-02  [367.3999938964844, 366.8800048828125, 366.709...   \n",
       "\n",
       "                                                time  \\\n",
       "0  [2022-08-29 09:30:00, 2022-08-29 09:31:00, 202...   \n",
       "1  [2022-08-30 09:30:00, 2022-08-30 09:31:00, 202...   \n",
       "2  [2022-08-31 09:30:00, 2022-08-31 09:31:00, 202...   \n",
       "3  [2022-09-01 09:30:00, 2022-09-01 09:31:00, 202...   \n",
       "4  [2022-09-02 09:30:00, 2022-09-02 09:31:00, 202...   \n",
       "\n",
       "                                          time_price  \n",
       "0  {369.6480102539063: 2022-08-29 09:30:00, 369.7...  \n",
       "1  {371.2200012207031: 2022-08-30 09:30:00, 370.7...  \n",
       "2  {367.0400085449219: 2022-08-31 09:30:00, 367.0...  \n",
       "3  {361.5299987792969: 2022-09-01 09:30:00, 360.8...  \n",
       "4  {367.3999938964844: 2022-09-02 09:30:00, 366.8...  "
      ]
     },
     "execution_count": 21,
     "metadata": {},
     "output_type": "execute_result"
    }
   ],
   "source": [
    "df2 = df2.groupby('date').agg(list)\n",
    "df2['time_price'] = df2.apply(lambda row : dict(zip(row[0],row[1])), axis=1)\n",
    "df2.reset_index(inplace=True)\n",
    "df2.head()"
   ]
  },
  {
   "cell_type": "markdown",
   "metadata": {},
   "source": [
    "<h3>Merging The Sentiment Data And Stock Price Data<h3>"
   ]
  },
  {
   "cell_type": "code",
   "execution_count": 22,
   "metadata": {},
   "outputs": [
    {
     "data": {
      "text/html": [
       "<div>\n",
       "<style scoped>\n",
       "    .dataframe tbody tr th:only-of-type {\n",
       "        vertical-align: middle;\n",
       "    }\n",
       "\n",
       "    .dataframe tbody tr th {\n",
       "        vertical-align: top;\n",
       "    }\n",
       "\n",
       "    .dataframe thead th {\n",
       "        text-align: right;\n",
       "    }\n",
       "</style>\n",
       "<table border=\"1\" class=\"dataframe\">\n",
       "  <thead>\n",
       "    <tr style=\"text-align: right;\">\n",
       "      <th></th>\n",
       "      <th>date</th>\n",
       "      <th>sentiment_time</th>\n",
       "      <th>Economics</th>\n",
       "      <th>price</th>\n",
       "      <th>stock_time</th>\n",
       "      <th>time_price</th>\n",
       "      <th>na</th>\n",
       "    </tr>\n",
       "  </thead>\n",
       "  <tbody>\n",
       "    <tr>\n",
       "      <th>0</th>\n",
       "      <td>2022-09-01</td>\n",
       "      <td>[2022-09-01 12:40:00, 2022-09-01 12:42:00, 202...</td>\n",
       "      <td>[{'polarity': 0.4, 'subjectivity': 0.700000000...</td>\n",
       "      <td>[361.5299987792969, 360.8349914550781, 360.959...</td>\n",
       "      <td>[2022-09-01 09:30:00, 2022-09-01 09:31:00, 202...</td>\n",
       "      <td>{361.5299987792969: 2022-09-01 09:30:00, 360.8...</td>\n",
       "      <td>NaN</td>\n",
       "    </tr>\n",
       "    <tr>\n",
       "      <th>1</th>\n",
       "      <td>2022-09-02</td>\n",
       "      <td>[2022-09-02 09:41:00, 2022-09-02 09:42:00, 202...</td>\n",
       "      <td>[{'polarity': 0.0, 'subjectivity': 0.0, 'compo...</td>\n",
       "      <td>[367.3999938964844, 366.8800048828125, 366.709...</td>\n",
       "      <td>[2022-09-02 09:30:00, 2022-09-02 09:31:00, 202...</td>\n",
       "      <td>{367.3999938964844: 2022-09-02 09:30:00, 366.8...</td>\n",
       "      <td>NaN</td>\n",
       "    </tr>\n",
       "    <tr>\n",
       "      <th>5</th>\n",
       "      <td>2022-09-06</td>\n",
       "      <td>[2022-09-06 12:30:00, 2022-09-06 12:46:00, 202...</td>\n",
       "      <td>[{'polarity': 0.8, 'subjectivity': 1.0, 'compo...</td>\n",
       "      <td>[362.0299987792969, 361.6700134277344, 361.609...</td>\n",
       "      <td>[2022-09-06 09:30:00, 2022-09-06 09:31:00, 202...</td>\n",
       "      <td>{362.0299987792969: 2022-09-06 09:30:00, 361.6...</td>\n",
       "      <td>NaN</td>\n",
       "    </tr>\n",
       "    <tr>\n",
       "      <th>6</th>\n",
       "      <td>2022-09-07</td>\n",
       "      <td>[2022-09-07 12:40:00, 2022-09-07 12:46:00, 202...</td>\n",
       "      <td>[{'polarity': 0.1, 'subjectivity': 0.700000000...</td>\n",
       "      <td>[358.7699890136719, 359.3039855957031, 359.040...</td>\n",
       "      <td>[2022-09-07 09:30:00, 2022-09-07 09:31:00, 202...</td>\n",
       "      <td>{358.7699890136719: 2022-09-07 09:30:00, 359.3...</td>\n",
       "      <td>NaN</td>\n",
       "    </tr>\n",
       "    <tr>\n",
       "      <th>7</th>\n",
       "      <td>2022-09-08</td>\n",
       "      <td>[2022-09-08 13:00:00, 2022-09-08 13:01:00, 202...</td>\n",
       "      <td>[{'polarity': -0.2, 'subjectivity': 0.0, 'comp...</td>\n",
       "      <td>[362.5960083007813, 362.9599914550781, 362.929...</td>\n",
       "      <td>[2022-09-08 09:30:00, 2022-09-08 09:31:00, 202...</td>\n",
       "      <td>{362.5960083007813: 2022-09-08 09:30:00, 362.9...</td>\n",
       "      <td>NaN</td>\n",
       "    </tr>\n",
       "  </tbody>\n",
       "</table>\n",
       "</div>"
      ],
      "text/plain": [
       "        date                                     sentiment_time  \\\n",
       "0 2022-09-01  [2022-09-01 12:40:00, 2022-09-01 12:42:00, 202...   \n",
       "1 2022-09-02  [2022-09-02 09:41:00, 2022-09-02 09:42:00, 202...   \n",
       "5 2022-09-06  [2022-09-06 12:30:00, 2022-09-06 12:46:00, 202...   \n",
       "6 2022-09-07  [2022-09-07 12:40:00, 2022-09-07 12:46:00, 202...   \n",
       "7 2022-09-08  [2022-09-08 13:00:00, 2022-09-08 13:01:00, 202...   \n",
       "\n",
       "                                           Economics  \\\n",
       "0  [{'polarity': 0.4, 'subjectivity': 0.700000000...   \n",
       "1  [{'polarity': 0.0, 'subjectivity': 0.0, 'compo...   \n",
       "5  [{'polarity': 0.8, 'subjectivity': 1.0, 'compo...   \n",
       "6  [{'polarity': 0.1, 'subjectivity': 0.700000000...   \n",
       "7  [{'polarity': -0.2, 'subjectivity': 0.0, 'comp...   \n",
       "\n",
       "                                               price  \\\n",
       "0  [361.5299987792969, 360.8349914550781, 360.959...   \n",
       "1  [367.3999938964844, 366.8800048828125, 366.709...   \n",
       "5  [362.0299987792969, 361.6700134277344, 361.609...   \n",
       "6  [358.7699890136719, 359.3039855957031, 359.040...   \n",
       "7  [362.5960083007813, 362.9599914550781, 362.929...   \n",
       "\n",
       "                                          stock_time  \\\n",
       "0  [2022-09-01 09:30:00, 2022-09-01 09:31:00, 202...   \n",
       "1  [2022-09-02 09:30:00, 2022-09-02 09:31:00, 202...   \n",
       "5  [2022-09-06 09:30:00, 2022-09-06 09:31:00, 202...   \n",
       "6  [2022-09-07 09:30:00, 2022-09-07 09:31:00, 202...   \n",
       "7  [2022-09-08 09:30:00, 2022-09-08 09:31:00, 202...   \n",
       "\n",
       "                                          time_price  na  \n",
       "0  {361.5299987792969: 2022-09-01 09:30:00, 360.8... NaN  \n",
       "1  {367.3999938964844: 2022-09-02 09:30:00, 366.8... NaN  \n",
       "5  {362.0299987792969: 2022-09-06 09:30:00, 361.6... NaN  \n",
       "6  {358.7699890136719: 2022-09-07 09:30:00, 359.3... NaN  \n",
       "7  {362.5960083007813: 2022-09-08 09:30:00, 362.9... NaN  "
      ]
     },
     "execution_count": 22,
     "metadata": {},
     "output_type": "execute_result"
    }
   ],
   "source": [
    "df = pd.merge(df1, df2, how='outer', on='date')\n",
    "df['date'] =  pd.to_datetime(df['date'])\n",
    "df.rename(columns={'time_x': 'sentiment_time', 'time_y':'stock_time'}, inplace=True)\n",
    "df.dropna(inplace=True)\n",
    "df['na'] = np.nan\n",
    "df.head()"
   ]
  },
  {
   "cell_type": "markdown",
   "metadata": {},
   "source": [
    "<h3>Determining Percent Change In Price<h3>"
   ]
  },
  {
   "cell_type": "code",
   "execution_count": 23,
   "metadata": {},
   "outputs": [
    {
     "data": {
      "text/html": [
       "<div>\n",
       "<style scoped>\n",
       "    .dataframe tbody tr th:only-of-type {\n",
       "        vertical-align: middle;\n",
       "    }\n",
       "\n",
       "    .dataframe tbody tr th {\n",
       "        vertical-align: top;\n",
       "    }\n",
       "\n",
       "    .dataframe thead th {\n",
       "        text-align: right;\n",
       "    }\n",
       "</style>\n",
       "<table border=\"1\" class=\"dataframe\">\n",
       "  <thead>\n",
       "    <tr style=\"text-align: right;\">\n",
       "      <th></th>\n",
       "      <th>date</th>\n",
       "      <th>sentiment_time</th>\n",
       "      <th>Economics</th>\n",
       "      <th>price</th>\n",
       "      <th>stock_time</th>\n",
       "      <th>time_price</th>\n",
       "      <th>na</th>\n",
       "      <th>price_diff</th>\n",
       "      <th>percent_change</th>\n",
       "    </tr>\n",
       "  </thead>\n",
       "  <tbody>\n",
       "    <tr>\n",
       "      <th>0</th>\n",
       "      <td>2022-09-01</td>\n",
       "      <td>[2022-09-01 12:40:00, 2022-09-01 12:42:00, 202...</td>\n",
       "      <td>[{'polarity': 0.4, 'subjectivity': 0.700000000...</td>\n",
       "      <td>[361.5299987792969, 360.8349914550781, 360.959...</td>\n",
       "      <td>[2022-09-01 09:30:00, 2022-09-01 09:31:00, 202...</td>\n",
       "      <td>{361.5299987792969: 2022-09-01 09:30:00, 360.8...</td>\n",
       "      <td>NaN</td>\n",
       "      <td>[-0.69500732421875, 0.125, -0.3800048828125, -...</td>\n",
       "      <td>[-0.1922405682973575, 0.034641873144268434, -0...</td>\n",
       "    </tr>\n",
       "    <tr>\n",
       "      <th>1</th>\n",
       "      <td>2022-09-02</td>\n",
       "      <td>[2022-09-02 09:41:00, 2022-09-02 09:42:00, 202...</td>\n",
       "      <td>[{'polarity': 0.0, 'subjectivity': 0.0, 'compo...</td>\n",
       "      <td>[367.3999938964844, 366.8800048828125, 366.709...</td>\n",
       "      <td>[2022-09-02 09:30:00, 2022-09-02 09:31:00, 202...</td>\n",
       "      <td>{367.3999938964844: 2022-09-02 09:30:00, 366.8...</td>\n",
       "      <td>NaN</td>\n",
       "      <td>[-0.519989013671875, -0.170013427734375, -0.19...</td>\n",
       "      <td>[-0.14153212365550089, -0.04634033620575209, -...</td>\n",
       "    </tr>\n",
       "    <tr>\n",
       "      <th>5</th>\n",
       "      <td>2022-09-06</td>\n",
       "      <td>[2022-09-06 12:30:00, 2022-09-06 12:46:00, 202...</td>\n",
       "      <td>[{'polarity': 0.8, 'subjectivity': 1.0, 'compo...</td>\n",
       "      <td>[362.0299987792969, 361.6700134277344, 361.609...</td>\n",
       "      <td>[2022-09-06 09:30:00, 2022-09-06 09:31:00, 202...</td>\n",
       "      <td>{362.0299987792969: 2022-09-06 09:30:00, 361.6...</td>\n",
       "      <td>NaN</td>\n",
       "      <td>[-0.3599853515625, -0.060028076171875, -0.1149...</td>\n",
       "      <td>[-0.09943522712932877, -0.016597471159678894, ...</td>\n",
       "    </tr>\n",
       "    <tr>\n",
       "      <th>6</th>\n",
       "      <td>2022-09-07</td>\n",
       "      <td>[2022-09-07 12:40:00, 2022-09-07 12:46:00, 202...</td>\n",
       "      <td>[{'polarity': 0.1, 'subjectivity': 0.700000000...</td>\n",
       "      <td>[358.7699890136719, 359.3039855957031, 359.040...</td>\n",
       "      <td>[2022-09-07 09:30:00, 2022-09-07 09:31:00, 202...</td>\n",
       "      <td>{358.7699890136719: 2022-09-07 09:30:00, 359.3...</td>\n",
       "      <td>NaN</td>\n",
       "      <td>[0.53399658203125, -0.26397705078125, 0.130004...</td>\n",
       "      <td>[0.14884092827811768, -0.07346900155966622, 0....</td>\n",
       "    </tr>\n",
       "    <tr>\n",
       "      <th>7</th>\n",
       "      <td>2022-09-08</td>\n",
       "      <td>[2022-09-08 13:00:00, 2022-09-08 13:01:00, 202...</td>\n",
       "      <td>[{'polarity': -0.2, 'subjectivity': 0.0, 'comp...</td>\n",
       "      <td>[362.5960083007813, 362.9599914550781, 362.929...</td>\n",
       "      <td>[2022-09-08 09:30:00, 2022-09-08 09:31:00, 202...</td>\n",
       "      <td>{362.5960083007813: 2022-09-08 09:30:00, 362.9...</td>\n",
       "      <td>NaN</td>\n",
       "      <td>[0.36398315429681816, -0.029998779296818157, -...</td>\n",
       "      <td>[0.10038255964331692, -0.008265037470536463, -...</td>\n",
       "    </tr>\n",
       "  </tbody>\n",
       "</table>\n",
       "</div>"
      ],
      "text/plain": [
       "        date                                     sentiment_time  \\\n",
       "0 2022-09-01  [2022-09-01 12:40:00, 2022-09-01 12:42:00, 202...   \n",
       "1 2022-09-02  [2022-09-02 09:41:00, 2022-09-02 09:42:00, 202...   \n",
       "5 2022-09-06  [2022-09-06 12:30:00, 2022-09-06 12:46:00, 202...   \n",
       "6 2022-09-07  [2022-09-07 12:40:00, 2022-09-07 12:46:00, 202...   \n",
       "7 2022-09-08  [2022-09-08 13:00:00, 2022-09-08 13:01:00, 202...   \n",
       "\n",
       "                                           Economics  \\\n",
       "0  [{'polarity': 0.4, 'subjectivity': 0.700000000...   \n",
       "1  [{'polarity': 0.0, 'subjectivity': 0.0, 'compo...   \n",
       "5  [{'polarity': 0.8, 'subjectivity': 1.0, 'compo...   \n",
       "6  [{'polarity': 0.1, 'subjectivity': 0.700000000...   \n",
       "7  [{'polarity': -0.2, 'subjectivity': 0.0, 'comp...   \n",
       "\n",
       "                                               price  \\\n",
       "0  [361.5299987792969, 360.8349914550781, 360.959...   \n",
       "1  [367.3999938964844, 366.8800048828125, 366.709...   \n",
       "5  [362.0299987792969, 361.6700134277344, 361.609...   \n",
       "6  [358.7699890136719, 359.3039855957031, 359.040...   \n",
       "7  [362.5960083007813, 362.9599914550781, 362.929...   \n",
       "\n",
       "                                          stock_time  \\\n",
       "0  [2022-09-01 09:30:00, 2022-09-01 09:31:00, 202...   \n",
       "1  [2022-09-02 09:30:00, 2022-09-02 09:31:00, 202...   \n",
       "5  [2022-09-06 09:30:00, 2022-09-06 09:31:00, 202...   \n",
       "6  [2022-09-07 09:30:00, 2022-09-07 09:31:00, 202...   \n",
       "7  [2022-09-08 09:30:00, 2022-09-08 09:31:00, 202...   \n",
       "\n",
       "                                          time_price  na  \\\n",
       "0  {361.5299987792969: 2022-09-01 09:30:00, 360.8... NaN   \n",
       "1  {367.3999938964844: 2022-09-02 09:30:00, 366.8... NaN   \n",
       "5  {362.0299987792969: 2022-09-06 09:30:00, 361.6... NaN   \n",
       "6  {358.7699890136719: 2022-09-07 09:30:00, 359.3... NaN   \n",
       "7  {362.5960083007813: 2022-09-08 09:30:00, 362.9... NaN   \n",
       "\n",
       "                                          price_diff  \\\n",
       "0  [-0.69500732421875, 0.125, -0.3800048828125, -...   \n",
       "1  [-0.519989013671875, -0.170013427734375, -0.19...   \n",
       "5  [-0.3599853515625, -0.060028076171875, -0.1149...   \n",
       "6  [0.53399658203125, -0.26397705078125, 0.130004...   \n",
       "7  [0.36398315429681816, -0.029998779296818157, -...   \n",
       "\n",
       "                                      percent_change  \n",
       "0  [-0.1922405682973575, 0.034641873144268434, -0...  \n",
       "1  [-0.14153212365550089, -0.04634033620575209, -...  \n",
       "5  [-0.09943522712932877, -0.016597471159678894, ...  \n",
       "6  [0.14884092827811768, -0.07346900155966622, 0....  \n",
       "7  [0.10038255964331692, -0.008265037470536463, -...  "
      ]
     },
     "execution_count": 23,
     "metadata": {},
     "output_type": "execute_result"
    }
   ],
   "source": [
    "def generate_price_dif(row):\n",
    "    prices = np.asarray(row['price'])\n",
    "    price_shift = np.asarray(row['price'][1:] + row['price'][0:1])\n",
    "    delta_price = price_shift-prices\n",
    "    return delta_price\n",
    "\n",
    "df['price_diff']  = df.apply(lambda row: generate_price_dif(row), axis=1)\n",
    "df['percent_change'] = df.apply(lambda row: (row['price_diff']/np.asarray(row['price'])) * 100, axis= 1)\n",
    "df.head()"
   ]
  },
  {
   "cell_type": "markdown",
   "metadata": {},
   "source": [
    "<h2>Visualizing Trends In News Sentiment and Stock Prices</h2>\n",
    "\n",
    "<p>Visualizing the data should reveal trends in the prices that make be unintuitive given large sets of numbers. This should provide us with a solid basis for attempting to explore correlations in stock prices and news sentiment.</p>"
   ]
  },
  {
   "cell_type": "code",
   "execution_count": 24,
   "metadata": {},
   "outputs": [],
   "source": [
    "#convert subreddit to nested lists containing dict\n",
    "def convert(row, subreddit):\n",
    "    lst = []\n",
    "    for dct in row.loc[subreddit]:\n",
    "        lst.append([dct])\n",
    "    return lst\n",
    "    \n",
    "\n",
    "#generate daily data\n",
    "def generate_daily_data(index, dataframe, subreddit):\n",
    "    #create a data frame of all possible minute values in a day\n",
    "    d = dataframe.iloc[index][['date', 'na']].to_dict()\n",
    "    d['time'] = pd.date_range(dataframe['date'].iat[index], freq='Min', periods=60*24, name='date')\n",
    "    df = pd.DataFrame(d)\n",
    "    df.set_index(df['time'], inplace = True)\n",
    "    df = df[[]]\n",
    "\n",
    "    #create dataframe for each column we want time series for\n",
    "    price_time_df = pd.DataFrame(dataframe.iloc[index]['price'], index = dataframe.iloc[index]['stock_time'], columns=['price'])\n",
    "    percent_change_df = pd.DataFrame(dataframe.iloc[index]['percent_change'], index = dataframe.iloc[index]['stock_time'], columns=['percent_change'])\n",
    "    \n",
    "    #create dataframe of sentiment_data\n",
    "    reddit_df = pd.DataFrame(dataframe.iloc[index][subreddit], index = dataframe.iloc[index]['sentiment_time'], columns=['sentiment']).reset_index()\n",
    "    sentiment_time_df = pd.json_normalize(reddit_df['sentiment'])\n",
    "    sentiment_time_df['index'] = reddit_df['index']\n",
    "    sentiment_time_df.set_index(['index'], inplace=True)\n",
    "    #print(sentiment_time_df)\n",
    "    \n",
    "\n",
    "    joined_df = df.join([price_time_df, sentiment_time_df, percent_change_df])\n",
    "    joined_df.reset_index(inplace=True)\n",
    "\n",
    "    pd.to_datetime(joined_df['time'])\n",
    "    \n",
    "\n",
    "    return joined_df\n",
    "\n",
    "#generate a list of dataframes for each day in the dataset\n",
    "def generate_daily_full(merged_dataframe, subreddits):\n",
    "    dct = {}\n",
    "    for subreddit in subreddits:\n",
    "        merged_dataframe[subreddit] = merged_dataframe.apply(lambda row: convert(row, subreddit), axis = 1)\n",
    "        dct[subreddit]=[generate_daily_data(i, merged_dataframe, subreddit) for i in range(len(merged_dataframe))]\n",
    "\n",
    "    return dct"
   ]
  },
  {
   "cell_type": "markdown",
   "metadata": {},
   "source": [
    "<h3>Plotting Sentiment Versus Price</h3>\n",
    "\n",
    "<p>We begin by exploring the intesnity of sentiment per minute with data to the daily graph of our given stock.</p>"
   ]
  },
  {
   "cell_type": "code",
   "execution_count": 25,
   "metadata": {},
   "outputs": [],
   "source": [
    "from helper import Analyzer"
   ]
  },
  {
   "cell_type": "code",
   "execution_count": 27,
   "metadata": {},
   "outputs": [
    {
     "ename": "TypeError",
     "evalue": "Analyzer.generate_daily_data() missing 1 required positional argument: 'subreddit'",
     "output_type": "error",
     "traceback": [
      "\u001b[0;31m---------------------------------------------------------------------------\u001b[0m",
      "\u001b[0;31mTypeError\u001b[0m                                 Traceback (most recent call last)",
      "\u001b[1;32m/Users/andersonschroeder/Documents/Stock-Lstm/Short Run Prediction/analysis.ipynb Cell 17\u001b[0m in \u001b[0;36m<cell line: 2>\u001b[0;34m()\u001b[0m\n\u001b[1;32m      <a href='vscode-notebook-cell:/Users/andersonschroeder/Documents/Stock-Lstm/Short%20Run%20Prediction/analysis.ipynb#ch0000016?line=0'>1</a>\u001b[0m analyzer \u001b[39m=\u001b[39m Analyzer([\u001b[39m'\u001b[39m\u001b[39mEconomics\u001b[39m\u001b[39m'\u001b[39m], df)\n\u001b[0;32m----> <a href='vscode-notebook-cell:/Users/andersonschroeder/Documents/Stock-Lstm/Short%20Run%20Prediction/analysis.ipynb#ch0000016?line=1'>2</a>\u001b[0m analyzer\u001b[39m.\u001b[39;49mplot_subreddits_day([\u001b[39m'\u001b[39;49m\u001b[39mEconomics\u001b[39;49m\u001b[39m'\u001b[39;49m], [\u001b[39m'\u001b[39;49m\u001b[39mneg\u001b[39;49m\u001b[39m'\u001b[39;49m, \u001b[39m'\u001b[39;49m\u001b[39mpos\u001b[39;49m\u001b[39m'\u001b[39;49m], \u001b[39m2\u001b[39;49m, \u001b[39m5\u001b[39;49m)\n",
      "File \u001b[0;32m~/Documents/Stock-Lstm/Short Run Prediction/helper.py:65\u001b[0m, in \u001b[0;36mAnalyzer.plot_subreddits_day\u001b[0;34m(self, subreddits, plot_args, start_day, end_day, percent_change)\u001b[0m\n\u001b[1;32m     63\u001b[0m \u001b[39mdef\u001b[39;00m \u001b[39mplot_subreddits_day\u001b[39m(\u001b[39mself\u001b[39m, subreddits, plot_args, start_day, end_day, percent_change \u001b[39m=\u001b[39m \u001b[39mFalse\u001b[39;00m):\n\u001b[1;32m     64\u001b[0m         colors \u001b[39m=\u001b[39m {\u001b[39m'\u001b[39m\u001b[39mneg\u001b[39m\u001b[39m'\u001b[39m: \u001b[39m'\u001b[39m\u001b[39mred\u001b[39m\u001b[39m'\u001b[39m,\u001b[39m'\u001b[39m\u001b[39mpos\u001b[39m\u001b[39m'\u001b[39m:\u001b[39m'\u001b[39m\u001b[39mgreen\u001b[39m\u001b[39m'\u001b[39m}\n\u001b[0;32m---> 65\u001b[0m         df_dict \u001b[39m=\u001b[39m \u001b[39mself\u001b[39;49m\u001b[39m.\u001b[39;49mgenerate_daily_data(\u001b[39mself\u001b[39;49m\u001b[39m.\u001b[39;49mdataframe)\n\u001b[1;32m     66\u001b[0m         \u001b[39mfor\u001b[39;00m day \u001b[39min\u001b[39;00m \u001b[39mrange\u001b[39m(start_day, end_day\u001b[39m+\u001b[39m\u001b[39m1\u001b[39m): \n\u001b[1;32m     67\u001b[0m                 \u001b[39mfor\u001b[39;00m subreddit \u001b[39min\u001b[39;00m subreddits:\n",
      "\u001b[0;31mTypeError\u001b[0m: Analyzer.generate_daily_data() missing 1 required positional argument: 'subreddit'"
     ]
    }
   ],
   "source": [
    "analyzer = Analyzer(['Economics'], df)\n",
    "analyzer.plot_subreddits_day(['Economics'], ['neg', 'pos'], 2, 5)"
   ]
  },
  {
   "cell_type": "code",
   "execution_count": null,
   "metadata": {},
   "outputs": [
    {
     "ename": "NameError",
     "evalue": "name 'generate_daily_full' is not defined",
     "output_type": "error",
     "traceback": [
      "\u001b[0;31m---------------------------------------------------------------------------\u001b[0m",
      "\u001b[0;31mNameError\u001b[0m                                 Traceback (most recent call last)",
      "\u001b[1;32m/Users/andersonschroeder/Documents/Stock-Lstm/Short Run Prediction/analysis.ipynb Cell 18\u001b[0m in \u001b[0;36m<cell line: 1>\u001b[0;34m()\u001b[0m\n\u001b[0;32m----> <a href='vscode-notebook-cell:/Users/andersonschroeder/Documents/Stock-Lstm/Short%20Run%20Prediction/analysis.ipynb#ch0000017?line=0'>1</a>\u001b[0m dct \u001b[39m=\u001b[39m generate_daily_full(df, [\u001b[39m'\u001b[39m\u001b[39mEconomics\u001b[39m\u001b[39m'\u001b[39m])\n",
      "\u001b[0;31mNameError\u001b[0m: name 'generate_daily_full' is not defined"
     ]
    }
   ],
   "source": [
    "dct = generate_daily_full(df, ['Economics'])"
   ]
  },
  {
   "cell_type": "code",
   "execution_count": null,
   "metadata": {},
   "outputs": [],
   "source": [
    "import matplotlib.dates as mdates\n",
    "myFmt = mdates.DateFormatter('%H%:%M:%S')\n",
    "def plot_subreddits_day(subreddits, plot_args, df_dict, start_day, end_day, percent_change = False):\n",
    "        colors = {'neg': 'red','pos':'green'}\n",
    "        for day in range(start_day, end_day+1): \n",
    "                for subreddit in subreddits:\n",
    "                        fig,ax = plt.subplots()\n",
    "                        if not percent_change:\n",
    "                                ax.plot(df_dict[subreddit][day].time, df_dict[subreddit][day].price, color=\"black\",)\n",
    "                        else:\n",
    "                                ax.plot(df_dict[subreddit][day].time, df_dict[subreddit][day].percent_change, color=\"blue\")\n",
    "                                ax.set_ylim([-.3, .3])\n",
    "\n",
    "                        ax.xaxis.set_major_formatter(myFmt)\n",
    "\n",
    "                        # set x-axis label\n",
    "                        ax.set_xlabel(\"Time\", fontsize = 14)\n",
    "                        # set y-axis label\n",
    "                        ax.set_ylabel(\"Price\", color=\"red\", fontsize=14)\n",
    "                        ax2=ax.twinx()\n",
    "                        # make a plot with different y-axis using second axis object\n",
    "                        for arg in plot_args:\n",
    "                                ax2.bar(df_dict[subreddit][day].time, df_dict[subreddit][day][arg] ,color=colors[arg], width = .002)\n",
    "                        ax2.set_ylabel(\"Sentiment\",color=\"black\",fontsize=14)\n",
    "                        plt.show()\n"
   ]
  },
  {
   "cell_type": "code",
   "execution_count": null,
   "metadata": {},
   "outputs": [
    {
     "data": {
      "image/png": "[encoded data removed]",
      "text/plain": [
       "<Figure size 432x288 with 2 Axes>"
      ]
     },
     "metadata": {
      "needs_background": "light"
     },
     "output_type": "display_data"
    },
    {
     "data": {
      "image/png": "[encoded data removed]",
      "text/plain": [
       "<Figure size 432x288 with 2 Axes>"
      ]
     },
     "metadata": {
      "needs_background": "light"
     },
     "output_type": "display_data"
    },
    {
     "data": {
      "image/png": "[encoded data removed]",
      "text/plain": [
       "<Figure size 432x288 with 2 Axes>"
      ]
     },
     "metadata": {
      "needs_background": "light"
     },
     "output_type": "display_data"
    },
    {
     "data": {
      "image/png": "[encoded data removed]",
      "text/plain": [
       "<Figure size 432x288 with 2 Axes>"
      ]
     },
     "metadata": {
      "needs_background": "light"
     },
     "output_type": "display_data"
    }
   ],
   "source": [
    "plot_subreddits_day(['Economics'], ['neg', 'pos'], dct, 2, 5)"
   ]
  },
  {
   "cell_type": "markdown",
   "metadata": {},
   "source": [
    "<p>Now lets explore the relationship between change in price and the sentiment intensities</p>"
   ]
  },
  {
   "cell_type": "code",
   "execution_count": null,
   "metadata": {},
   "outputs": [],
   "source": [
    "\n",
    "def plot_change(x, dataframe, subplot = plt):\n",
    "    lst = []\n",
    "    times = []\n",
    "    for i in range(x):\n",
    "        date = dataframe.iloc[i]['date']\n",
    "        for item in dataframe.iloc[i]['time']:\n",
    "            time = item.split(\":\")\n",
    "            times.append(datetime.datetime(date.year,date.month,date.day,int(time[0]),int(time[1])))\n",
    "        lst += list(dataframe.iloc[i]['percent_change'])\n",
    "\n",
    "    subplot.plot(times, lst)\n",
    "    #subplot.ylim(-.3, 1)"
   ]
  },
  {
   "cell_type": "markdown",
   "metadata": {},
   "source": [
    "<h3>Initial Hypothesis</h3>\n",
    "<p>blah blah blah</p>"
   ]
  },
  {
   "cell_type": "markdown",
   "metadata": {},
   "source": [
    "<h2>Markov Chains<h2>"
   ]
  },
  {
   "cell_type": "markdown",
   "metadata": {},
   "source": [
    "<h3>Nth Degree Markov Chains<h3>"
   ]
  },
  {
   "cell_type": "markdown",
   "metadata": {},
   "source": [
    "<h3>Optimizing Nth Degree Markov Chains<h3>"
   ]
  },
  {
   "cell_type": "markdown",
   "metadata": {},
   "source": [
    "<h2>Deep Neural Network<h2>"
   ]
  },
  {
   "cell_type": "markdown",
   "metadata": {},
   "source": [
    "<h2>LSTM Networks<h2>"
   ]
  }
 ],
 "metadata": {
  "kernelspec": {
   "display_name": "Python 3.10.2 64-bit",
   "language": "python",
   "name": "python3"
  },
  "language_info": {
   "codemirror_mode": {
    "name": "ipython",
    "version": 3
   },
   "file_extension": ".py",
   "mimetype": "text/x-python",
   "name": "python",
   "nbconvert_exporter": "python",
   "pygments_lexer": "ipython3",
   "version": "3.10.2"
  },
  "orig_nbformat": 4,
  "vscode": {
   "interpreter": {
    "hash": "aee8b7b246df8f9039afb4144a1f6fd8d2ca17a180786b69acc140d282b71a49"
   }
  }
 },
 "nbformat": 4,
 "nbformat_minor": 2
}
