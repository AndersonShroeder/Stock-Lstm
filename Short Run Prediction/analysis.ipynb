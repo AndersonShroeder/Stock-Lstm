{
 "cells": [
  {
   "cell_type": "markdown",
   "metadata": {},
   "source": [
    "<h2>Importing Data<h2>"
   ]
  },
  {
   "cell_type": "code",
   "execution_count": 373,
   "metadata": {},
   "outputs": [],
   "source": [
    "import pandas as pd\n",
    "import matplotlib.pyplot as plt\n",
    "import datetime\n",
    "import numpy as np"
   ]
  },
  {
   "cell_type": "code",
   "execution_count": 374,
   "metadata": {},
   "outputs": [],
   "source": [
    "df1 = pd.read_json('./Datasets/generated_data_Economics.json')\n",
    "df2 = pd.read_csv('./Datasets/VOO.csv')"
   ]
  },
  {
   "cell_type": "markdown",
   "metadata": {},
   "source": [
    "<h2>Preparing The Stock Price<h2>"
   ]
  },
  {
   "cell_type": "code",
   "execution_count": 375,
   "metadata": {},
   "outputs": [
    {
     "data": {
      "text/html": [
       "<div>\n",
       "<style scoped>\n",
       "    .dataframe tbody tr th:only-of-type {\n",
       "        vertical-align: middle;\n",
       "    }\n",
       "\n",
       "    .dataframe tbody tr th {\n",
       "        vertical-align: top;\n",
       "    }\n",
       "\n",
       "    .dataframe thead th {\n",
       "        text-align: right;\n",
       "    }\n",
       "</style>\n",
       "<table border=\"1\" class=\"dataframe\">\n",
       "  <thead>\n",
       "    <tr style=\"text-align: right;\">\n",
       "      <th></th>\n",
       "      <th>Unnamed: 0</th>\n",
       "      <th>price</th>\n",
       "      <th>list_time</th>\n",
       "      <th>date</th>\n",
       "      <th>time</th>\n",
       "    </tr>\n",
       "  </thead>\n",
       "  <tbody>\n",
       "    <tr>\n",
       "      <th>0</th>\n",
       "      <td>2022-08-29 09:30:00-04:00</td>\n",
       "      <td>369.648010</td>\n",
       "      <td>[2022-08-29, 09:30:00-04:00]</td>\n",
       "      <td>2022-08-29</td>\n",
       "      <td>09:30:00</td>\n",
       "    </tr>\n",
       "    <tr>\n",
       "      <th>1</th>\n",
       "      <td>2022-08-29 09:31:00-04:00</td>\n",
       "      <td>369.799988</td>\n",
       "      <td>[2022-08-29, 09:31:00-04:00]</td>\n",
       "      <td>2022-08-29</td>\n",
       "      <td>09:31:00</td>\n",
       "    </tr>\n",
       "    <tr>\n",
       "      <th>2</th>\n",
       "      <td>2022-08-29 09:33:00-04:00</td>\n",
       "      <td>370.220001</td>\n",
       "      <td>[2022-08-29, 09:33:00-04:00]</td>\n",
       "      <td>2022-08-29</td>\n",
       "      <td>09:33:00</td>\n",
       "    </tr>\n",
       "    <tr>\n",
       "      <th>3</th>\n",
       "      <td>2022-08-29 09:34:00-04:00</td>\n",
       "      <td>370.549988</td>\n",
       "      <td>[2022-08-29, 09:34:00-04:00]</td>\n",
       "      <td>2022-08-29</td>\n",
       "      <td>09:34:00</td>\n",
       "    </tr>\n",
       "    <tr>\n",
       "      <th>4</th>\n",
       "      <td>2022-08-29 09:35:00-04:00</td>\n",
       "      <td>370.299988</td>\n",
       "      <td>[2022-08-29, 09:35:00-04:00]</td>\n",
       "      <td>2022-08-29</td>\n",
       "      <td>09:35:00</td>\n",
       "    </tr>\n",
       "  </tbody>\n",
       "</table>\n",
       "</div>"
      ],
      "text/plain": [
       "                  Unnamed: 0       price                     list_time  \\\n",
       "0  2022-08-29 09:30:00-04:00  369.648010  [2022-08-29, 09:30:00-04:00]   \n",
       "1  2022-08-29 09:31:00-04:00  369.799988  [2022-08-29, 09:31:00-04:00]   \n",
       "2  2022-08-29 09:33:00-04:00  370.220001  [2022-08-29, 09:33:00-04:00]   \n",
       "3  2022-08-29 09:34:00-04:00  370.549988  [2022-08-29, 09:34:00-04:00]   \n",
       "4  2022-08-29 09:35:00-04:00  370.299988  [2022-08-29, 09:35:00-04:00]   \n",
       "\n",
       "        date      time  \n",
       "0 2022-08-29  09:30:00  \n",
       "1 2022-08-29  09:31:00  \n",
       "2 2022-08-29  09:33:00  \n",
       "3 2022-08-29  09:34:00  \n",
       "4 2022-08-29  09:35:00  "
      ]
     },
     "execution_count": 375,
     "metadata": {},
     "output_type": "execute_result"
    }
   ],
   "source": [
    "df2['list_time'] = df2['Unnamed: 0'].str.split(\" \")\n",
    "df2['date'] = df2['list_time'].str[0]\n",
    "df2['date'] =  pd.to_datetime(df2['date'])\n",
    "df2['time'] = df2['list_time'].str[1].str.split(\"-\").str[0]\n",
    "df2.rename(columns={'Adj Close': 'price'}, inplace=True)\n",
    "df2.head(5)"
   ]
  },
  {
   "cell_type": "code",
   "execution_count": 376,
   "metadata": {},
   "outputs": [
    {
     "data": {
      "text/html": [
       "<div>\n",
       "<style scoped>\n",
       "    .dataframe tbody tr th:only-of-type {\n",
       "        vertical-align: middle;\n",
       "    }\n",
       "\n",
       "    .dataframe tbody tr th {\n",
       "        vertical-align: top;\n",
       "    }\n",
       "\n",
       "    .dataframe thead th {\n",
       "        text-align: right;\n",
       "    }\n",
       "</style>\n",
       "<table border=\"1\" class=\"dataframe\">\n",
       "  <thead>\n",
       "    <tr style=\"text-align: right;\">\n",
       "      <th></th>\n",
       "      <th>time</th>\n",
       "      <th>price</th>\n",
       "      <th>time_price</th>\n",
       "    </tr>\n",
       "    <tr>\n",
       "      <th>date</th>\n",
       "      <th></th>\n",
       "      <th></th>\n",
       "      <th></th>\n",
       "    </tr>\n",
       "  </thead>\n",
       "  <tbody>\n",
       "    <tr>\n",
       "      <th>2022-08-29</th>\n",
       "      <td>[09:30:00, 09:31:00, 09:33:00, 09:34:00, 09:35...</td>\n",
       "      <td>[369.6480102539063, 369.7999877929688, 370.220...</td>\n",
       "      <td>{'09:30:00': 369.6480102539063, '09:31:00': 36...</td>\n",
       "    </tr>\n",
       "    <tr>\n",
       "      <th>2022-08-30</th>\n",
       "      <td>[09:30:00, 09:31:00, 09:32:00, 09:33:00, 09:34...</td>\n",
       "      <td>[371.2200012207031, 370.760009765625, 371.0400...</td>\n",
       "      <td>{'09:30:00': 371.2200012207031, '09:31:00': 37...</td>\n",
       "    </tr>\n",
       "    <tr>\n",
       "      <th>2022-08-31</th>\n",
       "      <td>[09:30:00, 09:31:00, 09:32:00, 09:33:00, 09:34...</td>\n",
       "      <td>[367.0400085449219, 367.0700073242188, 366.660...</td>\n",
       "      <td>{'09:30:00': 367.0400085449219, '09:31:00': 36...</td>\n",
       "    </tr>\n",
       "    <tr>\n",
       "      <th>2022-09-01</th>\n",
       "      <td>[09:30:00, 09:31:00, 09:32:00, 09:33:00, 09:34...</td>\n",
       "      <td>[361.5299987792969, 360.8349914550781, 360.959...</td>\n",
       "      <td>{'09:30:00': 361.5299987792969, '09:31:00': 36...</td>\n",
       "    </tr>\n",
       "    <tr>\n",
       "      <th>2022-09-02</th>\n",
       "      <td>[09:30:00, 09:31:00, 09:32:00, 09:33:00, 09:34...</td>\n",
       "      <td>[367.3999938964844, 366.8800048828125, 366.709...</td>\n",
       "      <td>{'09:30:00': 367.3999938964844, '09:31:00': 36...</td>\n",
       "    </tr>\n",
       "  </tbody>\n",
       "</table>\n",
       "</div>"
      ],
      "text/plain": [
       "                                                         time  \\\n",
       "date                                                            \n",
       "2022-08-29  [09:30:00, 09:31:00, 09:33:00, 09:34:00, 09:35...   \n",
       "2022-08-30  [09:30:00, 09:31:00, 09:32:00, 09:33:00, 09:34...   \n",
       "2022-08-31  [09:30:00, 09:31:00, 09:32:00, 09:33:00, 09:34...   \n",
       "2022-09-01  [09:30:00, 09:31:00, 09:32:00, 09:33:00, 09:34...   \n",
       "2022-09-02  [09:30:00, 09:31:00, 09:32:00, 09:33:00, 09:34...   \n",
       "\n",
       "                                                        price  \\\n",
       "date                                                            \n",
       "2022-08-29  [369.6480102539063, 369.7999877929688, 370.220...   \n",
       "2022-08-30  [371.2200012207031, 370.760009765625, 371.0400...   \n",
       "2022-08-31  [367.0400085449219, 367.0700073242188, 366.660...   \n",
       "2022-09-01  [361.5299987792969, 360.8349914550781, 360.959...   \n",
       "2022-09-02  [367.3999938964844, 366.8800048828125, 366.709...   \n",
       "\n",
       "                                                   time_price  \n",
       "date                                                           \n",
       "2022-08-29  {'09:30:00': 369.6480102539063, '09:31:00': 36...  \n",
       "2022-08-30  {'09:30:00': 371.2200012207031, '09:31:00': 37...  \n",
       "2022-08-31  {'09:30:00': 367.0400085449219, '09:31:00': 36...  \n",
       "2022-09-01  {'09:30:00': 361.5299987792969, '09:31:00': 36...  \n",
       "2022-09-02  {'09:30:00': 367.3999938964844, '09:31:00': 36...  "
      ]
     },
     "execution_count": 376,
     "metadata": {},
     "output_type": "execute_result"
    }
   ],
   "source": [
    "df2 = df2[['date', 'time', 'price']]\n",
    "df2 = df2.groupby('date').agg(list)\n",
    "df2['time_price'] = df2.apply(lambda row : dict(zip(row[0],row[1])), axis=1)\n",
    "df2.head(5)"
   ]
  },
  {
   "cell_type": "markdown",
   "metadata": {},
   "source": [
    "<h2>Visualizing Trends In News Sentiment and Stock Prices<h2>"
   ]
  },
  {
   "cell_type": "code",
   "execution_count": 443,
   "metadata": {},
   "outputs": [],
   "source": [
    "import helper"
   ]
  },
  {
   "cell_type": "code",
   "execution_count": 444,
   "metadata": {},
   "outputs": [
    {
     "data": {
      "image/png": "[encoded data removed]",
      "text/plain": [
       "<Figure size 432x288 with 2 Axes>"
      ]
     },
     "metadata": {
      "needs_background": "light"
     },
     "output_type": "display_data"
    }
   ],
   "source": [
    "plot_x_days(1)"
   ]
  },
  {
   "cell_type": "code",
   "execution_count": null,
   "metadata": {},
   "outputs": [
    {
     "data": {
      "text/plain": [
       "<AxesSubplot:>"
      ]
     },
     "execution_count": 372,
     "metadata": {},
     "output_type": "execute_result"
    },
    {
     "data": {
      "image/png": "[encoded data removed]",
      "text/plain": [
       "<Figure size 432x288 with 1 Axes>"
      ]
     },
     "metadata": {
      "needs_background": "light"
     },
     "output_type": "display_data"
    }
   ],
   "source": [
    "def generate_day_frame(row, subreddit):\n",
    "    df = pd.DataFrame.from_dict(row[subreddit], orient='index')\n",
    "    return df\n",
    "\n",
    "#df = pd.DataFrame.from_dict(df1.iloc[0]['Economics'], orient='index')\n",
    "df = generate_day_frame(df1.iloc[0], 'Economics')\n",
    "df.head()\n",
    "df['neg'].plot.line()"
   ]
  },
  {
   "cell_type": "markdown",
   "metadata": {},
   "source": [
    "<h3>Initial Hypothesis<h3>\n",
    "<p>blah blah blah<p>"
   ]
  },
  {
   "cell_type": "markdown",
   "metadata": {},
   "source": [
    "<h2>Markov Chains<h2>"
   ]
  },
  {
   "cell_type": "markdown",
   "metadata": {},
   "source": [
    "<h3>Nth Degree Markov Chains<h3>"
   ]
  },
  {
   "cell_type": "markdown",
   "metadata": {},
   "source": [
    "<h3>Optimizing Nth Degree Markov Chains<h3>"
   ]
  },
  {
   "cell_type": "markdown",
   "metadata": {},
   "source": [
    "<h2>Deep Neural Network<h2>"
   ]
  },
  {
   "cell_type": "markdown",
   "metadata": {},
   "source": [
    "<h2>LSTM Networks<h2>"
   ]
  }
 ],
 "metadata": {
  "kernelspec": {
   "display_name": "Python 3.10.2 64-bit",
   "language": "python",
   "name": "python3"
  },
  "language_info": {
   "codemirror_mode": {
    "name": "ipython",
    "version": 3
   },
   "file_extension": ".py",
   "mimetype": "text/x-python",
   "name": "python",
   "nbconvert_exporter": "python",
   "pygments_lexer": "ipython3",
   "version": "3.10.2"
  },
  "orig_nbformat": 4,
  "vscode": {
   "interpreter": {
    "hash": "aee8b7b246df8f9039afb4144a1f6fd8d2ca17a180786b69acc140d282b71a49"
   }
  }
 },
 "nbformat": 4,
 "nbformat_minor": 2
}
