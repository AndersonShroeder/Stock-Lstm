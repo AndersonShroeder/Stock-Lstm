{
 "cells": [
  {
   "cell_type": "markdown",
   "metadata": {},
   "source": [
    "<h2>Importing Data<h2>"
   ]
  },
  {
   "cell_type": "code",
   "execution_count": 47,
   "metadata": {},
   "outputs": [],
   "source": [
    "import pandas as pd\n",
    "import matplotlib.pyplot as plt\n",
    "import datetime\n",
    "import numpy as np\n",
    "from helper import plot_x_days\n"
   ]
  },
  {
   "cell_type": "code",
   "execution_count": 79,
   "metadata": {},
   "outputs": [
    {
     "data": {
      "text/html": [
       "<div>\n",
       "<style scoped>\n",
       "    .dataframe tbody tr th:only-of-type {\n",
       "        vertical-align: middle;\n",
       "    }\n",
       "\n",
       "    .dataframe tbody tr th {\n",
       "        vertical-align: top;\n",
       "    }\n",
       "\n",
       "    .dataframe thead th {\n",
       "        text-align: right;\n",
       "    }\n",
       "</style>\n",
       "<table border=\"1\" class=\"dataframe\">\n",
       "  <thead>\n",
       "    <tr style=\"text-align: right;\">\n",
       "      <th></th>\n",
       "      <th>Economics</th>\n",
       "    </tr>\n",
       "  </thead>\n",
       "  <tbody>\n",
       "    <tr>\n",
       "      <th>2022-08-30</th>\n",
       "      <td>{'10:58:00': {'polarity': 0.0, 'subjectivity':...</td>\n",
       "    </tr>\n",
       "    <tr>\n",
       "      <th>2022-08-31</th>\n",
       "      <td>{'00:00:00': {'polarity': 0.0, 'subjectivity':...</td>\n",
       "    </tr>\n",
       "    <tr>\n",
       "      <th>2022-09-01</th>\n",
       "      <td>{'00:18:00': {'polarity': 0.0, 'subjectivity':...</td>\n",
       "    </tr>\n",
       "    <tr>\n",
       "      <th>2022-09-02</th>\n",
       "      <td>{'00:01:00': {'polarity': 0.8, 'subjectivity':...</td>\n",
       "    </tr>\n",
       "    <tr>\n",
       "      <th>2022-09-03</th>\n",
       "      <td>{'00:02:00': {'polarity': 0.0, 'subjectivity':...</td>\n",
       "    </tr>\n",
       "  </tbody>\n",
       "</table>\n",
       "</div>"
      ],
      "text/plain": [
       "                                                    Economics\n",
       "2022-08-30  {'10:58:00': {'polarity': 0.0, 'subjectivity':...\n",
       "2022-08-31  {'00:00:00': {'polarity': 0.0, 'subjectivity':...\n",
       "2022-09-01  {'00:18:00': {'polarity': 0.0, 'subjectivity':...\n",
       "2022-09-02  {'00:01:00': {'polarity': 0.8, 'subjectivity':...\n",
       "2022-09-03  {'00:02:00': {'polarity': 0.0, 'subjectivity':..."
      ]
     },
     "execution_count": 79,
     "metadata": {},
     "output_type": "execute_result"
    }
   ],
   "source": [
    "df1 = pd.read_json('./Datasets/generated_data_Economics.json')\n",
    "df2 = pd.read_csv('./Datasets/VOO.csv')\n",
    "df1.head()"
   ]
  },
  {
   "cell_type": "markdown",
   "metadata": {},
   "source": [
    "<h3>Preparing The Stock Price Data<h3>"
   ]
  },
  {
   "cell_type": "code",
   "execution_count": 49,
   "metadata": {},
   "outputs": [
    {
     "data": {
      "text/html": [
       "<div>\n",
       "<style scoped>\n",
       "    .dataframe tbody tr th:only-of-type {\n",
       "        vertical-align: middle;\n",
       "    }\n",
       "\n",
       "    .dataframe tbody tr th {\n",
       "        vertical-align: top;\n",
       "    }\n",
       "\n",
       "    .dataframe thead th {\n",
       "        text-align: right;\n",
       "    }\n",
       "</style>\n",
       "<table border=\"1\" class=\"dataframe\">\n",
       "  <thead>\n",
       "    <tr style=\"text-align: right;\">\n",
       "      <th></th>\n",
       "      <th>Unnamed: 0</th>\n",
       "      <th>price</th>\n",
       "      <th>list_time</th>\n",
       "      <th>date</th>\n",
       "      <th>time</th>\n",
       "    </tr>\n",
       "  </thead>\n",
       "  <tbody>\n",
       "    <tr>\n",
       "      <th>0</th>\n",
       "      <td>2022-08-29 09:30:00-04:00</td>\n",
       "      <td>369.648010</td>\n",
       "      <td>[2022-08-29, 09:30:00-04:00]</td>\n",
       "      <td>2022-08-29</td>\n",
       "      <td>09:30:00</td>\n",
       "    </tr>\n",
       "    <tr>\n",
       "      <th>1</th>\n",
       "      <td>2022-08-29 09:31:00-04:00</td>\n",
       "      <td>369.799988</td>\n",
       "      <td>[2022-08-29, 09:31:00-04:00]</td>\n",
       "      <td>2022-08-29</td>\n",
       "      <td>09:31:00</td>\n",
       "    </tr>\n",
       "    <tr>\n",
       "      <th>2</th>\n",
       "      <td>2022-08-29 09:33:00-04:00</td>\n",
       "      <td>370.220001</td>\n",
       "      <td>[2022-08-29, 09:33:00-04:00]</td>\n",
       "      <td>2022-08-29</td>\n",
       "      <td>09:33:00</td>\n",
       "    </tr>\n",
       "    <tr>\n",
       "      <th>3</th>\n",
       "      <td>2022-08-29 09:34:00-04:00</td>\n",
       "      <td>370.549988</td>\n",
       "      <td>[2022-08-29, 09:34:00-04:00]</td>\n",
       "      <td>2022-08-29</td>\n",
       "      <td>09:34:00</td>\n",
       "    </tr>\n",
       "    <tr>\n",
       "      <th>4</th>\n",
       "      <td>2022-08-29 09:35:00-04:00</td>\n",
       "      <td>370.299988</td>\n",
       "      <td>[2022-08-29, 09:35:00-04:00]</td>\n",
       "      <td>2022-08-29</td>\n",
       "      <td>09:35:00</td>\n",
       "    </tr>\n",
       "  </tbody>\n",
       "</table>\n",
       "</div>"
      ],
      "text/plain": [
       "                  Unnamed: 0       price                     list_time  \\\n",
       "0  2022-08-29 09:30:00-04:00  369.648010  [2022-08-29, 09:30:00-04:00]   \n",
       "1  2022-08-29 09:31:00-04:00  369.799988  [2022-08-29, 09:31:00-04:00]   \n",
       "2  2022-08-29 09:33:00-04:00  370.220001  [2022-08-29, 09:33:00-04:00]   \n",
       "3  2022-08-29 09:34:00-04:00  370.549988  [2022-08-29, 09:34:00-04:00]   \n",
       "4  2022-08-29 09:35:00-04:00  370.299988  [2022-08-29, 09:35:00-04:00]   \n",
       "\n",
       "        date      time  \n",
       "0 2022-08-29  09:30:00  \n",
       "1 2022-08-29  09:31:00  \n",
       "2 2022-08-29  09:33:00  \n",
       "3 2022-08-29  09:34:00  \n",
       "4 2022-08-29  09:35:00  "
      ]
     },
     "execution_count": 49,
     "metadata": {},
     "output_type": "execute_result"
    }
   ],
   "source": [
    "df2['list_time'] = df2['Unnamed: 0'].str.split(\" \")\n",
    "df2['date'] = df2['list_time'].str[0]\n",
    "df2['date'] =  pd.to_datetime(df2['date'])\n",
    "df2['time'] = df2['list_time'].str[1].str.split(\"-\").str[0]\n",
    "df2.rename(columns={'Adj Close': 'price'}, inplace=True)\n",
    "df2.head(5)"
   ]
  },
  {
   "cell_type": "code",
   "execution_count": 50,
   "metadata": {},
   "outputs": [
    {
     "data": {
      "text/html": [
       "<div>\n",
       "<style scoped>\n",
       "    .dataframe tbody tr th:only-of-type {\n",
       "        vertical-align: middle;\n",
       "    }\n",
       "\n",
       "    .dataframe tbody tr th {\n",
       "        vertical-align: top;\n",
       "    }\n",
       "\n",
       "    .dataframe thead th {\n",
       "        text-align: right;\n",
       "    }\n",
       "</style>\n",
       "<table border=\"1\" class=\"dataframe\">\n",
       "  <thead>\n",
       "    <tr style=\"text-align: right;\">\n",
       "      <th></th>\n",
       "      <th>date</th>\n",
       "      <th>time</th>\n",
       "      <th>price</th>\n",
       "      <th>time_price</th>\n",
       "    </tr>\n",
       "  </thead>\n",
       "  <tbody>\n",
       "    <tr>\n",
       "      <th>0</th>\n",
       "      <td>2022-08-29</td>\n",
       "      <td>[09:30:00, 09:31:00, 09:33:00, 09:34:00, 09:35...</td>\n",
       "      <td>[369.6480102539063, 369.7999877929688, 370.220...</td>\n",
       "      <td>{'09:30:00': 369.6480102539063, '09:31:00': 36...</td>\n",
       "    </tr>\n",
       "    <tr>\n",
       "      <th>1</th>\n",
       "      <td>2022-08-30</td>\n",
       "      <td>[09:30:00, 09:31:00, 09:32:00, 09:33:00, 09:34...</td>\n",
       "      <td>[371.2200012207031, 370.760009765625, 371.0400...</td>\n",
       "      <td>{'09:30:00': 371.2200012207031, '09:31:00': 37...</td>\n",
       "    </tr>\n",
       "    <tr>\n",
       "      <th>2</th>\n",
       "      <td>2022-08-31</td>\n",
       "      <td>[09:30:00, 09:31:00, 09:32:00, 09:33:00, 09:34...</td>\n",
       "      <td>[367.0400085449219, 367.0700073242188, 366.660...</td>\n",
       "      <td>{'09:30:00': 367.0400085449219, '09:31:00': 36...</td>\n",
       "    </tr>\n",
       "    <tr>\n",
       "      <th>3</th>\n",
       "      <td>2022-09-01</td>\n",
       "      <td>[09:30:00, 09:31:00, 09:32:00, 09:33:00, 09:34...</td>\n",
       "      <td>[361.5299987792969, 360.8349914550781, 360.959...</td>\n",
       "      <td>{'09:30:00': 361.5299987792969, '09:31:00': 36...</td>\n",
       "    </tr>\n",
       "    <tr>\n",
       "      <th>4</th>\n",
       "      <td>2022-09-02</td>\n",
       "      <td>[09:30:00, 09:31:00, 09:32:00, 09:33:00, 09:34...</td>\n",
       "      <td>[367.3999938964844, 366.8800048828125, 366.709...</td>\n",
       "      <td>{'09:30:00': 367.3999938964844, '09:31:00': 36...</td>\n",
       "    </tr>\n",
       "  </tbody>\n",
       "</table>\n",
       "</div>"
      ],
      "text/plain": [
       "        date                                               time  \\\n",
       "0 2022-08-29  [09:30:00, 09:31:00, 09:33:00, 09:34:00, 09:35...   \n",
       "1 2022-08-30  [09:30:00, 09:31:00, 09:32:00, 09:33:00, 09:34...   \n",
       "2 2022-08-31  [09:30:00, 09:31:00, 09:32:00, 09:33:00, 09:34...   \n",
       "3 2022-09-01  [09:30:00, 09:31:00, 09:32:00, 09:33:00, 09:34...   \n",
       "4 2022-09-02  [09:30:00, 09:31:00, 09:32:00, 09:33:00, 09:34...   \n",
       "\n",
       "                                               price  \\\n",
       "0  [369.6480102539063, 369.7999877929688, 370.220...   \n",
       "1  [371.2200012207031, 370.760009765625, 371.0400...   \n",
       "2  [367.0400085449219, 367.0700073242188, 366.660...   \n",
       "3  [361.5299987792969, 360.8349914550781, 360.959...   \n",
       "4  [367.3999938964844, 366.8800048828125, 366.709...   \n",
       "\n",
       "                                          time_price  \n",
       "0  {'09:30:00': 369.6480102539063, '09:31:00': 36...  \n",
       "1  {'09:30:00': 371.2200012207031, '09:31:00': 37...  \n",
       "2  {'09:30:00': 367.0400085449219, '09:31:00': 36...  \n",
       "3  {'09:30:00': 361.5299987792969, '09:31:00': 36...  \n",
       "4  {'09:30:00': 367.3999938964844, '09:31:00': 36...  "
      ]
     },
     "execution_count": 50,
     "metadata": {},
     "output_type": "execute_result"
    }
   ],
   "source": [
    "df2 = df2[['date', 'time', 'price']]\n",
    "df2 = df2.groupby('date').agg(list)\n",
    "df2['time_price'] = df2.apply(lambda row : dict(zip(row[0],row[1])), axis=1)\n",
    "df2.reset_index(inplace=True)\n",
    "df2.head()"
   ]
  },
  {
   "cell_type": "markdown",
   "metadata": {},
   "source": [
    "<h3>Merging The Sentiment Data And Stock Price Data<h3>"
   ]
  },
  {
   "cell_type": "code",
   "execution_count": 51,
   "metadata": {},
   "outputs": [
    {
     "data": {
      "text/html": [
       "<div>\n",
       "<style scoped>\n",
       "    .dataframe tbody tr th:only-of-type {\n",
       "        vertical-align: middle;\n",
       "    }\n",
       "\n",
       "    .dataframe tbody tr th {\n",
       "        vertical-align: top;\n",
       "    }\n",
       "\n",
       "    .dataframe thead th {\n",
       "        text-align: right;\n",
       "    }\n",
       "</style>\n",
       "<table border=\"1\" class=\"dataframe\">\n",
       "  <thead>\n",
       "    <tr style=\"text-align: right;\">\n",
       "      <th></th>\n",
       "      <th>date</th>\n",
       "      <th>Economics</th>\n",
       "    </tr>\n",
       "  </thead>\n",
       "  <tbody>\n",
       "    <tr>\n",
       "      <th>0</th>\n",
       "      <td>2022-08-30</td>\n",
       "      <td>{'10:58:00': {'polarity': 0.0, 'subjectivity':...</td>\n",
       "    </tr>\n",
       "    <tr>\n",
       "      <th>1</th>\n",
       "      <td>2022-08-31</td>\n",
       "      <td>{'00:00:00': {'polarity': 0.0, 'subjectivity':...</td>\n",
       "    </tr>\n",
       "    <tr>\n",
       "      <th>2</th>\n",
       "      <td>2022-09-01</td>\n",
       "      <td>{'00:18:00': {'polarity': 0.0, 'subjectivity':...</td>\n",
       "    </tr>\n",
       "    <tr>\n",
       "      <th>3</th>\n",
       "      <td>2022-09-02</td>\n",
       "      <td>{'00:01:00': {'polarity': 0.8, 'subjectivity':...</td>\n",
       "    </tr>\n",
       "    <tr>\n",
       "      <th>4</th>\n",
       "      <td>2022-09-03</td>\n",
       "      <td>{'00:02:00': {'polarity': 0.0, 'subjectivity':...</td>\n",
       "    </tr>\n",
       "  </tbody>\n",
       "</table>\n",
       "</div>"
      ],
      "text/plain": [
       "        date                                          Economics\n",
       "0 2022-08-30  {'10:58:00': {'polarity': 0.0, 'subjectivity':...\n",
       "1 2022-08-31  {'00:00:00': {'polarity': 0.0, 'subjectivity':...\n",
       "2 2022-09-01  {'00:18:00': {'polarity': 0.0, 'subjectivity':...\n",
       "3 2022-09-02  {'00:01:00': {'polarity': 0.8, 'subjectivity':...\n",
       "4 2022-09-03  {'00:02:00': {'polarity': 0.0, 'subjectivity':..."
      ]
     },
     "execution_count": 51,
     "metadata": {},
     "output_type": "execute_result"
    }
   ],
   "source": [
    "df1.reset_index(inplace=True)\n",
    "df1.rename(columns={'index': 'date'}, inplace=True)\n",
    "df1.head()"
   ]
  },
  {
   "cell_type": "code",
   "execution_count": 52,
   "metadata": {},
   "outputs": [
    {
     "data": {
      "text/html": [
       "<div>\n",
       "<style scoped>\n",
       "    .dataframe tbody tr th:only-of-type {\n",
       "        vertical-align: middle;\n",
       "    }\n",
       "\n",
       "    .dataframe tbody tr th {\n",
       "        vertical-align: top;\n",
       "    }\n",
       "\n",
       "    .dataframe thead th {\n",
       "        text-align: right;\n",
       "    }\n",
       "</style>\n",
       "<table border=\"1\" class=\"dataframe\">\n",
       "  <thead>\n",
       "    <tr style=\"text-align: right;\">\n",
       "      <th></th>\n",
       "      <th>date</th>\n",
       "      <th>Economics</th>\n",
       "      <th>time</th>\n",
       "      <th>price</th>\n",
       "      <th>time_price</th>\n",
       "    </tr>\n",
       "  </thead>\n",
       "  <tbody>\n",
       "    <tr>\n",
       "      <th>0</th>\n",
       "      <td>2022-08-30</td>\n",
       "      <td>{'10:58:00': {'polarity': 0.0, 'subjectivity':...</td>\n",
       "      <td>[09:30:00, 09:31:00, 09:32:00, 09:33:00, 09:34...</td>\n",
       "      <td>[371.2200012207031, 370.760009765625, 371.0400...</td>\n",
       "      <td>{'09:30:00': 371.2200012207031, '09:31:00': 37...</td>\n",
       "    </tr>\n",
       "    <tr>\n",
       "      <th>1</th>\n",
       "      <td>2022-08-31</td>\n",
       "      <td>{'00:00:00': {'polarity': 0.0, 'subjectivity':...</td>\n",
       "      <td>[09:30:00, 09:31:00, 09:32:00, 09:33:00, 09:34...</td>\n",
       "      <td>[367.0400085449219, 367.0700073242188, 366.660...</td>\n",
       "      <td>{'09:30:00': 367.0400085449219, '09:31:00': 36...</td>\n",
       "    </tr>\n",
       "    <tr>\n",
       "      <th>2</th>\n",
       "      <td>2022-09-01</td>\n",
       "      <td>{'00:18:00': {'polarity': 0.0, 'subjectivity':...</td>\n",
       "      <td>[09:30:00, 09:31:00, 09:32:00, 09:33:00, 09:34...</td>\n",
       "      <td>[361.5299987792969, 360.8349914550781, 360.959...</td>\n",
       "      <td>{'09:30:00': 361.5299987792969, '09:31:00': 36...</td>\n",
       "    </tr>\n",
       "    <tr>\n",
       "      <th>3</th>\n",
       "      <td>2022-09-02</td>\n",
       "      <td>{'00:01:00': {'polarity': 0.8, 'subjectivity':...</td>\n",
       "      <td>[09:30:00, 09:31:00, 09:32:00, 09:33:00, 09:34...</td>\n",
       "      <td>[367.3999938964844, 366.8800048828125, 366.709...</td>\n",
       "      <td>{'09:30:00': 367.3999938964844, '09:31:00': 36...</td>\n",
       "    </tr>\n",
       "    <tr>\n",
       "      <th>7</th>\n",
       "      <td>2022-09-06</td>\n",
       "      <td>{'00:00:00': {'polarity': 0.0, 'subjectivity':...</td>\n",
       "      <td>[09:30:00, 09:31:00, 09:32:00, 09:33:00, 09:34...</td>\n",
       "      <td>[362.0299987792969, 361.6700134277344, 361.609...</td>\n",
       "      <td>{'09:30:00': 362.0299987792969, '09:31:00': 36...</td>\n",
       "    </tr>\n",
       "  </tbody>\n",
       "</table>\n",
       "</div>"
      ],
      "text/plain": [
       "        date                                          Economics  \\\n",
       "0 2022-08-30  {'10:58:00': {'polarity': 0.0, 'subjectivity':...   \n",
       "1 2022-08-31  {'00:00:00': {'polarity': 0.0, 'subjectivity':...   \n",
       "2 2022-09-01  {'00:18:00': {'polarity': 0.0, 'subjectivity':...   \n",
       "3 2022-09-02  {'00:01:00': {'polarity': 0.8, 'subjectivity':...   \n",
       "7 2022-09-06  {'00:00:00': {'polarity': 0.0, 'subjectivity':...   \n",
       "\n",
       "                                                time  \\\n",
       "0  [09:30:00, 09:31:00, 09:32:00, 09:33:00, 09:34...   \n",
       "1  [09:30:00, 09:31:00, 09:32:00, 09:33:00, 09:34...   \n",
       "2  [09:30:00, 09:31:00, 09:32:00, 09:33:00, 09:34...   \n",
       "3  [09:30:00, 09:31:00, 09:32:00, 09:33:00, 09:34...   \n",
       "7  [09:30:00, 09:31:00, 09:32:00, 09:33:00, 09:34...   \n",
       "\n",
       "                                               price  \\\n",
       "0  [371.2200012207031, 370.760009765625, 371.0400...   \n",
       "1  [367.0400085449219, 367.0700073242188, 366.660...   \n",
       "2  [361.5299987792969, 360.8349914550781, 360.959...   \n",
       "3  [367.3999938964844, 366.8800048828125, 366.709...   \n",
       "7  [362.0299987792969, 361.6700134277344, 361.609...   \n",
       "\n",
       "                                          time_price  \n",
       "0  {'09:30:00': 371.2200012207031, '09:31:00': 37...  \n",
       "1  {'09:30:00': 367.0400085449219, '09:31:00': 36...  \n",
       "2  {'09:30:00': 361.5299987792969, '09:31:00': 36...  \n",
       "3  {'09:30:00': 367.3999938964844, '09:31:00': 36...  \n",
       "7  {'09:30:00': 362.0299987792969, '09:31:00': 36...  "
      ]
     },
     "execution_count": 52,
     "metadata": {},
     "output_type": "execute_result"
    }
   ],
   "source": [
    "df = pd.merge(df1, df2, how='outer', on='date')\n",
    "df['date'] =  pd.to_datetime(df['date'])\n",
    "df.dropna(inplace=True)\n",
    "df.head()"
   ]
  },
  {
   "cell_type": "markdown",
   "metadata": {},
   "source": [
    "<h3>Determining Percent Change In Price<h3>"
   ]
  },
  {
   "cell_type": "code",
   "execution_count": 53,
   "metadata": {},
   "outputs": [
    {
     "data": {
      "text/html": [
       "<div>\n",
       "<style scoped>\n",
       "    .dataframe tbody tr th:only-of-type {\n",
       "        vertical-align: middle;\n",
       "    }\n",
       "\n",
       "    .dataframe tbody tr th {\n",
       "        vertical-align: top;\n",
       "    }\n",
       "\n",
       "    .dataframe thead th {\n",
       "        text-align: right;\n",
       "    }\n",
       "</style>\n",
       "<table border=\"1\" class=\"dataframe\">\n",
       "  <thead>\n",
       "    <tr style=\"text-align: right;\">\n",
       "      <th></th>\n",
       "      <th>date</th>\n",
       "      <th>Economics</th>\n",
       "      <th>time</th>\n",
       "      <th>price</th>\n",
       "      <th>time_price</th>\n",
       "      <th>price_diff</th>\n",
       "      <th>percent_change</th>\n",
       "    </tr>\n",
       "  </thead>\n",
       "  <tbody>\n",
       "    <tr>\n",
       "      <th>0</th>\n",
       "      <td>2022-08-30</td>\n",
       "      <td>{'10:58:00': {'polarity': 0.0, 'subjectivity':...</td>\n",
       "      <td>[09:30:00, 09:31:00, 09:32:00, 09:33:00, 09:34...</td>\n",
       "      <td>[371.2200012207031, 370.760009765625, 371.0400...</td>\n",
       "      <td>{'09:30:00': 371.2200012207031, '09:31:00': 37...</td>\n",
       "      <td>[0.459991455078125, -0.279998779296875, -0.119...</td>\n",
       "      <td>[0.1239134350426997, -0.07552022114625456, -0....</td>\n",
       "    </tr>\n",
       "    <tr>\n",
       "      <th>1</th>\n",
       "      <td>2022-08-31</td>\n",
       "      <td>{'00:00:00': {'polarity': 0.0, 'subjectivity':...</td>\n",
       "      <td>[09:30:00, 09:31:00, 09:32:00, 09:33:00, 09:34...</td>\n",
       "      <td>[367.0400085449219, 367.0700073242188, 366.660...</td>\n",
       "      <td>{'09:30:00': 367.0400085449219, '09:31:00': 36...</td>\n",
       "      <td>[-0.029998779296931843, 0.41000366210943184, -...</td>\n",
       "      <td>[-0.008173163306054224, 0.11169631240050933, -...</td>\n",
       "    </tr>\n",
       "    <tr>\n",
       "      <th>2</th>\n",
       "      <td>2022-09-01</td>\n",
       "      <td>{'00:18:00': {'polarity': 0.0, 'subjectivity':...</td>\n",
       "      <td>[09:30:00, 09:31:00, 09:32:00, 09:33:00, 09:34...</td>\n",
       "      <td>[361.5299987792969, 360.8349914550781, 360.959...</td>\n",
       "      <td>{'09:30:00': 361.5299987792969, '09:31:00': 36...</td>\n",
       "      <td>[0.69500732421875, -0.125, 0.3800048828125, 0....</td>\n",
       "      <td>[0.1922405682973575, -0.034641873144268434, 0....</td>\n",
       "    </tr>\n",
       "    <tr>\n",
       "      <th>3</th>\n",
       "      <td>2022-09-02</td>\n",
       "      <td>{'00:01:00': {'polarity': 0.8, 'subjectivity':...</td>\n",
       "      <td>[09:30:00, 09:31:00, 09:32:00, 09:33:00, 09:34...</td>\n",
       "      <td>[367.3999938964844, 366.8800048828125, 366.709...</td>\n",
       "      <td>{'09:30:00': 367.3999938964844, '09:31:00': 36...</td>\n",
       "      <td>[0.519989013671875, 0.170013427734375, 0.19998...</td>\n",
       "      <td>[0.14153212365550089, 0.04634033620575209, 0.0...</td>\n",
       "    </tr>\n",
       "    <tr>\n",
       "      <th>7</th>\n",
       "      <td>2022-09-06</td>\n",
       "      <td>{'00:00:00': {'polarity': 0.0, 'subjectivity':...</td>\n",
       "      <td>[09:30:00, 09:31:00, 09:32:00, 09:33:00, 09:34...</td>\n",
       "      <td>[362.0299987792969, 361.6700134277344, 361.609...</td>\n",
       "      <td>{'09:30:00': 362.0299987792969, '09:31:00': 36...</td>\n",
       "      <td>[0.3599853515625, 0.060028076171875, 0.1149902...</td>\n",
       "      <td>[0.09943522712932877, 0.016597471159678894, 0....</td>\n",
       "    </tr>\n",
       "  </tbody>\n",
       "</table>\n",
       "</div>"
      ],
      "text/plain": [
       "        date                                          Economics  \\\n",
       "0 2022-08-30  {'10:58:00': {'polarity': 0.0, 'subjectivity':...   \n",
       "1 2022-08-31  {'00:00:00': {'polarity': 0.0, 'subjectivity':...   \n",
       "2 2022-09-01  {'00:18:00': {'polarity': 0.0, 'subjectivity':...   \n",
       "3 2022-09-02  {'00:01:00': {'polarity': 0.8, 'subjectivity':...   \n",
       "7 2022-09-06  {'00:00:00': {'polarity': 0.0, 'subjectivity':...   \n",
       "\n",
       "                                                time  \\\n",
       "0  [09:30:00, 09:31:00, 09:32:00, 09:33:00, 09:34...   \n",
       "1  [09:30:00, 09:31:00, 09:32:00, 09:33:00, 09:34...   \n",
       "2  [09:30:00, 09:31:00, 09:32:00, 09:33:00, 09:34...   \n",
       "3  [09:30:00, 09:31:00, 09:32:00, 09:33:00, 09:34...   \n",
       "7  [09:30:00, 09:31:00, 09:32:00, 09:33:00, 09:34...   \n",
       "\n",
       "                                               price  \\\n",
       "0  [371.2200012207031, 370.760009765625, 371.0400...   \n",
       "1  [367.0400085449219, 367.0700073242188, 366.660...   \n",
       "2  [361.5299987792969, 360.8349914550781, 360.959...   \n",
       "3  [367.3999938964844, 366.8800048828125, 366.709...   \n",
       "7  [362.0299987792969, 361.6700134277344, 361.609...   \n",
       "\n",
       "                                          time_price  \\\n",
       "0  {'09:30:00': 371.2200012207031, '09:31:00': 37...   \n",
       "1  {'09:30:00': 367.0400085449219, '09:31:00': 36...   \n",
       "2  {'09:30:00': 361.5299987792969, '09:31:00': 36...   \n",
       "3  {'09:30:00': 367.3999938964844, '09:31:00': 36...   \n",
       "7  {'09:30:00': 362.0299987792969, '09:31:00': 36...   \n",
       "\n",
       "                                          price_diff  \\\n",
       "0  [0.459991455078125, -0.279998779296875, -0.119...   \n",
       "1  [-0.029998779296931843, 0.41000366210943184, -...   \n",
       "2  [0.69500732421875, -0.125, 0.3800048828125, 0....   \n",
       "3  [0.519989013671875, 0.170013427734375, 0.19998...   \n",
       "7  [0.3599853515625, 0.060028076171875, 0.1149902...   \n",
       "\n",
       "                                      percent_change  \n",
       "0  [0.1239134350426997, -0.07552022114625456, -0....  \n",
       "1  [-0.008173163306054224, 0.11169631240050933, -...  \n",
       "2  [0.1922405682973575, -0.034641873144268434, 0....  \n",
       "3  [0.14153212365550089, 0.04634033620575209, 0.0...  \n",
       "7  [0.09943522712932877, 0.016597471159678894, 0....  "
      ]
     },
     "execution_count": 53,
     "metadata": {},
     "output_type": "execute_result"
    }
   ],
   "source": [
    "def generate_price_dif(row):\n",
    "    prices = np.asarray(row['price'])\n",
    "    price_shift = np.asarray(row['price'][1:] + row['price'][0:1])\n",
    "    delta_price = prices-price_shift\n",
    "    percent_change = delta_price/prices\n",
    "    return delta_price\n",
    "\n",
    "df['price_diff']  = df.apply(lambda row: generate_price_dif(row), axis=1)\n",
    "df['percent_change'] = df.apply(lambda row: (row['price_diff']/np.asarray(row['price'])) * 100, axis= 1)\n",
    "df.head()"
   ]
  },
  {
   "cell_type": "code",
   "execution_count": 71,
   "metadata": {},
   "outputs": [
    {
     "ename": "TypeError",
     "evalue": "Index(...) must be called with a collection of some kind, Timestamp('2022-08-30 00:00:00') was passed",
     "output_type": "error",
     "traceback": [
      "\u001b[0;31m---------------------------------------------------------------------------\u001b[0m",
      "\u001b[0;31mTypeError\u001b[0m                                 Traceback (most recent call last)",
      "\u001b[1;32m/Users/andersonschroeder/Documents/Stock-Lstm/Short Run Prediction/analysis.ipynb Cell 12\u001b[0m in \u001b[0;36m<cell line: 5>\u001b[0;34m()\u001b[0m\n\u001b[1;32m      <a href='vscode-notebook-cell:/Users/andersonschroeder/Documents/Stock-Lstm/Short%20Run%20Prediction/analysis.ipynb#ch0000023?line=1'>2</a>\u001b[0m     df \u001b[39m=\u001b[39m pd\u001b[39m.\u001b[39mDataFrame(\u001b[39mlist\u001b[39m(row[\u001b[39m'\u001b[39m\u001b[39mtime_price\u001b[39m\u001b[39m'\u001b[39m]), index\u001b[39m=\u001b[39mrow[\u001b[39m'\u001b[39m\u001b[39mdate\u001b[39m\u001b[39m'\u001b[39m])\n\u001b[1;32m      <a href='vscode-notebook-cell:/Users/andersonschroeder/Documents/Stock-Lstm/Short%20Run%20Prediction/analysis.ipynb#ch0000023?line=3'>4</a>\u001b[0m     \u001b[39mreturn\u001b[39;00m df\n\u001b[0;32m----> <a href='vscode-notebook-cell:/Users/andersonschroeder/Documents/Stock-Lstm/Short%20Run%20Prediction/analysis.ipynb#ch0000023?line=4'>5</a>\u001b[0m \u001b[39mprint\u001b[39m(generate_day_data(df\u001b[39m.\u001b[39;49miloc[\u001b[39m0\u001b[39;49m]))\n",
      "\u001b[1;32m/Users/andersonschroeder/Documents/Stock-Lstm/Short Run Prediction/analysis.ipynb Cell 12\u001b[0m in \u001b[0;36mgenerate_day_data\u001b[0;34m(row)\u001b[0m\n\u001b[1;32m      <a href='vscode-notebook-cell:/Users/andersonschroeder/Documents/Stock-Lstm/Short%20Run%20Prediction/analysis.ipynb#ch0000023?line=0'>1</a>\u001b[0m \u001b[39mdef\u001b[39;00m \u001b[39mgenerate_day_data\u001b[39m(row):\n\u001b[0;32m----> <a href='vscode-notebook-cell:/Users/andersonschroeder/Documents/Stock-Lstm/Short%20Run%20Prediction/analysis.ipynb#ch0000023?line=1'>2</a>\u001b[0m     df \u001b[39m=\u001b[39m pd\u001b[39m.\u001b[39;49mDataFrame(\u001b[39mlist\u001b[39;49m(row[\u001b[39m'\u001b[39;49m\u001b[39mtime_price\u001b[39;49m\u001b[39m'\u001b[39;49m]), index\u001b[39m=\u001b[39;49mrow[\u001b[39m'\u001b[39;49m\u001b[39mdate\u001b[39;49m\u001b[39m'\u001b[39;49m])\n\u001b[1;32m      <a href='vscode-notebook-cell:/Users/andersonschroeder/Documents/Stock-Lstm/Short%20Run%20Prediction/analysis.ipynb#ch0000023?line=3'>4</a>\u001b[0m     \u001b[39mreturn\u001b[39;00m df\n",
      "File \u001b[0;32m/Library/Frameworks/Python.framework/Versions/3.10/lib/python3.10/site-packages/pandas/core/frame.py:737\u001b[0m, in \u001b[0;36mDataFrame.__init__\u001b[0;34m(self, data, index, columns, dtype, copy)\u001b[0m\n\u001b[1;32m    729\u001b[0m         mgr \u001b[39m=\u001b[39m arrays_to_mgr(\n\u001b[1;32m    730\u001b[0m             arrays,\n\u001b[1;32m    731\u001b[0m             columns,\n\u001b[0;32m   (...)\u001b[0m\n\u001b[1;32m    734\u001b[0m             typ\u001b[39m=\u001b[39mmanager,\n\u001b[1;32m    735\u001b[0m         )\n\u001b[1;32m    736\u001b[0m     \u001b[39melse\u001b[39;00m:\n\u001b[0;32m--> 737\u001b[0m         mgr \u001b[39m=\u001b[39m ndarray_to_mgr(\n\u001b[1;32m    738\u001b[0m             data,\n\u001b[1;32m    739\u001b[0m             index,\n\u001b[1;32m    740\u001b[0m             columns,\n\u001b[1;32m    741\u001b[0m             dtype\u001b[39m=\u001b[39;49mdtype,\n\u001b[1;32m    742\u001b[0m             copy\u001b[39m=\u001b[39;49mcopy,\n\u001b[1;32m    743\u001b[0m             typ\u001b[39m=\u001b[39;49mmanager,\n\u001b[1;32m    744\u001b[0m         )\n\u001b[1;32m    745\u001b[0m \u001b[39melse\u001b[39;00m:\n\u001b[1;32m    746\u001b[0m     mgr \u001b[39m=\u001b[39m dict_to_mgr(\n\u001b[1;32m    747\u001b[0m         {},\n\u001b[1;32m    748\u001b[0m         index,\n\u001b[0;32m   (...)\u001b[0m\n\u001b[1;32m    751\u001b[0m         typ\u001b[39m=\u001b[39mmanager,\n\u001b[1;32m    752\u001b[0m     )\n",
      "File \u001b[0;32m/Library/Frameworks/Python.framework/Versions/3.10/lib/python3.10/site-packages/pandas/core/internals/construction.py:347\u001b[0m, in \u001b[0;36mndarray_to_mgr\u001b[0;34m(values, index, columns, dtype, copy, typ)\u001b[0m\n\u001b[1;32m    344\u001b[0m     values \u001b[39m=\u001b[39m values\u001b[39m.\u001b[39mreshape(shape)\n\u001b[1;32m    346\u001b[0m \u001b[39m# _prep_ndarray ensures that values.ndim == 2 at this point\u001b[39;00m\n\u001b[0;32m--> 347\u001b[0m index, columns \u001b[39m=\u001b[39m _get_axes(\n\u001b[1;32m    348\u001b[0m     values\u001b[39m.\u001b[39;49mshape[\u001b[39m0\u001b[39;49m], values\u001b[39m.\u001b[39;49mshape[\u001b[39m1\u001b[39;49m], index\u001b[39m=\u001b[39;49mindex, columns\u001b[39m=\u001b[39;49mcolumns\n\u001b[1;32m    349\u001b[0m )\n\u001b[1;32m    351\u001b[0m _check_values_indices_shape_match(values, index, columns)\n\u001b[1;32m    353\u001b[0m \u001b[39mif\u001b[39;00m typ \u001b[39m==\u001b[39m \u001b[39m\"\u001b[39m\u001b[39marray\u001b[39m\u001b[39m\"\u001b[39m:\n",
      "File \u001b[0;32m/Library/Frameworks/Python.framework/Versions/3.10/lib/python3.10/site-packages/pandas/core/internals/construction.py:756\u001b[0m, in \u001b[0;36m_get_axes\u001b[0;34m(N, K, index, columns)\u001b[0m\n\u001b[1;32m    754\u001b[0m     index \u001b[39m=\u001b[39m default_index(N)\n\u001b[1;32m    755\u001b[0m \u001b[39melse\u001b[39;00m:\n\u001b[0;32m--> 756\u001b[0m     index \u001b[39m=\u001b[39m ensure_index(index)\n\u001b[1;32m    758\u001b[0m \u001b[39mif\u001b[39;00m columns \u001b[39mis\u001b[39;00m \u001b[39mNone\u001b[39;00m:\n\u001b[1;32m    759\u001b[0m     columns \u001b[39m=\u001b[39m default_index(K)\n",
      "File \u001b[0;32m/Library/Frameworks/Python.framework/Versions/3.10/lib/python3.10/site-packages/pandas/core/indexes/base.py:7043\u001b[0m, in \u001b[0;36mensure_index\u001b[0;34m(index_like, copy)\u001b[0m\n\u001b[1;32m   7041\u001b[0m         \u001b[39mreturn\u001b[39;00m Index\u001b[39m.\u001b[39m_with_infer(index_like, copy\u001b[39m=\u001b[39mcopy, tupleize_cols\u001b[39m=\u001b[39m\u001b[39mFalse\u001b[39;00m)\n\u001b[1;32m   7042\u001b[0m \u001b[39melse\u001b[39;00m:\n\u001b[0;32m-> 7043\u001b[0m     \u001b[39mreturn\u001b[39;00m Index\u001b[39m.\u001b[39;49m_with_infer(index_like, copy\u001b[39m=\u001b[39;49mcopy)\n",
      "File \u001b[0;32m/Library/Frameworks/Python.framework/Versions/3.10/lib/python3.10/site-packages/pandas/core/indexes/base.py:680\u001b[0m, in \u001b[0;36mIndex._with_infer\u001b[0;34m(cls, *args, **kwargs)\u001b[0m\n\u001b[1;32m    678\u001b[0m \u001b[39mwith\u001b[39;00m warnings\u001b[39m.\u001b[39mcatch_warnings():\n\u001b[1;32m    679\u001b[0m     warnings\u001b[39m.\u001b[39mfilterwarnings(\u001b[39m\"\u001b[39m\u001b[39mignore\u001b[39m\u001b[39m\"\u001b[39m, \u001b[39m\"\u001b[39m\u001b[39m.*the Index constructor\u001b[39m\u001b[39m\"\u001b[39m, \u001b[39mFutureWarning\u001b[39;00m)\n\u001b[0;32m--> 680\u001b[0m     result \u001b[39m=\u001b[39m \u001b[39mcls\u001b[39;49m(\u001b[39m*\u001b[39;49margs, \u001b[39m*\u001b[39;49m\u001b[39m*\u001b[39;49mkwargs)\n\u001b[1;32m    682\u001b[0m \u001b[39mif\u001b[39;00m result\u001b[39m.\u001b[39mdtype \u001b[39m==\u001b[39m _dtype_obj \u001b[39mand\u001b[39;00m \u001b[39mnot\u001b[39;00m result\u001b[39m.\u001b[39m_is_multi:\n\u001b[1;32m    683\u001b[0m     \u001b[39m# error: Argument 1 to \"maybe_convert_objects\" has incompatible type\u001b[39;00m\n\u001b[1;32m    684\u001b[0m     \u001b[39m# \"Union[ExtensionArray, ndarray[Any, Any]]\"; expected\u001b[39;00m\n\u001b[1;32m    685\u001b[0m     \u001b[39m# \"ndarray[Any, Any]\"\u001b[39;00m\n\u001b[1;32m    686\u001b[0m     values \u001b[39m=\u001b[39m lib\u001b[39m.\u001b[39mmaybe_convert_objects(result\u001b[39m.\u001b[39m_values)  \u001b[39m# type: ignore[arg-type]\u001b[39;00m\n",
      "File \u001b[0;32m/Library/Frameworks/Python.framework/Versions/3.10/lib/python3.10/site-packages/pandas/core/indexes/base.py:508\u001b[0m, in \u001b[0;36mIndex.__new__\u001b[0;34m(cls, data, dtype, copy, name, tupleize_cols, **kwargs)\u001b[0m\n\u001b[1;32m    505\u001b[0m     \u001b[39mreturn\u001b[39;00m klass\u001b[39m.\u001b[39m_simple_new(arr, name)\n\u001b[1;32m    507\u001b[0m \u001b[39melif\u001b[39;00m is_scalar(data):\n\u001b[0;32m--> 508\u001b[0m     \u001b[39mraise\u001b[39;00m \u001b[39mcls\u001b[39m\u001b[39m.\u001b[39m_scalar_data_error(data)\n\u001b[1;32m    509\u001b[0m \u001b[39melif\u001b[39;00m \u001b[39mhasattr\u001b[39m(data, \u001b[39m\"\u001b[39m\u001b[39m__array__\u001b[39m\u001b[39m\"\u001b[39m):\n\u001b[1;32m    510\u001b[0m     \u001b[39mreturn\u001b[39;00m Index(np\u001b[39m.\u001b[39masarray(data), dtype\u001b[39m=\u001b[39mdtype, copy\u001b[39m=\u001b[39mcopy, name\u001b[39m=\u001b[39mname, \u001b[39m*\u001b[39m\u001b[39m*\u001b[39mkwargs)\n",
      "\u001b[0;31mTypeError\u001b[0m: Index(...) must be called with a collection of some kind, Timestamp('2022-08-30 00:00:00') was passed"
     ]
    }
   ],
   "source": [
    "def generate_day_data(row):\n",
    "    df = pd.DataFrame(list(row['time_price']), index=row['date'])\n",
    "    \n",
    "    return df\n",
    "print(generate_day_data(df.iloc[0]))"
   ]
  },
  {
   "cell_type": "markdown",
   "metadata": {},
   "source": [
    "<h2>Visualizing Trends In News Sentiment and Stock Prices</h2>\n",
    "\n",
    "<p>Visualizing the data should reveal trends in the prices that make be unintuitive given large sets of numbers. This should provide us with a solid basis for attempting to explore correlations in stock prices and news sentiment.</p>"
   ]
  },
  {
   "cell_type": "markdown",
   "metadata": {},
   "source": [
    "<h3>Plotting Sentiment Versus Price</h3>\n",
    "\n",
    "<p>We begin by exploring the intesnity of sentiment per minute with data to the daily graph of our given stock.</p>"
   ]
  },
  {
   "cell_type": "code",
   "execution_count": 74,
   "metadata": {},
   "outputs": [],
   "source": [
    "\n",
    "def get_data_day(x, dataframe, row):\n",
    "    lst = []\n",
    "    for i in range(x):\n",
    "        lst += dataframe.iloc[i][row]\n",
    "    return lst\n",
    "\n",
    "def get_time_data_day(x, dataframe):\n",
    "    times = []\n",
    "    for i in range(x):\n",
    "        date = dataframe.iloc[i]['date']\n",
    "        for item in dataframe.iloc[i]['time']:\n",
    "            time = item.split(\":\")\n",
    "            times.append(datetime.datetime(date.year,date.month,date.day,int(time[0]),int(time[1])))\n",
    "    return times\n",
    "\n",
    "def plot_x_days_price(x, dataframe, subplot = plt):\n",
    "    lst = get_data_day(x, dataframe, 'price')\n",
    "    times = get_time_data_day(x, dataframe)\n",
    "    subplot.plot(times, lst)\n",
    "\n",
    "\n",
    "def plot_x_days_sentiment(x, subreddit, dataframe, data_gather, subplot = plt):\n",
    "    dct_lst = {}\n",
    "    for point in data_gather.keys():\n",
    "        dct_lst[f'{point}'] = np.array(\n",
    "            [dataframe.iloc[i][subreddit][key][point] for i in range(x) for key in dataframe.iloc[i][subreddit]]).astype(float)\n",
    "        dct_lst[f'{point}'][f'{point}_list'==0] = np.nan\n",
    "    #times = get_time_data_day(x, dataframe)\n",
    "    times = []\n",
    "    for i in range(x):\n",
    "        date = dataframe.iloc[i]['date']\n",
    "        for item in dataframe.iloc[i][subreddit].keys():\n",
    "            time = item.split(\":\")\n",
    "            times.append(datetime.datetime(date.year,date.month,date.day,int(time[0]),int(time[1])))\n",
    "\n",
    "    for key, lst in dct_lst.items():\n",
    "        subplot.bar(times, lst, color = data_gather[key], width=.005)\n",
    "        subplot.bar(times, lst, color = data_gather[key], width=.005)\n",
    "\n",
    "def plot_x_days(x, subreddit, dataframe):\n",
    "    figure, axis = plt.subplots(2,1)\n",
    "    plot_x_days_sentiment(x, subreddit, dataframe, {'neg': 'red','pos':'green'},axis[0])\n",
    "    plot_x_days_price(x, dataframe, axis[1])\n",
    "    #plot_change(1, dataframe, axis[0])\n",
    "\n",
    "\n",
    "def generate_day_frame(row, subreddit):\n",
    "    df = pd.DataFrame.from_dict(row[subreddit], orient='index')\n",
    "    return df\n"
   ]
  },
  {
   "cell_type": "code",
   "execution_count": 77,
   "metadata": {},
   "outputs": [
    {
     "data": {
      "image/png": "[encoded data removed]",
      "text/plain": [
       "<Figure size 432x288 with 2 Axes>"
      ]
     },
     "metadata": {
      "needs_background": "light"
     },
     "output_type": "display_data"
    }
   ],
   "source": [
    "plot_x_days(1,'Economics', df)"
   ]
  },
  {
   "cell_type": "markdown",
   "metadata": {},
   "source": [
    "<p>Now lets explore the relationship between change in price and the sentiment intensities</p>"
   ]
  },
  {
   "cell_type": "code",
   "execution_count": 56,
   "metadata": {},
   "outputs": [],
   "source": [
    "\n",
    "def plot_change(x, dataframe, subplot = plt):\n",
    "    lst = []\n",
    "    times = []\n",
    "    for i in range(x):\n",
    "        date = dataframe.iloc[i]['date']\n",
    "        for item in dataframe.iloc[i]['time']:\n",
    "            time = item.split(\":\")\n",
    "            times.append(datetime.datetime(date.year,date.month,date.day,int(time[0]),int(time[1])))\n",
    "        lst += list(dataframe.iloc[i]['percent_change'])\n",
    "\n",
    "    subplot.plot(times, lst)\n",
    "    #subplot.ylim(-.3, 1)"
   ]
  },
  {
   "cell_type": "markdown",
   "metadata": {},
   "source": [
    "<h3>Initial Hypothesis</h3>\n",
    "<p>blah blah blah</p>"
   ]
  },
  {
   "cell_type": "markdown",
   "metadata": {},
   "source": [
    "<h2>Markov Chains<h2>"
   ]
  },
  {
   "cell_type": "markdown",
   "metadata": {},
   "source": [
    "<h3>Nth Degree Markov Chains<h3>"
   ]
  },
  {
   "cell_type": "markdown",
   "metadata": {},
   "source": [
    "<h3>Optimizing Nth Degree Markov Chains<h3>"
   ]
  },
  {
   "cell_type": "markdown",
   "metadata": {},
   "source": [
    "<h2>Deep Neural Network<h2>"
   ]
  },
  {
   "cell_type": "markdown",
   "metadata": {},
   "source": [
    "<h2>LSTM Networks<h2>"
   ]
  }
 ],
 "metadata": {
  "kernelspec": {
   "display_name": "Python 3.10.2 64-bit",
   "language": "python",
   "name": "python3"
  },
  "language_info": {
   "codemirror_mode": {
    "name": "ipython",
    "version": 3
   },
   "file_extension": ".py",
   "mimetype": "text/x-python",
   "name": "python",
   "nbconvert_exporter": "python",
   "pygments_lexer": "ipython3",
   "version": "3.10.2"
  },
  "orig_nbformat": 4,
  "vscode": {
   "interpreter": {
    "hash": "aee8b7b246df8f9039afb4144a1f6fd8d2ca17a180786b69acc140d282b71a49"
   }
  }
 },
 "nbformat": 4,
 "nbformat_minor": 2
}
