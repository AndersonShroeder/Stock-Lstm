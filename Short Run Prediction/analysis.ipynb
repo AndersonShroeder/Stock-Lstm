{
 "cells": [
  {
   "cell_type": "markdown",
   "metadata": {},
   "source": [
    "<h2>Importing Data<h2>"
   ]
  },
  {
   "cell_type": "code",
   "execution_count": 128,
   "metadata": {},
   "outputs": [],
   "source": [
    "import pandas as pd\n",
    "import matplotlib.pyplot as plt\n",
    "import datetime\n",
    "import numpy as np\n",
    "from helper import plot_x_days\n"
   ]
  },
  {
   "cell_type": "code",
   "execution_count": 129,
   "metadata": {},
   "outputs": [],
   "source": [
    "df1 = pd.read_json('./Datasets/generated_data_Economics.json')\n",
    "df2 = pd.read_csv('./Datasets/VOO.csv')"
   ]
  },
  {
   "cell_type": "markdown",
   "metadata": {},
   "source": [
    "<h3>Preparing The Stock Price Data<h3>"
   ]
  },
  {
   "cell_type": "code",
   "execution_count": 130,
   "metadata": {},
   "outputs": [
    {
     "data": {
      "text/html": [
       "<div>\n",
       "<style scoped>\n",
       "    .dataframe tbody tr th:only-of-type {\n",
       "        vertical-align: middle;\n",
       "    }\n",
       "\n",
       "    .dataframe tbody tr th {\n",
       "        vertical-align: top;\n",
       "    }\n",
       "\n",
       "    .dataframe thead th {\n",
       "        text-align: right;\n",
       "    }\n",
       "</style>\n",
       "<table border=\"1\" class=\"dataframe\">\n",
       "  <thead>\n",
       "    <tr style=\"text-align: right;\">\n",
       "      <th></th>\n",
       "      <th>Unnamed: 0</th>\n",
       "      <th>price</th>\n",
       "      <th>list_time</th>\n",
       "      <th>date</th>\n",
       "      <th>time</th>\n",
       "    </tr>\n",
       "  </thead>\n",
       "  <tbody>\n",
       "    <tr>\n",
       "      <th>0</th>\n",
       "      <td>2022-08-29 09:30:00-04:00</td>\n",
       "      <td>369.648010</td>\n",
       "      <td>[2022-08-29, 09:30:00-04:00]</td>\n",
       "      <td>2022-08-29</td>\n",
       "      <td>09:30:00</td>\n",
       "    </tr>\n",
       "    <tr>\n",
       "      <th>1</th>\n",
       "      <td>2022-08-29 09:31:00-04:00</td>\n",
       "      <td>369.799988</td>\n",
       "      <td>[2022-08-29, 09:31:00-04:00]</td>\n",
       "      <td>2022-08-29</td>\n",
       "      <td>09:31:00</td>\n",
       "    </tr>\n",
       "    <tr>\n",
       "      <th>2</th>\n",
       "      <td>2022-08-29 09:33:00-04:00</td>\n",
       "      <td>370.220001</td>\n",
       "      <td>[2022-08-29, 09:33:00-04:00]</td>\n",
       "      <td>2022-08-29</td>\n",
       "      <td>09:33:00</td>\n",
       "    </tr>\n",
       "    <tr>\n",
       "      <th>3</th>\n",
       "      <td>2022-08-29 09:34:00-04:00</td>\n",
       "      <td>370.549988</td>\n",
       "      <td>[2022-08-29, 09:34:00-04:00]</td>\n",
       "      <td>2022-08-29</td>\n",
       "      <td>09:34:00</td>\n",
       "    </tr>\n",
       "    <tr>\n",
       "      <th>4</th>\n",
       "      <td>2022-08-29 09:35:00-04:00</td>\n",
       "      <td>370.299988</td>\n",
       "      <td>[2022-08-29, 09:35:00-04:00]</td>\n",
       "      <td>2022-08-29</td>\n",
       "      <td>09:35:00</td>\n",
       "    </tr>\n",
       "  </tbody>\n",
       "</table>\n",
       "</div>"
      ],
      "text/plain": [
       "                  Unnamed: 0       price                     list_time  \\\n",
       "0  2022-08-29 09:30:00-04:00  369.648010  [2022-08-29, 09:30:00-04:00]   \n",
       "1  2022-08-29 09:31:00-04:00  369.799988  [2022-08-29, 09:31:00-04:00]   \n",
       "2  2022-08-29 09:33:00-04:00  370.220001  [2022-08-29, 09:33:00-04:00]   \n",
       "3  2022-08-29 09:34:00-04:00  370.549988  [2022-08-29, 09:34:00-04:00]   \n",
       "4  2022-08-29 09:35:00-04:00  370.299988  [2022-08-29, 09:35:00-04:00]   \n",
       "\n",
       "        date      time  \n",
       "0 2022-08-29  09:30:00  \n",
       "1 2022-08-29  09:31:00  \n",
       "2 2022-08-29  09:33:00  \n",
       "3 2022-08-29  09:34:00  \n",
       "4 2022-08-29  09:35:00  "
      ]
     },
     "execution_count": 130,
     "metadata": {},
     "output_type": "execute_result"
    }
   ],
   "source": [
    "df2['list_time'] = df2['Unnamed: 0'].str.split(\" \")\n",
    "df2['date'] = df2['list_time'].str[0]\n",
    "df2['date'] =  pd.to_datetime(df2['date'])\n",
    "df2['time'] = df2['list_time'].str[1].str.split(\"-\").str[0]\n",
    "df2.rename(columns={'Adj Close': 'price'}, inplace=True)\n",
    "df2.head(5)"
   ]
  },
  {
   "cell_type": "code",
   "execution_count": 131,
   "metadata": {},
   "outputs": [
    {
     "data": {
      "text/html": [
       "<div>\n",
       "<style scoped>\n",
       "    .dataframe tbody tr th:only-of-type {\n",
       "        vertical-align: middle;\n",
       "    }\n",
       "\n",
       "    .dataframe tbody tr th {\n",
       "        vertical-align: top;\n",
       "    }\n",
       "\n",
       "    .dataframe thead th {\n",
       "        text-align: right;\n",
       "    }\n",
       "</style>\n",
       "<table border=\"1\" class=\"dataframe\">\n",
       "  <thead>\n",
       "    <tr style=\"text-align: right;\">\n",
       "      <th></th>\n",
       "      <th>date</th>\n",
       "      <th>time</th>\n",
       "      <th>price</th>\n",
       "      <th>time_price</th>\n",
       "    </tr>\n",
       "  </thead>\n",
       "  <tbody>\n",
       "    <tr>\n",
       "      <th>0</th>\n",
       "      <td>2022-08-29</td>\n",
       "      <td>[09:30:00, 09:31:00, 09:33:00, 09:34:00, 09:35...</td>\n",
       "      <td>[369.6480102539063, 369.7999877929688, 370.220...</td>\n",
       "      <td>{'09:30:00': 369.6480102539063, '09:31:00': 36...</td>\n",
       "    </tr>\n",
       "    <tr>\n",
       "      <th>1</th>\n",
       "      <td>2022-08-30</td>\n",
       "      <td>[09:30:00, 09:31:00, 09:32:00, 09:33:00, 09:34...</td>\n",
       "      <td>[371.2200012207031, 370.760009765625, 371.0400...</td>\n",
       "      <td>{'09:30:00': 371.2200012207031, '09:31:00': 37...</td>\n",
       "    </tr>\n",
       "    <tr>\n",
       "      <th>2</th>\n",
       "      <td>2022-08-31</td>\n",
       "      <td>[09:30:00, 09:31:00, 09:32:00, 09:33:00, 09:34...</td>\n",
       "      <td>[367.0400085449219, 367.0700073242188, 366.660...</td>\n",
       "      <td>{'09:30:00': 367.0400085449219, '09:31:00': 36...</td>\n",
       "    </tr>\n",
       "    <tr>\n",
       "      <th>3</th>\n",
       "      <td>2022-09-01</td>\n",
       "      <td>[09:30:00, 09:31:00, 09:32:00, 09:33:00, 09:34...</td>\n",
       "      <td>[361.5299987792969, 360.8349914550781, 360.959...</td>\n",
       "      <td>{'09:30:00': 361.5299987792969, '09:31:00': 36...</td>\n",
       "    </tr>\n",
       "    <tr>\n",
       "      <th>4</th>\n",
       "      <td>2022-09-02</td>\n",
       "      <td>[09:30:00, 09:31:00, 09:32:00, 09:33:00, 09:34...</td>\n",
       "      <td>[367.3999938964844, 366.8800048828125, 366.709...</td>\n",
       "      <td>{'09:30:00': 367.3999938964844, '09:31:00': 36...</td>\n",
       "    </tr>\n",
       "  </tbody>\n",
       "</table>\n",
       "</div>"
      ],
      "text/plain": [
       "        date                                               time  \\\n",
       "0 2022-08-29  [09:30:00, 09:31:00, 09:33:00, 09:34:00, 09:35...   \n",
       "1 2022-08-30  [09:30:00, 09:31:00, 09:32:00, 09:33:00, 09:34...   \n",
       "2 2022-08-31  [09:30:00, 09:31:00, 09:32:00, 09:33:00, 09:34...   \n",
       "3 2022-09-01  [09:30:00, 09:31:00, 09:32:00, 09:33:00, 09:34...   \n",
       "4 2022-09-02  [09:30:00, 09:31:00, 09:32:00, 09:33:00, 09:34...   \n",
       "\n",
       "                                               price  \\\n",
       "0  [369.6480102539063, 369.7999877929688, 370.220...   \n",
       "1  [371.2200012207031, 370.760009765625, 371.0400...   \n",
       "2  [367.0400085449219, 367.0700073242188, 366.660...   \n",
       "3  [361.5299987792969, 360.8349914550781, 360.959...   \n",
       "4  [367.3999938964844, 366.8800048828125, 366.709...   \n",
       "\n",
       "                                          time_price  \n",
       "0  {'09:30:00': 369.6480102539063, '09:31:00': 36...  \n",
       "1  {'09:30:00': 371.2200012207031, '09:31:00': 37...  \n",
       "2  {'09:30:00': 367.0400085449219, '09:31:00': 36...  \n",
       "3  {'09:30:00': 361.5299987792969, '09:31:00': 36...  \n",
       "4  {'09:30:00': 367.3999938964844, '09:31:00': 36...  "
      ]
     },
     "execution_count": 131,
     "metadata": {},
     "output_type": "execute_result"
    }
   ],
   "source": [
    "df2 = df2[['date', 'time', 'price']]\n",
    "df2 = df2.groupby('date').agg(list)\n",
    "df2['time_price'] = df2.apply(lambda row : dict(zip(row[0],row[1])), axis=1)\n",
    "df2.reset_index(inplace=True)\n",
    "df2.head()"
   ]
  },
  {
   "cell_type": "markdown",
   "metadata": {},
   "source": [
    "<h3>Merging The Sentiment Data And Stock Price Data<h3>"
   ]
  },
  {
   "cell_type": "code",
   "execution_count": 132,
   "metadata": {},
   "outputs": [
    {
     "data": {
      "text/html": [
       "<div>\n",
       "<style scoped>\n",
       "    .dataframe tbody tr th:only-of-type {\n",
       "        vertical-align: middle;\n",
       "    }\n",
       "\n",
       "    .dataframe tbody tr th {\n",
       "        vertical-align: top;\n",
       "    }\n",
       "\n",
       "    .dataframe thead th {\n",
       "        text-align: right;\n",
       "    }\n",
       "</style>\n",
       "<table border=\"1\" class=\"dataframe\">\n",
       "  <thead>\n",
       "    <tr style=\"text-align: right;\">\n",
       "      <th></th>\n",
       "      <th>date</th>\n",
       "      <th>Economics</th>\n",
       "    </tr>\n",
       "  </thead>\n",
       "  <tbody>\n",
       "    <tr>\n",
       "      <th>0</th>\n",
       "      <td>2022-08-30</td>\n",
       "      <td>{'10:58:00': {'polarity': 0.0, 'subjectivity':...</td>\n",
       "    </tr>\n",
       "    <tr>\n",
       "      <th>1</th>\n",
       "      <td>2022-08-31</td>\n",
       "      <td>{'00:00:00': {'polarity': 0.0, 'subjectivity':...</td>\n",
       "    </tr>\n",
       "    <tr>\n",
       "      <th>2</th>\n",
       "      <td>2022-09-01</td>\n",
       "      <td>{'00:18:00': {'polarity': 0.0, 'subjectivity':...</td>\n",
       "    </tr>\n",
       "    <tr>\n",
       "      <th>3</th>\n",
       "      <td>2022-09-02</td>\n",
       "      <td>{'00:01:00': {'polarity': 0.8, 'subjectivity':...</td>\n",
       "    </tr>\n",
       "    <tr>\n",
       "      <th>4</th>\n",
       "      <td>2022-09-03</td>\n",
       "      <td>{'00:02:00': {'polarity': 0.0, 'subjectivity':...</td>\n",
       "    </tr>\n",
       "  </tbody>\n",
       "</table>\n",
       "</div>"
      ],
      "text/plain": [
       "        date                                          Economics\n",
       "0 2022-08-30  {'10:58:00': {'polarity': 0.0, 'subjectivity':...\n",
       "1 2022-08-31  {'00:00:00': {'polarity': 0.0, 'subjectivity':...\n",
       "2 2022-09-01  {'00:18:00': {'polarity': 0.0, 'subjectivity':...\n",
       "3 2022-09-02  {'00:01:00': {'polarity': 0.8, 'subjectivity':...\n",
       "4 2022-09-03  {'00:02:00': {'polarity': 0.0, 'subjectivity':..."
      ]
     },
     "execution_count": 132,
     "metadata": {},
     "output_type": "execute_result"
    }
   ],
   "source": [
    "df1.reset_index(inplace=True)\n",
    "df1.rename(columns={'index': 'date'}, inplace=True)\n",
    "df1.head()"
   ]
  },
  {
   "cell_type": "code",
   "execution_count": 133,
   "metadata": {},
   "outputs": [
    {
     "data": {
      "text/html": [
       "<div>\n",
       "<style scoped>\n",
       "    .dataframe tbody tr th:only-of-type {\n",
       "        vertical-align: middle;\n",
       "    }\n",
       "\n",
       "    .dataframe tbody tr th {\n",
       "        vertical-align: top;\n",
       "    }\n",
       "\n",
       "    .dataframe thead th {\n",
       "        text-align: right;\n",
       "    }\n",
       "</style>\n",
       "<table border=\"1\" class=\"dataframe\">\n",
       "  <thead>\n",
       "    <tr style=\"text-align: right;\">\n",
       "      <th></th>\n",
       "      <th>date</th>\n",
       "      <th>Economics</th>\n",
       "      <th>time</th>\n",
       "      <th>price</th>\n",
       "      <th>time_price</th>\n",
       "    </tr>\n",
       "  </thead>\n",
       "  <tbody>\n",
       "    <tr>\n",
       "      <th>0</th>\n",
       "      <td>2022-08-30</td>\n",
       "      <td>{'10:58:00': {'polarity': 0.0, 'subjectivity':...</td>\n",
       "      <td>[09:30:00, 09:31:00, 09:32:00, 09:33:00, 09:34...</td>\n",
       "      <td>[371.2200012207031, 370.760009765625, 371.0400...</td>\n",
       "      <td>{'09:30:00': 371.2200012207031, '09:31:00': 37...</td>\n",
       "    </tr>\n",
       "    <tr>\n",
       "      <th>1</th>\n",
       "      <td>2022-08-31</td>\n",
       "      <td>{'00:00:00': {'polarity': 0.0, 'subjectivity':...</td>\n",
       "      <td>[09:30:00, 09:31:00, 09:32:00, 09:33:00, 09:34...</td>\n",
       "      <td>[367.0400085449219, 367.0700073242188, 366.660...</td>\n",
       "      <td>{'09:30:00': 367.0400085449219, '09:31:00': 36...</td>\n",
       "    </tr>\n",
       "    <tr>\n",
       "      <th>2</th>\n",
       "      <td>2022-09-01</td>\n",
       "      <td>{'00:18:00': {'polarity': 0.0, 'subjectivity':...</td>\n",
       "      <td>[09:30:00, 09:31:00, 09:32:00, 09:33:00, 09:34...</td>\n",
       "      <td>[361.5299987792969, 360.8349914550781, 360.959...</td>\n",
       "      <td>{'09:30:00': 361.5299987792969, '09:31:00': 36...</td>\n",
       "    </tr>\n",
       "    <tr>\n",
       "      <th>3</th>\n",
       "      <td>2022-09-02</td>\n",
       "      <td>{'00:01:00': {'polarity': 0.8, 'subjectivity':...</td>\n",
       "      <td>[09:30:00, 09:31:00, 09:32:00, 09:33:00, 09:34...</td>\n",
       "      <td>[367.3999938964844, 366.8800048828125, 366.709...</td>\n",
       "      <td>{'09:30:00': 367.3999938964844, '09:31:00': 36...</td>\n",
       "    </tr>\n",
       "    <tr>\n",
       "      <th>7</th>\n",
       "      <td>2022-09-06</td>\n",
       "      <td>{'00:00:00': {'polarity': 0.0, 'subjectivity':...</td>\n",
       "      <td>[09:30:00, 09:31:00, 09:32:00, 09:33:00, 09:34...</td>\n",
       "      <td>[362.0299987792969, 361.6700134277344, 361.609...</td>\n",
       "      <td>{'09:30:00': 362.0299987792969, '09:31:00': 36...</td>\n",
       "    </tr>\n",
       "  </tbody>\n",
       "</table>\n",
       "</div>"
      ],
      "text/plain": [
       "        date                                          Economics  \\\n",
       "0 2022-08-30  {'10:58:00': {'polarity': 0.0, 'subjectivity':...   \n",
       "1 2022-08-31  {'00:00:00': {'polarity': 0.0, 'subjectivity':...   \n",
       "2 2022-09-01  {'00:18:00': {'polarity': 0.0, 'subjectivity':...   \n",
       "3 2022-09-02  {'00:01:00': {'polarity': 0.8, 'subjectivity':...   \n",
       "7 2022-09-06  {'00:00:00': {'polarity': 0.0, 'subjectivity':...   \n",
       "\n",
       "                                                time  \\\n",
       "0  [09:30:00, 09:31:00, 09:32:00, 09:33:00, 09:34...   \n",
       "1  [09:30:00, 09:31:00, 09:32:00, 09:33:00, 09:34...   \n",
       "2  [09:30:00, 09:31:00, 09:32:00, 09:33:00, 09:34...   \n",
       "3  [09:30:00, 09:31:00, 09:32:00, 09:33:00, 09:34...   \n",
       "7  [09:30:00, 09:31:00, 09:32:00, 09:33:00, 09:34...   \n",
       "\n",
       "                                               price  \\\n",
       "0  [371.2200012207031, 370.760009765625, 371.0400...   \n",
       "1  [367.0400085449219, 367.0700073242188, 366.660...   \n",
       "2  [361.5299987792969, 360.8349914550781, 360.959...   \n",
       "3  [367.3999938964844, 366.8800048828125, 366.709...   \n",
       "7  [362.0299987792969, 361.6700134277344, 361.609...   \n",
       "\n",
       "                                          time_price  \n",
       "0  {'09:30:00': 371.2200012207031, '09:31:00': 37...  \n",
       "1  {'09:30:00': 367.0400085449219, '09:31:00': 36...  \n",
       "2  {'09:30:00': 361.5299987792969, '09:31:00': 36...  \n",
       "3  {'09:30:00': 367.3999938964844, '09:31:00': 36...  \n",
       "7  {'09:30:00': 362.0299987792969, '09:31:00': 36...  "
      ]
     },
     "execution_count": 133,
     "metadata": {},
     "output_type": "execute_result"
    }
   ],
   "source": [
    "df = pd.merge(df1, df2, how='outer', on='date')\n",
    "df['date'] =  pd.to_datetime(df['date'])\n",
    "df.dropna(inplace=True)\n",
    "df.head()"
   ]
  },
  {
   "cell_type": "markdown",
   "metadata": {},
   "source": [
    "<h3>Determining Percent Change In Price<h3>"
   ]
  },
  {
   "cell_type": "code",
   "execution_count": 134,
   "metadata": {},
   "outputs": [
    {
     "data": {
      "text/html": [
       "<div>\n",
       "<style scoped>\n",
       "    .dataframe tbody tr th:only-of-type {\n",
       "        vertical-align: middle;\n",
       "    }\n",
       "\n",
       "    .dataframe tbody tr th {\n",
       "        vertical-align: top;\n",
       "    }\n",
       "\n",
       "    .dataframe thead th {\n",
       "        text-align: right;\n",
       "    }\n",
       "</style>\n",
       "<table border=\"1\" class=\"dataframe\">\n",
       "  <thead>\n",
       "    <tr style=\"text-align: right;\">\n",
       "      <th></th>\n",
       "      <th>date</th>\n",
       "      <th>Economics</th>\n",
       "      <th>time</th>\n",
       "      <th>price</th>\n",
       "      <th>time_price</th>\n",
       "      <th>price_diff</th>\n",
       "      <th>percent_change</th>\n",
       "    </tr>\n",
       "  </thead>\n",
       "  <tbody>\n",
       "    <tr>\n",
       "      <th>0</th>\n",
       "      <td>2022-08-30</td>\n",
       "      <td>{'10:58:00': {'polarity': 0.0, 'subjectivity':...</td>\n",
       "      <td>[09:30:00, 09:31:00, 09:32:00, 09:33:00, 09:34...</td>\n",
       "      <td>[371.2200012207031, 370.760009765625, 371.0400...</td>\n",
       "      <td>{'09:30:00': 371.2200012207031, '09:31:00': 37...</td>\n",
       "      <td>[0.459991455078125, -0.279998779296875, -0.119...</td>\n",
       "      <td>[0.1239134350426997, -0.07552022114625456, -0....</td>\n",
       "    </tr>\n",
       "    <tr>\n",
       "      <th>1</th>\n",
       "      <td>2022-08-31</td>\n",
       "      <td>{'00:00:00': {'polarity': 0.0, 'subjectivity':...</td>\n",
       "      <td>[09:30:00, 09:31:00, 09:32:00, 09:33:00, 09:34...</td>\n",
       "      <td>[367.0400085449219, 367.0700073242188, 366.660...</td>\n",
       "      <td>{'09:30:00': 367.0400085449219, '09:31:00': 36...</td>\n",
       "      <td>[-0.029998779296931843, 0.41000366210943184, -...</td>\n",
       "      <td>[-0.008173163306054224, 0.11169631240050933, -...</td>\n",
       "    </tr>\n",
       "    <tr>\n",
       "      <th>2</th>\n",
       "      <td>2022-09-01</td>\n",
       "      <td>{'00:18:00': {'polarity': 0.0, 'subjectivity':...</td>\n",
       "      <td>[09:30:00, 09:31:00, 09:32:00, 09:33:00, 09:34...</td>\n",
       "      <td>[361.5299987792969, 360.8349914550781, 360.959...</td>\n",
       "      <td>{'09:30:00': 361.5299987792969, '09:31:00': 36...</td>\n",
       "      <td>[0.69500732421875, -0.125, 0.3800048828125, 0....</td>\n",
       "      <td>[0.1922405682973575, -0.034641873144268434, 0....</td>\n",
       "    </tr>\n",
       "    <tr>\n",
       "      <th>3</th>\n",
       "      <td>2022-09-02</td>\n",
       "      <td>{'00:01:00': {'polarity': 0.8, 'subjectivity':...</td>\n",
       "      <td>[09:30:00, 09:31:00, 09:32:00, 09:33:00, 09:34...</td>\n",
       "      <td>[367.3999938964844, 366.8800048828125, 366.709...</td>\n",
       "      <td>{'09:30:00': 367.3999938964844, '09:31:00': 36...</td>\n",
       "      <td>[0.519989013671875, 0.170013427734375, 0.19998...</td>\n",
       "      <td>[0.14153212365550089, 0.04634033620575209, 0.0...</td>\n",
       "    </tr>\n",
       "    <tr>\n",
       "      <th>7</th>\n",
       "      <td>2022-09-06</td>\n",
       "      <td>{'00:00:00': {'polarity': 0.0, 'subjectivity':...</td>\n",
       "      <td>[09:30:00, 09:31:00, 09:32:00, 09:33:00, 09:34...</td>\n",
       "      <td>[362.0299987792969, 361.6700134277344, 361.609...</td>\n",
       "      <td>{'09:30:00': 362.0299987792969, '09:31:00': 36...</td>\n",
       "      <td>[0.3599853515625, 0.060028076171875, 0.1149902...</td>\n",
       "      <td>[0.09943522712932877, 0.016597471159678894, 0....</td>\n",
       "    </tr>\n",
       "  </tbody>\n",
       "</table>\n",
       "</div>"
      ],
      "text/plain": [
       "        date                                          Economics  \\\n",
       "0 2022-08-30  {'10:58:00': {'polarity': 0.0, 'subjectivity':...   \n",
       "1 2022-08-31  {'00:00:00': {'polarity': 0.0, 'subjectivity':...   \n",
       "2 2022-09-01  {'00:18:00': {'polarity': 0.0, 'subjectivity':...   \n",
       "3 2022-09-02  {'00:01:00': {'polarity': 0.8, 'subjectivity':...   \n",
       "7 2022-09-06  {'00:00:00': {'polarity': 0.0, 'subjectivity':...   \n",
       "\n",
       "                                                time  \\\n",
       "0  [09:30:00, 09:31:00, 09:32:00, 09:33:00, 09:34...   \n",
       "1  [09:30:00, 09:31:00, 09:32:00, 09:33:00, 09:34...   \n",
       "2  [09:30:00, 09:31:00, 09:32:00, 09:33:00, 09:34...   \n",
       "3  [09:30:00, 09:31:00, 09:32:00, 09:33:00, 09:34...   \n",
       "7  [09:30:00, 09:31:00, 09:32:00, 09:33:00, 09:34...   \n",
       "\n",
       "                                               price  \\\n",
       "0  [371.2200012207031, 370.760009765625, 371.0400...   \n",
       "1  [367.0400085449219, 367.0700073242188, 366.660...   \n",
       "2  [361.5299987792969, 360.8349914550781, 360.959...   \n",
       "3  [367.3999938964844, 366.8800048828125, 366.709...   \n",
       "7  [362.0299987792969, 361.6700134277344, 361.609...   \n",
       "\n",
       "                                          time_price  \\\n",
       "0  {'09:30:00': 371.2200012207031, '09:31:00': 37...   \n",
       "1  {'09:30:00': 367.0400085449219, '09:31:00': 36...   \n",
       "2  {'09:30:00': 361.5299987792969, '09:31:00': 36...   \n",
       "3  {'09:30:00': 367.3999938964844, '09:31:00': 36...   \n",
       "7  {'09:30:00': 362.0299987792969, '09:31:00': 36...   \n",
       "\n",
       "                                          price_diff  \\\n",
       "0  [0.459991455078125, -0.279998779296875, -0.119...   \n",
       "1  [-0.029998779296931843, 0.41000366210943184, -...   \n",
       "2  [0.69500732421875, -0.125, 0.3800048828125, 0....   \n",
       "3  [0.519989013671875, 0.170013427734375, 0.19998...   \n",
       "7  [0.3599853515625, 0.060028076171875, 0.1149902...   \n",
       "\n",
       "                                      percent_change  \n",
       "0  [0.1239134350426997, -0.07552022114625456, -0....  \n",
       "1  [-0.008173163306054224, 0.11169631240050933, -...  \n",
       "2  [0.1922405682973575, -0.034641873144268434, 0....  \n",
       "3  [0.14153212365550089, 0.04634033620575209, 0.0...  \n",
       "7  [0.09943522712932877, 0.016597471159678894, 0....  "
      ]
     },
     "execution_count": 134,
     "metadata": {},
     "output_type": "execute_result"
    }
   ],
   "source": [
    "def generate_price_dif(row):\n",
    "    prices = np.asarray(row['price'])\n",
    "    price_shift = np.asarray(row['price'][1:] + row['price'][0:1])\n",
    "    delta_price = prices-price_shift\n",
    "    percent_change = delta_price/prices\n",
    "    return delta_price\n",
    "\n",
    "df['price_diff']  = df.apply(lambda row: generate_price_dif(row), axis=1)\n",
    "df['percent_change'] = df.apply(lambda row: (row['price_diff']/np.asarray(row['price'])) * 100, axis= 1)\n",
    "df.head()"
   ]
  },
  {
   "cell_type": "markdown",
   "metadata": {},
   "source": [
    "<h2>Visualizing Trends In News Sentiment and Stock Prices</h2>\n",
    "\n",
    "<p>Visualizing the data should reveal trends in the prices that make be unintuitive given large sets of numbers. This should provide us with a solid basis for attempting to explore correlations in stock prices and news sentiment.</p>"
   ]
  },
  {
   "cell_type": "markdown",
   "metadata": {},
   "source": [
    "<h3>Plotting Sentiment Versus Price</h3>\n",
    "\n",
    "<p>We begin by exploring the intesnity of sentiment per minute with data to the daily graph of our given stock.</p>"
   ]
  },
  {
   "cell_type": "code",
   "execution_count": 142,
   "metadata": {},
   "outputs": [
    {
     "ename": "AttributeError",
     "evalue": "'numpy.int64' object has no attribute 'year'",
     "output_type": "error",
     "traceback": [
      "\u001b[0;31m---------------------------------------------------------------------------\u001b[0m",
      "\u001b[0;31mAttributeError\u001b[0m                            Traceback (most recent call last)",
      "\u001b[1;32m/Users/andersonschroeder/Documents/Stock-Lstm/Short Run Prediction/analysis.ipynb Cell 15\u001b[0m in \u001b[0;36m<cell line: 1>\u001b[0;34m()\u001b[0m\n\u001b[0;32m----> <a href='vscode-notebook-cell:/Users/andersonschroeder/Documents/Stock-Lstm/Short%20Run%20Prediction/analysis.ipynb#ch0000010?line=0'>1</a>\u001b[0m plot_x_days(\u001b[39m1\u001b[39;49m,\u001b[39m'\u001b[39;49m\u001b[39mEconomics\u001b[39;49m\u001b[39m'\u001b[39;49m, df)\n",
      "File \u001b[0;32m~/Documents/Stock-Lstm/Short Run Prediction/helper.py:38\u001b[0m, in \u001b[0;36mplot_x_days\u001b[0;34m(x, subreddit, dataframe)\u001b[0m\n\u001b[1;32m     36\u001b[0m \u001b[39mdef\u001b[39;00m \u001b[39mplot_x_days\u001b[39m(x, subreddit, dataframe):\n\u001b[1;32m     37\u001b[0m     figure, axis \u001b[39m=\u001b[39m plt\u001b[39m.\u001b[39msubplots(\u001b[39m2\u001b[39m,\u001b[39m1\u001b[39m)\n\u001b[0;32m---> 38\u001b[0m     plot_x_days_sentiment(x, subreddit, dataframe, {\u001b[39m'\u001b[39;49m\u001b[39mneg\u001b[39;49m\u001b[39m'\u001b[39;49m: \u001b[39m'\u001b[39;49m\u001b[39mred\u001b[39;49m\u001b[39m'\u001b[39;49m,\u001b[39m'\u001b[39;49m\u001b[39mpos\u001b[39;49m\u001b[39m'\u001b[39;49m:\u001b[39m'\u001b[39;49m\u001b[39mgreen\u001b[39;49m\u001b[39m'\u001b[39;49m},axis[\u001b[39m0\u001b[39;49m])\n\u001b[1;32m     39\u001b[0m     plot_x_days_stock(x, dataframe, axis[\u001b[39m1\u001b[39m])\n",
      "File \u001b[0;32m~/Documents/Stock-Lstm/Short Run Prediction/helper.py:30\u001b[0m, in \u001b[0;36mplot_x_days_sentiment\u001b[0;34m(x, subreddit, dataframe, data_gather, subplot)\u001b[0m\n\u001b[1;32m     28\u001b[0m     \u001b[39mfor\u001b[39;00m key \u001b[39min\u001b[39;00m dataframe\u001b[39m.\u001b[39miloc[i][subreddit]:\n\u001b[1;32m     29\u001b[0m         time \u001b[39m=\u001b[39m key\u001b[39m.\u001b[39msplit(\u001b[39m\"\u001b[39m\u001b[39m:\u001b[39m\u001b[39m\"\u001b[39m)\n\u001b[0;32m---> 30\u001b[0m         y_vals\u001b[39m.\u001b[39mappend(datetime\u001b[39m.\u001b[39mdatetime(date\u001b[39m.\u001b[39;49myear,date\u001b[39m.\u001b[39mmonth,date\u001b[39m.\u001b[39mday,\u001b[39mint\u001b[39m(time[\u001b[39m0\u001b[39m]),\u001b[39mint\u001b[39m(time[\u001b[39m1\u001b[39m])))\n\u001b[1;32m     32\u001b[0m \u001b[39mfor\u001b[39;00m key, \u001b[39mlist\u001b[39m \u001b[39min\u001b[39;00m dct_lst\u001b[39m.\u001b[39mitems():\n\u001b[1;32m     33\u001b[0m     subplot\u001b[39m.\u001b[39mbar(y_vals, \u001b[39mlist\u001b[39m, color \u001b[39m=\u001b[39m data_gather[key], width\u001b[39m=\u001b[39m\u001b[39m.005\u001b[39m)\n",
      "\u001b[0;31mAttributeError\u001b[0m: 'numpy.int64' object has no attribute 'year'"
     ]
    },
    {
     "data": {
      "image/png": "[encoded data removed]",
      "text/plain": [
       "<Figure size 432x288 with 2 Axes>"
      ]
     },
     "metadata": {
      "needs_background": "light"
     },
     "output_type": "display_data"
    }
   ],
   "source": [
    "plot_x_days(1,'Economics', df)"
   ]
  },
  {
   "cell_type": "markdown",
   "metadata": {},
   "source": [
    "<p>Now lets explore the relationship between change in price and the sentiment intensities</p>"
   ]
  },
  {
   "cell_type": "code",
   "execution_count": null,
   "metadata": {},
   "outputs": [],
   "source": [
    "\n",
    "def plot_change(x, dataframe, subplot = plt):\n",
    "    lst = []\n",
    "    times = []\n",
    "    for i in range(x):\n",
    "        date = dataframe.iloc[i]['date']\n",
    "        for item in dataframe.iloc[i]['time']:\n",
    "            time = item.split(\":\")\n",
    "            times.append(datetime.datetime(date.year,date.month,date.day,int(time[0]),int(time[1])))\n",
    "        lst += list(dataframe.iloc[i]['percent_change'])\n",
    "\n",
    "    subplot.plot(times, lst)\n",
    "    #subplot.ylim(-.3, 1)"
   ]
  },
  {
   "cell_type": "markdown",
   "metadata": {},
   "source": [
    "<h3>Initial Hypothesis</h3>\n",
    "<p>blah blah blah</p>"
   ]
  },
  {
   "cell_type": "markdown",
   "metadata": {},
   "source": [
    "<h2>Markov Chains<h2>"
   ]
  },
  {
   "cell_type": "markdown",
   "metadata": {},
   "source": [
    "<h3>Nth Degree Markov Chains<h3>"
   ]
  },
  {
   "cell_type": "markdown",
   "metadata": {},
   "source": [
    "<h3>Optimizing Nth Degree Markov Chains<h3>"
   ]
  },
  {
   "cell_type": "markdown",
   "metadata": {},
   "source": [
    "<h2>Deep Neural Network<h2>"
   ]
  },
  {
   "cell_type": "markdown",
   "metadata": {},
   "source": [
    "<h2>LSTM Networks<h2>"
   ]
  }
 ],
 "metadata": {
  "kernelspec": {
   "display_name": "Python 3.10.2 64-bit",
   "language": "python",
   "name": "python3"
  },
  "language_info": {
   "codemirror_mode": {
    "name": "ipython",
    "version": 3
   },
   "file_extension": ".py",
   "mimetype": "text/x-python",
   "name": "python",
   "nbconvert_exporter": "python",
   "pygments_lexer": "ipython3",
   "version": "3.10.2"
  },
  "orig_nbformat": 4,
  "vscode": {
   "interpreter": {
    "hash": "aee8b7b246df8f9039afb4144a1f6fd8d2ca17a180786b69acc140d282b71a49"
   }
  }
 },
 "nbformat": 4,
 "nbformat_minor": 2
}
